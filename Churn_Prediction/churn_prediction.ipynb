{
 "cells": [
  {
   "cell_type": "markdown",
   "id": "349fa6e3-b82d-4db4-a815-c72d8f794e69",
   "metadata": {},
   "source": [
    "#  Прогнозирование оттока телеком компании"
   ]
  },
  {
   "cell_type": "markdown",
   "id": "498274f1-3af6-418f-bd21-2b0929ceccf7",
   "metadata": {},
   "source": [
    "Оператор связи «Ниединогоразрыва.ком» хочет научиться прогнозировать отток клиентов. Команда оператора собрала персональные данные о некоторых клиентах, информацию об их тарифах и договорах. \n",
    "\n",
    "Оператор предоставляет два основных типа услуг: \n",
    "- Стационарную телефонную связь. Возможно подключение телефонного аппарата к нескольким линиям одновременно.\n",
    "- Интернет. Подключение может быть двух типов: через телефонную линию (DSL, от англ. digital subscriber line, «цифровая абонентская линия») или оптоволоконный кабель (Fiber optic).\n",
    "\n",
    "Также доступны такие услуги:\n",
    "- Интернет-безопасность: антивирус (DeviceProtection) и блокировка небезопасных сайтов (OnlineSecurity);\n",
    "- Выделенная линия технической поддержки (TechSupport);\n",
    "- Облачное хранилище файлов для резервного копирования данных (OnlineBackup);\n",
    "- Стриминговое телевидение (StreamingTV) и каталог фильмов (StreamingMovies).\n",
    "\n",
    "За услуги клиенты могут платить каждый месяц или заключить договор на 1–2 года. Доступны различные способы расчёта и возможность получения электронного чека.\n",
    "\n",
    "Компания планирует минимизировать отток клиентов путем предоставления специальных условий для категории лиц, потенциально решивших прекратить сотрудничество с ними. Таким образом, целью данной работы является создание модели, которая сможет определять данную группу лиц с точностью не менее 0.85 ROC-AUC. Финальной задачей же является минимизация оттока клиентов для получения большей выручки. "
   ]
  },
  {
   "cell_type": "markdown",
   "id": "413fe4dd",
   "metadata": {},
   "source": [
    "# План выполнения проекта:"
   ]
  },
  {
   "cell_type": "markdown",
   "id": "521e304a",
   "metadata": {},
   "source": [
    "1. *Предварительная обработка данных*\n",
    "- Изучение каждого датафрейма, определение количества пропущенных значений, изучение типов данных, содержащихся в нем, и проверка их соответсвия характеру столбца;\n",
    "- Изучение распределения значений, при необходимости, построение графиков;\n",
    "- Внесение изменений при обнаружении какого-либо несоответствия или, например, удаление аномальных значений, обнаруженных на прошлом этапе;\n",
    "- Объединение датафреймов;\n",
    "2. Исследовательский анализ данных\n",
    "- Определение целевого признака\n",
    "- Исследовательский анализ признаков\n",
    "- Исследование корреляции признаков, построение матрицы корреляции и определение финальных признаков\n",
    "3. *Обучение модели*\n",
    "- Разделение выборки на тренировочную и тестовую (в данном случае не используется валидационная выборка, так как проверка будет осуществляться кросс-валидацией)\n",
    "- Кодирование категориальных признаков;\n",
    "- Обучение модели леса деревьев  \n",
    "- Обучении модели CatBoost\n",
    "- Сравнение финальных метрик ROC-AUC и accuracy после кроссвалидации и определение наиболее подходящей модели\n",
    "5. *Тестирование модели*\n",
    "- Использование модели, выбранной на прошлом шаге, на тестовых данных\n",
    "- Определение финальных значений ROC-AUC и Accuracy, проверка их соответсвия условию\n",
    "6. *Вывод*\n",
    "- Общий вывод."
   ]
  },
  {
   "cell_type": "markdown",
   "id": "ac142b38-5262-4630-b6b5-570c55ac9481",
   "metadata": {},
   "source": [
    "## Импорт библиотек"
   ]
  },
  {
   "cell_type": "code",
   "execution_count": 3,
   "id": "0a3931ae-a636-4f5f-95d2-3dee3d2d1b1b",
   "metadata": {},
   "outputs": [],
   "source": [
    "import pandas as pd\n",
    "import numpy as np\n",
    "import matplotlib.pyplot as plt\n",
    "import seaborn as sns\n",
    "from phik import phik_matrix\n",
    "from sklearn.model_selection import train_test_split, RandomizedSearchCV\n",
    "from sklearn.preprocessing import OneHotEncoder,StandardScaler\n",
    "from sklearn.metrics import roc_auc_score, accuracy_score\n",
    "from catboost import CatBoostClassifier\n",
    "from sklearn.ensemble import RandomForestClassifier\n",
    "from sklearn.metrics import make_scorer, roc_auc_score, accuracy_score"
   ]
  },
  {
   "cell_type": "markdown",
   "id": "41edda57-197f-4224-be1e-f29e2aa9f071",
   "metadata": {},
   "source": [
    "## Предварительная обработка данных "
   ]
  },
  {
   "cell_type": "markdown",
   "id": "d0a6f3d1-96bc-433b-907e-af03aa0802b2",
   "metadata": {},
   "source": [
    "В первую очередь, загрузим каждый датасет и выведем общую информацию о нем:"
   ]
  },
  {
   "cell_type": "markdown",
   "id": "aca43c94-1943-4c0e-a95a-398d577d1c62",
   "metadata": {},
   "source": [
    "### personal_new"
   ]
  },
  {
   "cell_type": "code",
   "execution_count": 4,
   "id": "5a80fcba-117f-421d-b67a-f9feaf528c58",
   "metadata": {
    "tags": []
   },
   "outputs": [
    {
     "data": {
      "text/html": [
       "<div>\n",
       "<style scoped>\n",
       "    .dataframe tbody tr th:only-of-type {\n",
       "        vertical-align: middle;\n",
       "    }\n",
       "\n",
       "    .dataframe tbody tr th {\n",
       "        vertical-align: top;\n",
       "    }\n",
       "\n",
       "    .dataframe thead th {\n",
       "        text-align: right;\n",
       "    }\n",
       "</style>\n",
       "<table border=\"1\" class=\"dataframe\">\n",
       "  <thead>\n",
       "    <tr style=\"text-align: right;\">\n",
       "      <th></th>\n",
       "      <th>customerID</th>\n",
       "      <th>gender</th>\n",
       "      <th>SeniorCitizen</th>\n",
       "      <th>Partner</th>\n",
       "      <th>Dependents</th>\n",
       "    </tr>\n",
       "  </thead>\n",
       "  <tbody>\n",
       "    <tr>\n",
       "      <th>0</th>\n",
       "      <td>7590-VHVEG</td>\n",
       "      <td>Female</td>\n",
       "      <td>0</td>\n",
       "      <td>Yes</td>\n",
       "      <td>No</td>\n",
       "    </tr>\n",
       "    <tr>\n",
       "      <th>1</th>\n",
       "      <td>5575-GNVDE</td>\n",
       "      <td>Male</td>\n",
       "      <td>0</td>\n",
       "      <td>No</td>\n",
       "      <td>No</td>\n",
       "    </tr>\n",
       "    <tr>\n",
       "      <th>2</th>\n",
       "      <td>3668-QPYBK</td>\n",
       "      <td>Male</td>\n",
       "      <td>0</td>\n",
       "      <td>No</td>\n",
       "      <td>No</td>\n",
       "    </tr>\n",
       "    <tr>\n",
       "      <th>3</th>\n",
       "      <td>7795-CFOCW</td>\n",
       "      <td>Male</td>\n",
       "      <td>0</td>\n",
       "      <td>No</td>\n",
       "      <td>No</td>\n",
       "    </tr>\n",
       "    <tr>\n",
       "      <th>4</th>\n",
       "      <td>9237-HQITU</td>\n",
       "      <td>Female</td>\n",
       "      <td>0</td>\n",
       "      <td>No</td>\n",
       "      <td>No</td>\n",
       "    </tr>\n",
       "  </tbody>\n",
       "</table>\n",
       "</div>"
      ],
      "text/plain": [
       "   customerID  gender  SeniorCitizen Partner Dependents\n",
       "0  7590-VHVEG  Female              0     Yes         No\n",
       "1  5575-GNVDE    Male              0      No         No\n",
       "2  3668-QPYBK    Male              0      No         No\n",
       "3  7795-CFOCW    Male              0      No         No\n",
       "4  9237-HQITU  Female              0      No         No"
      ]
     },
     "metadata": {},
     "output_type": "display_data"
    },
    {
     "name": "stdout",
     "output_type": "stream",
     "text": [
      "\n",
      "<class 'pandas.core.frame.DataFrame'>\n",
      "RangeIndex: 7043 entries, 0 to 7042\n",
      "Data columns (total 5 columns):\n",
      " #   Column         Non-Null Count  Dtype \n",
      "---  ------         --------------  ----- \n",
      " 0   customerID     7043 non-null   object\n",
      " 1   gender         7043 non-null   object\n",
      " 2   SeniorCitizen  7043 non-null   int64 \n",
      " 3   Partner        7043 non-null   object\n",
      " 4   Dependents     7043 non-null   object\n",
      "dtypes: int64(1), object(4)\n",
      "memory usage: 275.2+ KB\n"
     ]
    },
    {
     "data": {
      "text/plain": [
       "None"
      ]
     },
     "metadata": {},
     "output_type": "display_data"
    }
   ],
   "source": [
    "try:\n",
    "    personal = pd.read_csv('/datasets/personal_new.csv')\n",
    "except: \n",
    "    personal = pd.read_csv('personal_new.csv')\n",
    "#выведем первые 5 строк датафрейма:\n",
    "display(personal.head())\n",
    "print()\n",
    "#Выведем общую информацию о датафрейме:\n",
    "display(personal.info())"
   ]
  },
  {
   "cell_type": "markdown",
   "id": "8ab79f3e-075d-4420-9e6e-6c42ed61994e",
   "metadata": {},
   "source": [
    "Датафрейм состоит из 7043 строк и 5 столбцов: \n",
    "- `customerID` - уникальный идентификатор покупателя \n",
    "- `gender` - пол \n",
    "- `SeniorCitizen` - является ли клиент пожилым человеком \n",
    "- `Partner` - состоит ли клиент в браке \n",
    "- `Dependents` - имеются ли иждивенцы \n",
    "\n",
    "Пропущенные значения отсутсвуют. Также, стоит обратить внимание на тип данных - `SeniorCitizen` имеет тип данных int, хотя также представляет бинарные значения, как и другие признаки. Так как данные в данном датафрейме, помимо идентификатора, представляют собой бинарные значения, метод \"describe()\" не нужен. Посмотрим распределение значений с помощью value_counts: "
   ]
  },
  {
   "cell_type": "code",
   "execution_count": 5,
   "id": "d14a599f-7309-46a0-b152-92269ac41640",
   "metadata": {},
   "outputs": [
    {
     "name": "stdout",
     "output_type": "stream",
     "text": [
      "Male      0.504756\n",
      "Female    0.495244\n",
      "Name: gender, dtype: float64\n",
      "\n",
      "0    0.837853\n",
      "1    0.162147\n",
      "Name: SeniorCitizen, dtype: float64\n",
      "\n",
      "No     0.516967\n",
      "Yes    0.483033\n",
      "Name: Partner, dtype: float64\n",
      "\n",
      "No     0.700412\n",
      "Yes    0.299588\n",
      "Name: Dependents, dtype: float64\n"
     ]
    }
   ],
   "source": [
    "print(personal['gender'].value_counts(normalize=True))\n",
    "print()\n",
    "print(personal['SeniorCitizen'].value_counts(normalize=True))\n",
    "print()\n",
    "print(personal['Partner'].value_counts(normalize=True))\n",
    "print()\n",
    "print(personal['Dependents'].value_counts(normalize=True))"
   ]
  },
  {
   "cell_type": "markdown",
   "id": "2fa19941-bfa9-4d1b-b5d5-f66c3c45be8e",
   "metadata": {},
   "source": [
    "Таким образом, в выборке представлено примерно равное соотношение полов, 16% клиентов в выборке являются пожилыми людьми, также датафрейм имеет равное соотношение клиентов, как состоящих в браке, так и нет, и около 30% клиентов имеют иждивенцев."
   ]
  },
  {
   "cell_type": "code",
   "execution_count": 6,
   "id": "8d8a31fb",
   "metadata": {},
   "outputs": [
    {
     "data": {
      "text/html": [
       "<div>\n",
       "<style scoped>\n",
       "    .dataframe tbody tr th:only-of-type {\n",
       "        vertical-align: middle;\n",
       "    }\n",
       "\n",
       "    .dataframe tbody tr th {\n",
       "        vertical-align: top;\n",
       "    }\n",
       "\n",
       "    .dataframe thead th {\n",
       "        text-align: right;\n",
       "    }\n",
       "</style>\n",
       "<table border=\"1\" class=\"dataframe\">\n",
       "  <thead>\n",
       "    <tr style=\"text-align: right;\">\n",
       "      <th></th>\n",
       "      <th>customerID</th>\n",
       "      <th>gender</th>\n",
       "      <th>SeniorCitizen</th>\n",
       "      <th>Partner</th>\n",
       "      <th>Dependents</th>\n",
       "    </tr>\n",
       "  </thead>\n",
       "  <tbody>\n",
       "    <tr>\n",
       "      <th>0</th>\n",
       "      <td>7590-VHVEG</td>\n",
       "      <td>Female</td>\n",
       "      <td>No</td>\n",
       "      <td>Yes</td>\n",
       "      <td>No</td>\n",
       "    </tr>\n",
       "    <tr>\n",
       "      <th>1</th>\n",
       "      <td>5575-GNVDE</td>\n",
       "      <td>Male</td>\n",
       "      <td>No</td>\n",
       "      <td>No</td>\n",
       "      <td>No</td>\n",
       "    </tr>\n",
       "    <tr>\n",
       "      <th>2</th>\n",
       "      <td>3668-QPYBK</td>\n",
       "      <td>Male</td>\n",
       "      <td>No</td>\n",
       "      <td>No</td>\n",
       "      <td>No</td>\n",
       "    </tr>\n",
       "    <tr>\n",
       "      <th>3</th>\n",
       "      <td>7795-CFOCW</td>\n",
       "      <td>Male</td>\n",
       "      <td>No</td>\n",
       "      <td>No</td>\n",
       "      <td>No</td>\n",
       "    </tr>\n",
       "    <tr>\n",
       "      <th>4</th>\n",
       "      <td>9237-HQITU</td>\n",
       "      <td>Female</td>\n",
       "      <td>No</td>\n",
       "      <td>No</td>\n",
       "      <td>No</td>\n",
       "    </tr>\n",
       "  </tbody>\n",
       "</table>\n",
       "</div>"
      ],
      "text/plain": [
       "   customerID  gender SeniorCitizen Partner Dependents\n",
       "0  7590-VHVEG  Female            No     Yes         No\n",
       "1  5575-GNVDE    Male            No      No         No\n",
       "2  3668-QPYBK    Male            No      No         No\n",
       "3  7795-CFOCW    Male            No      No         No\n",
       "4  9237-HQITU  Female            No      No         No"
      ]
     },
     "metadata": {},
     "output_type": "display_data"
    }
   ],
   "source": [
    "#Пеереведем столбец SeniorCitizen к формату датафрейма для удобства при дальнейшем кодировании:\n",
    "personal['SeniorCitizen'] = personal['SeniorCitizen'].apply(lambda x: 'No' if x == 0 else 'Yes')\n",
    "display(personal.head())"
   ]
  },
  {
   "cell_type": "markdown",
   "id": "30fc5358-e9e2-4381-9df5-c8a978645b04",
   "metadata": {},
   "source": [
    "## contract_new"
   ]
  },
  {
   "cell_type": "code",
   "execution_count": 7,
   "id": "147d20e3-fce8-42e6-a8e4-50ae2f432e0b",
   "metadata": {},
   "outputs": [
    {
     "data": {
      "text/html": [
       "<div>\n",
       "<style scoped>\n",
       "    .dataframe tbody tr th:only-of-type {\n",
       "        vertical-align: middle;\n",
       "    }\n",
       "\n",
       "    .dataframe tbody tr th {\n",
       "        vertical-align: top;\n",
       "    }\n",
       "\n",
       "    .dataframe thead th {\n",
       "        text-align: right;\n",
       "    }\n",
       "</style>\n",
       "<table border=\"1\" class=\"dataframe\">\n",
       "  <thead>\n",
       "    <tr style=\"text-align: right;\">\n",
       "      <th></th>\n",
       "      <th>customerID</th>\n",
       "      <th>BeginDate</th>\n",
       "      <th>EndDate</th>\n",
       "      <th>Type</th>\n",
       "      <th>PaperlessBilling</th>\n",
       "      <th>PaymentMethod</th>\n",
       "      <th>MonthlyCharges</th>\n",
       "      <th>TotalCharges</th>\n",
       "    </tr>\n",
       "  </thead>\n",
       "  <tbody>\n",
       "    <tr>\n",
       "      <th>0</th>\n",
       "      <td>7590-VHVEG</td>\n",
       "      <td>2020-01-01</td>\n",
       "      <td>No</td>\n",
       "      <td>Month-to-month</td>\n",
       "      <td>Yes</td>\n",
       "      <td>Electronic check</td>\n",
       "      <td>29.85</td>\n",
       "      <td>31.04</td>\n",
       "    </tr>\n",
       "    <tr>\n",
       "      <th>1</th>\n",
       "      <td>5575-GNVDE</td>\n",
       "      <td>2017-04-01</td>\n",
       "      <td>No</td>\n",
       "      <td>One year</td>\n",
       "      <td>No</td>\n",
       "      <td>Mailed check</td>\n",
       "      <td>56.95</td>\n",
       "      <td>2071.84</td>\n",
       "    </tr>\n",
       "    <tr>\n",
       "      <th>2</th>\n",
       "      <td>3668-QPYBK</td>\n",
       "      <td>2019-10-01</td>\n",
       "      <td>No</td>\n",
       "      <td>Month-to-month</td>\n",
       "      <td>Yes</td>\n",
       "      <td>Mailed check</td>\n",
       "      <td>53.85</td>\n",
       "      <td>226.17</td>\n",
       "    </tr>\n",
       "    <tr>\n",
       "      <th>3</th>\n",
       "      <td>7795-CFOCW</td>\n",
       "      <td>2016-05-01</td>\n",
       "      <td>No</td>\n",
       "      <td>One year</td>\n",
       "      <td>No</td>\n",
       "      <td>Bank transfer (automatic)</td>\n",
       "      <td>42.30</td>\n",
       "      <td>1960.6</td>\n",
       "    </tr>\n",
       "    <tr>\n",
       "      <th>4</th>\n",
       "      <td>9237-HQITU</td>\n",
       "      <td>2019-09-01</td>\n",
       "      <td>No</td>\n",
       "      <td>Month-to-month</td>\n",
       "      <td>Yes</td>\n",
       "      <td>Electronic check</td>\n",
       "      <td>70.70</td>\n",
       "      <td>353.5</td>\n",
       "    </tr>\n",
       "  </tbody>\n",
       "</table>\n",
       "</div>"
      ],
      "text/plain": [
       "   customerID   BeginDate EndDate            Type PaperlessBilling  \\\n",
       "0  7590-VHVEG  2020-01-01      No  Month-to-month              Yes   \n",
       "1  5575-GNVDE  2017-04-01      No        One year               No   \n",
       "2  3668-QPYBK  2019-10-01      No  Month-to-month              Yes   \n",
       "3  7795-CFOCW  2016-05-01      No        One year               No   \n",
       "4  9237-HQITU  2019-09-01      No  Month-to-month              Yes   \n",
       "\n",
       "               PaymentMethod  MonthlyCharges TotalCharges  \n",
       "0           Electronic check           29.85        31.04  \n",
       "1               Mailed check           56.95      2071.84  \n",
       "2               Mailed check           53.85       226.17  \n",
       "3  Bank transfer (automatic)           42.30       1960.6  \n",
       "4           Electronic check           70.70        353.5  "
      ]
     },
     "metadata": {},
     "output_type": "display_data"
    },
    {
     "name": "stdout",
     "output_type": "stream",
     "text": [
      "\n",
      "<class 'pandas.core.frame.DataFrame'>\n",
      "RangeIndex: 7043 entries, 0 to 7042\n",
      "Data columns (total 8 columns):\n",
      " #   Column            Non-Null Count  Dtype  \n",
      "---  ------            --------------  -----  \n",
      " 0   customerID        7043 non-null   object \n",
      " 1   BeginDate         7043 non-null   object \n",
      " 2   EndDate           7043 non-null   object \n",
      " 3   Type              7043 non-null   object \n",
      " 4   PaperlessBilling  7043 non-null   object \n",
      " 5   PaymentMethod     7043 non-null   object \n",
      " 6   MonthlyCharges    7043 non-null   float64\n",
      " 7   TotalCharges      7043 non-null   object \n",
      "dtypes: float64(1), object(7)\n",
      "memory usage: 440.3+ KB\n"
     ]
    },
    {
     "data": {
      "text/plain": [
       "None"
      ]
     },
     "metadata": {},
     "output_type": "display_data"
    }
   ],
   "source": [
    "try:\n",
    "    contract = pd.read_csv('/datasets/contract_new.csv')\n",
    "except: \n",
    "    contract = pd.read_csv('contract_new.csv')\n",
    "#выведем первые 5 строк датафрейма:\n",
    "display(contract.head())\n",
    "print()\n",
    "#Выведем общую информацию о датафрейме:\n",
    "display(contract.info())"
   ]
  },
  {
   "cell_type": "markdown",
   "id": "5632ed68-1b0e-4617-ac90-c5ed41eac388",
   "metadata": {},
   "source": [
    "Датафрейм состоит из 7043 строк и 8 столбцов: \n",
    "- `customerID` - уникальный идентификатор клиента\n",
    "- `BeginDate` - дата начала пользования услугой\n",
    "- `EndDate` - дата окочания использования услуги(при наличии)\n",
    "- `Type` - тип оплаты\n",
    "- `PaperlessBilling` - безналичный расчет\n",
    "- `PaymentMethod` - способ оплаты\n",
    "- `MonthlyCharges` - ежемесячные траты на услуги\n",
    "- `TotalCharges` - всего потрачено на услуги\n",
    "\n",
    "Столбец TotalCharges имеет тип данных object, что противоречит харакетру данных в столбце. Переведем его в тип данных float. В связи с тем, что пустые значения в данном столбце обозначены знаком пробел (\" \"), метод info не выдает пропущенные значения. Поэтому, заменим данные значения на \"0\"."
   ]
  },
  {
   "cell_type": "code",
   "execution_count": 8,
   "id": "a77d01d4-8e17-455a-aa63-043eda91f802",
   "metadata": {
    "tags": []
   },
   "outputs": [
    {
     "data": {
      "text/plain": [
       "11"
      ]
     },
     "execution_count": 8,
     "metadata": {},
     "output_type": "execute_result"
    }
   ],
   "source": [
    "contract['TotalCharges'] = contract['TotalCharges'].replace(' ', '0')\n",
    "contract['TotalCharges'] = contract['TotalCharges'].astype(float)\n",
    "#Отобразим количество пропущенных значений:\n",
    "contract['TotalCharges'][contract['TotalCharges'] == 0].count()"
   ]
  },
  {
   "cell_type": "code",
   "execution_count": 9,
   "id": "b917e3ff",
   "metadata": {},
   "outputs": [
    {
     "data": {
      "text/html": [
       "<div>\n",
       "<style scoped>\n",
       "    .dataframe tbody tr th:only-of-type {\n",
       "        vertical-align: middle;\n",
       "    }\n",
       "\n",
       "    .dataframe tbody tr th {\n",
       "        vertical-align: top;\n",
       "    }\n",
       "\n",
       "    .dataframe thead th {\n",
       "        text-align: right;\n",
       "    }\n",
       "</style>\n",
       "<table border=\"1\" class=\"dataframe\">\n",
       "  <thead>\n",
       "    <tr style=\"text-align: right;\">\n",
       "      <th></th>\n",
       "      <th>customerID</th>\n",
       "      <th>BeginDate</th>\n",
       "      <th>EndDate</th>\n",
       "      <th>Type</th>\n",
       "      <th>PaperlessBilling</th>\n",
       "      <th>PaymentMethod</th>\n",
       "      <th>MonthlyCharges</th>\n",
       "      <th>TotalCharges</th>\n",
       "    </tr>\n",
       "  </thead>\n",
       "  <tbody>\n",
       "    <tr>\n",
       "      <th>488</th>\n",
       "      <td>4472-LVYGI</td>\n",
       "      <td>2020-02-01</td>\n",
       "      <td>No</td>\n",
       "      <td>Two year</td>\n",
       "      <td>Yes</td>\n",
       "      <td>Bank transfer (automatic)</td>\n",
       "      <td>52.55</td>\n",
       "      <td>0.0</td>\n",
       "    </tr>\n",
       "    <tr>\n",
       "      <th>753</th>\n",
       "      <td>3115-CZMZD</td>\n",
       "      <td>2020-02-01</td>\n",
       "      <td>No</td>\n",
       "      <td>Two year</td>\n",
       "      <td>No</td>\n",
       "      <td>Mailed check</td>\n",
       "      <td>20.25</td>\n",
       "      <td>0.0</td>\n",
       "    </tr>\n",
       "    <tr>\n",
       "      <th>936</th>\n",
       "      <td>5709-LVOEQ</td>\n",
       "      <td>2020-02-01</td>\n",
       "      <td>No</td>\n",
       "      <td>Two year</td>\n",
       "      <td>No</td>\n",
       "      <td>Mailed check</td>\n",
       "      <td>80.85</td>\n",
       "      <td>0.0</td>\n",
       "    </tr>\n",
       "    <tr>\n",
       "      <th>1082</th>\n",
       "      <td>4367-NUYAO</td>\n",
       "      <td>2020-02-01</td>\n",
       "      <td>No</td>\n",
       "      <td>Two year</td>\n",
       "      <td>No</td>\n",
       "      <td>Mailed check</td>\n",
       "      <td>25.75</td>\n",
       "      <td>0.0</td>\n",
       "    </tr>\n",
       "    <tr>\n",
       "      <th>1340</th>\n",
       "      <td>1371-DWPAZ</td>\n",
       "      <td>2020-02-01</td>\n",
       "      <td>No</td>\n",
       "      <td>Two year</td>\n",
       "      <td>No</td>\n",
       "      <td>Credit card (automatic)</td>\n",
       "      <td>56.05</td>\n",
       "      <td>0.0</td>\n",
       "    </tr>\n",
       "    <tr>\n",
       "      <th>3331</th>\n",
       "      <td>7644-OMVMY</td>\n",
       "      <td>2020-02-01</td>\n",
       "      <td>No</td>\n",
       "      <td>Two year</td>\n",
       "      <td>No</td>\n",
       "      <td>Mailed check</td>\n",
       "      <td>19.85</td>\n",
       "      <td>0.0</td>\n",
       "    </tr>\n",
       "    <tr>\n",
       "      <th>3826</th>\n",
       "      <td>3213-VVOLG</td>\n",
       "      <td>2020-02-01</td>\n",
       "      <td>No</td>\n",
       "      <td>Two year</td>\n",
       "      <td>No</td>\n",
       "      <td>Mailed check</td>\n",
       "      <td>25.35</td>\n",
       "      <td>0.0</td>\n",
       "    </tr>\n",
       "    <tr>\n",
       "      <th>4380</th>\n",
       "      <td>2520-SGTTA</td>\n",
       "      <td>2020-02-01</td>\n",
       "      <td>No</td>\n",
       "      <td>Two year</td>\n",
       "      <td>No</td>\n",
       "      <td>Mailed check</td>\n",
       "      <td>20.00</td>\n",
       "      <td>0.0</td>\n",
       "    </tr>\n",
       "    <tr>\n",
       "      <th>5218</th>\n",
       "      <td>2923-ARZLG</td>\n",
       "      <td>2020-02-01</td>\n",
       "      <td>No</td>\n",
       "      <td>One year</td>\n",
       "      <td>Yes</td>\n",
       "      <td>Mailed check</td>\n",
       "      <td>19.70</td>\n",
       "      <td>0.0</td>\n",
       "    </tr>\n",
       "    <tr>\n",
       "      <th>6670</th>\n",
       "      <td>4075-WKNIU</td>\n",
       "      <td>2020-02-01</td>\n",
       "      <td>No</td>\n",
       "      <td>Two year</td>\n",
       "      <td>No</td>\n",
       "      <td>Mailed check</td>\n",
       "      <td>73.35</td>\n",
       "      <td>0.0</td>\n",
       "    </tr>\n",
       "    <tr>\n",
       "      <th>6754</th>\n",
       "      <td>2775-SEFEE</td>\n",
       "      <td>2020-02-01</td>\n",
       "      <td>No</td>\n",
       "      <td>Two year</td>\n",
       "      <td>Yes</td>\n",
       "      <td>Bank transfer (automatic)</td>\n",
       "      <td>61.90</td>\n",
       "      <td>0.0</td>\n",
       "    </tr>\n",
       "  </tbody>\n",
       "</table>\n",
       "</div>"
      ],
      "text/plain": [
       "      customerID   BeginDate EndDate      Type PaperlessBilling  \\\n",
       "488   4472-LVYGI  2020-02-01      No  Two year              Yes   \n",
       "753   3115-CZMZD  2020-02-01      No  Two year               No   \n",
       "936   5709-LVOEQ  2020-02-01      No  Two year               No   \n",
       "1082  4367-NUYAO  2020-02-01      No  Two year               No   \n",
       "1340  1371-DWPAZ  2020-02-01      No  Two year               No   \n",
       "3331  7644-OMVMY  2020-02-01      No  Two year               No   \n",
       "3826  3213-VVOLG  2020-02-01      No  Two year               No   \n",
       "4380  2520-SGTTA  2020-02-01      No  Two year               No   \n",
       "5218  2923-ARZLG  2020-02-01      No  One year              Yes   \n",
       "6670  4075-WKNIU  2020-02-01      No  Two year               No   \n",
       "6754  2775-SEFEE  2020-02-01      No  Two year              Yes   \n",
       "\n",
       "                  PaymentMethod  MonthlyCharges  TotalCharges  \n",
       "488   Bank transfer (automatic)           52.55           0.0  \n",
       "753                Mailed check           20.25           0.0  \n",
       "936                Mailed check           80.85           0.0  \n",
       "1082               Mailed check           25.75           0.0  \n",
       "1340    Credit card (automatic)           56.05           0.0  \n",
       "3331               Mailed check           19.85           0.0  \n",
       "3826               Mailed check           25.35           0.0  \n",
       "4380               Mailed check           20.00           0.0  \n",
       "5218               Mailed check           19.70           0.0  \n",
       "6670               Mailed check           73.35           0.0  \n",
       "6754  Bank transfer (automatic)           61.90           0.0  "
      ]
     },
     "execution_count": 9,
     "metadata": {},
     "output_type": "execute_result"
    }
   ],
   "source": [
    "#Выведем строки с пропусками:\n",
    "contract[contract['TotalCharges']==0]"
   ]
  },
  {
   "cell_type": "markdown",
   "id": "8675acdb",
   "metadata": {},
   "source": [
    "Можно обратить внимание, что все клиенты имеют годовой тип оплаты, а дата начала использования услуги-дата выгрузки базы данных. Таким образом - пропуски в столбце `TotalCharges` связаны с тем, что для данных клиентов не был выставлен счет. Также учитывая количество таких клиентов(11 к 7043) можем удалить данные строки, ведь кейсы данных клиентов не подходят для решения данной задачи, а именно определение оттока клиентов (клиенты пришли в дату выгрузки базы данных)."
   ]
  },
  {
   "cell_type": "code",
   "execution_count": 10,
   "id": "0d1f3e63",
   "metadata": {},
   "outputs": [],
   "source": [
    "contract = contract[contract['TotalCharges'] != 0]\n",
    "contract.reset_index(drop=True, inplace=True)"
   ]
  },
  {
   "cell_type": "code",
   "execution_count": 11,
   "id": "3b060ada-0378-4b52-9012-8ce08d1aa640",
   "metadata": {},
   "outputs": [
    {
     "name": "stdout",
     "output_type": "stream",
     "text": [
      "count    7032.000000\n",
      "mean       64.798208\n",
      "std        30.085974\n",
      "min        18.250000\n",
      "25%        35.587500\n",
      "50%        70.350000\n",
      "75%        89.862500\n",
      "max       118.750000\n",
      "Name: MonthlyCharges, dtype: float64\n",
      "\n",
      "count    7032.000000\n",
      "mean     2118.621822\n",
      "std      2112.736199\n",
      "min        19.050000\n",
      "25%       439.745000\n",
      "50%      1345.275000\n",
      "75%      3239.317500\n",
      "max      9221.380000\n",
      "Name: TotalCharges, dtype: float64\n"
     ]
    }
   ],
   "source": [
    "#Опишем два численных столбца, а именно `MonthlyCharges` и `TotalCharges` методом describe:\n",
    "print(contract['MonthlyCharges'].describe())\n",
    "print()\n",
    "print(contract['TotalCharges'].describe())"
   ]
  },
  {
   "cell_type": "markdown",
   "id": "79ddda42-6f18-4761-b6fc-e3df7d09a7f4",
   "metadata": {},
   "source": [
    "Столбец `MonthlyCharges` не содержит большого количества аномалий (разница между средним и медианой), чего нельзя сказать о столбце `TotalCharges`, изучим столбцы на предмет аномалий:"
   ]
  },
  {
   "cell_type": "code",
   "execution_count": 12,
   "id": "7f762e19",
   "metadata": {
    "tags": []
   },
   "outputs": [
    {
     "data": {
      "image/png": "[encoded data removed]",
      "text/plain": [
       "<Figure size 432x576 with 1 Axes>"
      ]
     },
     "metadata": {
      "needs_background": "light"
     },
     "output_type": "display_data"
    },
    {
     "data": {
      "image/png": "[encoded data removed]",
      "text/plain": [
       "<Figure size 432x576 with 1 Axes>"
      ]
     },
     "metadata": {
      "needs_background": "light"
     },
     "output_type": "display_data"
    }
   ],
   "source": [
    "plt.figure(figsize=(6, 8))  \n",
    "plt.boxplot(contract['MonthlyCharges'])\n",
    "plt.title('Месячные затраты')\n",
    "plt.show()\n",
    "plt.figure(figsize=(6, 8))  \n",
    "plt.boxplot(contract['TotalCharges'])\n",
    "plt.title('Потрачено всего')\n",
    "plt.show()"
   ]
  },
  {
   "cell_type": "markdown",
   "id": "691648ec",
   "metadata": {},
   "source": [
    "Столбец с месячными затратами не содержит аномальных значений. Столбец с суммарными затратами имеет \"аномальные\" значения выше 7500, однако, эти значения могут характеризовать пользователей, являющихся клиентами компании долгое время, поэтому, оставим их в датафрейме."
   ]
  },
  {
   "cell_type": "code",
   "execution_count": 14,
   "id": "a233a88a-8389-4fad-9941-d5e630ad7855",
   "metadata": {},
   "outputs": [
    {
     "data": {
      "image/png": "[encoded data removed]",
      "text/plain": [
       "<Figure size 432x288 with 1 Axes>"
      ]
     },
     "metadata": {
      "needs_background": "light"
     },
     "output_type": "display_data"
    }
   ],
   "source": [
    "# Посмотрим распределение значений\n",
    "sns.histplot(data=contract, x='MonthlyCharges', bins=20)\n",
    "plt.show()"
   ]
  },
  {
   "cell_type": "markdown",
   "id": "5a55fb49-6a79-4bcd-afd4-ef0073826df8",
   "metadata": {},
   "source": [
    "На гистограме виден пик в промежутке от 18 до 28 долларов. Таким образом, наибольшее количество пользователей имеют минимальный месячный чек. Однако, стоит отметить, что срзау за ней идет группа затрат, представленная значениями 78 и 88 долларов. Это может быть связано с тем, что наибольшее количество пользователей пользуются только 1 услугой."
   ]
  },
  {
   "cell_type": "code",
   "execution_count": 15,
   "id": "566624f4-80d9-4bb2-89d4-5f8a2681ddea",
   "metadata": {},
   "outputs": [
    {
     "data": {
      "image/png": "[encoded data removed]",
      "text/plain": [
       "<Figure size 432x288 with 1 Axes>"
      ]
     },
     "metadata": {
      "needs_background": "light"
     },
     "output_type": "display_data"
    }
   ],
   "source": [
    "sns.histplot(data=contract, x='TotalCharges', bins=20)\n",
    "plt.show()"
   ]
  },
  {
   "cell_type": "markdown",
   "id": "d5cfac90-c248-410f-8cd1-721ba7511156",
   "metadata": {},
   "source": [
    "Данная гистограмма имеет нисходящий тренд. Наибольшее количество пользователей потратило до 1000 долларов (это видно по резкой разнице между двумя столбцами). Начиная со значения 1900 у.е., гистограмма имеет более \"плавное\" изменения между группами. Начиная со значения 3800 долларов, количество клиентов составяет не более 500, что свидетельствует о том, что данные группы затрат не являются \"стандартными\" и являются, скорее, исключениями. "
   ]
  },
  {
   "cell_type": "markdown",
   "id": "1a85ac41-0361-4002-a05f-51f4a03c30a0",
   "metadata": {},
   "source": [
    "## phone_new"
   ]
  },
  {
   "cell_type": "code",
   "execution_count": 16,
   "id": "decc7a9d-aada-41b6-9dd8-3394d0a60fea",
   "metadata": {},
   "outputs": [
    {
     "name": "stdout",
     "output_type": "stream",
     "text": [
      "   customerID MultipleLines\n",
      "0  5575-GNVDE            No\n",
      "1  3668-QPYBK            No\n",
      "2  9237-HQITU            No\n",
      "3  9305-CDSKC           Yes\n",
      "4  1452-KIOVK           Yes\n",
      "\n",
      "<class 'pandas.core.frame.DataFrame'>\n",
      "RangeIndex: 6361 entries, 0 to 6360\n",
      "Data columns (total 2 columns):\n",
      " #   Column         Non-Null Count  Dtype \n",
      "---  ------         --------------  ----- \n",
      " 0   customerID     6361 non-null   object\n",
      " 1   MultipleLines  6361 non-null   object\n",
      "dtypes: object(2)\n",
      "memory usage: 99.5+ KB\n",
      "None\n"
     ]
    }
   ],
   "source": [
    "try:\n",
    "    phone = pd.read_csv('/datasets/phone_new.csv')\n",
    "except: \n",
    "    phone = pd.read_csv('phone_new.csv')\n",
    "#выведем первые 5 строк датафрейма:\n",
    "print(phone.head())\n",
    "print()\n",
    "#Выведем общую информацию о датафрейме:\n",
    "print(phone.info())"
   ]
  },
  {
   "cell_type": "markdown",
   "id": "c27620cb-7614-49db-ad0d-b9c29e72642a",
   "metadata": {},
   "source": [
    "В первую очередь, можно обратить внимание, что количество строк в датафрейме меньше, чем в первых двух. Связано это с тем, что, скорее всего, не каждый пользователь компании использует телефонию. В датасете представлены следующие столбцы:\n",
    "- `customerID` - уникальный идентификатор пользователя\n",
    "- `MultipleLines` – наличие возможности ведения параллельных линий во время звонка\n",
    "\n",
    "Определим соотношение бинарных значений столбца `MultipleLines`:"
   ]
  },
  {
   "cell_type": "code",
   "execution_count": 17,
   "id": "4cdea441-6ed9-45d7-9744-b280315661bc",
   "metadata": {},
   "outputs": [
    {
     "data": {
      "text/plain": [
       "No     0.532935\n",
       "Yes    0.467065\n",
       "Name: MultipleLines, dtype: float64"
      ]
     },
     "execution_count": 17,
     "metadata": {},
     "output_type": "execute_result"
    }
   ],
   "source": [
    "phone['MultipleLines'].value_counts(normalize=True)"
   ]
  },
  {
   "cell_type": "markdown",
   "id": "6f8ce3fd-6029-4fcd-94a6-ab27931fac55",
   "metadata": {},
   "source": [
    "Датафрейм имеет примерно равное соотношение возможности ведения параллельных линий."
   ]
  },
  {
   "cell_type": "markdown",
   "id": "9a749215-aaea-4105-99b9-aca264895508",
   "metadata": {},
   "source": [
    "## internet_new"
   ]
  },
  {
   "cell_type": "code",
   "execution_count": 18,
   "id": "a5e79107-a448-4074-b007-dca043c86d4b",
   "metadata": {},
   "outputs": [
    {
     "data": {
      "text/html": [
       "<div>\n",
       "<style scoped>\n",
       "    .dataframe tbody tr th:only-of-type {\n",
       "        vertical-align: middle;\n",
       "    }\n",
       "\n",
       "    .dataframe tbody tr th {\n",
       "        vertical-align: top;\n",
       "    }\n",
       "\n",
       "    .dataframe thead th {\n",
       "        text-align: right;\n",
       "    }\n",
       "</style>\n",
       "<table border=\"1\" class=\"dataframe\">\n",
       "  <thead>\n",
       "    <tr style=\"text-align: right;\">\n",
       "      <th></th>\n",
       "      <th>customerID</th>\n",
       "      <th>InternetService</th>\n",
       "      <th>OnlineSecurity</th>\n",
       "      <th>OnlineBackup</th>\n",
       "      <th>DeviceProtection</th>\n",
       "      <th>TechSupport</th>\n",
       "      <th>StreamingTV</th>\n",
       "      <th>StreamingMovies</th>\n",
       "    </tr>\n",
       "  </thead>\n",
       "  <tbody>\n",
       "    <tr>\n",
       "      <th>0</th>\n",
       "      <td>7590-VHVEG</td>\n",
       "      <td>DSL</td>\n",
       "      <td>No</td>\n",
       "      <td>Yes</td>\n",
       "      <td>No</td>\n",
       "      <td>No</td>\n",
       "      <td>No</td>\n",
       "      <td>No</td>\n",
       "    </tr>\n",
       "    <tr>\n",
       "      <th>1</th>\n",
       "      <td>5575-GNVDE</td>\n",
       "      <td>DSL</td>\n",
       "      <td>Yes</td>\n",
       "      <td>No</td>\n",
       "      <td>Yes</td>\n",
       "      <td>No</td>\n",
       "      <td>No</td>\n",
       "      <td>No</td>\n",
       "    </tr>\n",
       "    <tr>\n",
       "      <th>2</th>\n",
       "      <td>3668-QPYBK</td>\n",
       "      <td>DSL</td>\n",
       "      <td>Yes</td>\n",
       "      <td>Yes</td>\n",
       "      <td>No</td>\n",
       "      <td>No</td>\n",
       "      <td>No</td>\n",
       "      <td>No</td>\n",
       "    </tr>\n",
       "    <tr>\n",
       "      <th>3</th>\n",
       "      <td>7795-CFOCW</td>\n",
       "      <td>DSL</td>\n",
       "      <td>Yes</td>\n",
       "      <td>No</td>\n",
       "      <td>Yes</td>\n",
       "      <td>Yes</td>\n",
       "      <td>No</td>\n",
       "      <td>No</td>\n",
       "    </tr>\n",
       "    <tr>\n",
       "      <th>4</th>\n",
       "      <td>9237-HQITU</td>\n",
       "      <td>Fiber optic</td>\n",
       "      <td>No</td>\n",
       "      <td>No</td>\n",
       "      <td>No</td>\n",
       "      <td>No</td>\n",
       "      <td>No</td>\n",
       "      <td>No</td>\n",
       "    </tr>\n",
       "  </tbody>\n",
       "</table>\n",
       "</div>"
      ],
      "text/plain": [
       "   customerID InternetService OnlineSecurity OnlineBackup DeviceProtection  \\\n",
       "0  7590-VHVEG             DSL             No          Yes               No   \n",
       "1  5575-GNVDE             DSL            Yes           No              Yes   \n",
       "2  3668-QPYBK             DSL            Yes          Yes               No   \n",
       "3  7795-CFOCW             DSL            Yes           No              Yes   \n",
       "4  9237-HQITU     Fiber optic             No           No               No   \n",
       "\n",
       "  TechSupport StreamingTV StreamingMovies  \n",
       "0          No          No              No  \n",
       "1          No          No              No  \n",
       "2          No          No              No  \n",
       "3         Yes          No              No  \n",
       "4          No          No              No  "
      ]
     },
     "metadata": {},
     "output_type": "display_data"
    },
    {
     "name": "stdout",
     "output_type": "stream",
     "text": [
      "\n",
      "<class 'pandas.core.frame.DataFrame'>\n",
      "RangeIndex: 5517 entries, 0 to 5516\n",
      "Data columns (total 8 columns):\n",
      " #   Column            Non-Null Count  Dtype \n",
      "---  ------            --------------  ----- \n",
      " 0   customerID        5517 non-null   object\n",
      " 1   InternetService   5517 non-null   object\n",
      " 2   OnlineSecurity    5517 non-null   object\n",
      " 3   OnlineBackup      5517 non-null   object\n",
      " 4   DeviceProtection  5517 non-null   object\n",
      " 5   TechSupport       5517 non-null   object\n",
      " 6   StreamingTV       5517 non-null   object\n",
      " 7   StreamingMovies   5517 non-null   object\n",
      "dtypes: object(8)\n",
      "memory usage: 344.9+ KB\n"
     ]
    },
    {
     "data": {
      "text/plain": [
       "None"
      ]
     },
     "metadata": {},
     "output_type": "display_data"
    }
   ],
   "source": [
    "try:\n",
    "    internet = pd.read_csv('/datasets/internet_new.csv')\n",
    "except: \n",
    "    internet = pd.read_csv('internet_new.csv')\n",
    "#выведем первые 5 строк датафрейма:\n",
    "display(internet.head())\n",
    "print()\n",
    "#Выведем общую информацию о датафрейме:\n",
    "display(internet.info())"
   ]
  },
  {
   "cell_type": "markdown",
   "id": "4d7f0ca9-ed87-4930-8320-e7906f869d0d",
   "metadata": {},
   "source": [
    "Датафрейм состоит из 5517 строк и 8 столбцов, в которых отображена информация об уникальном идентификаторе клиента, тип подключения интернета а также подключенных допуслуг (`OnlineSecurity`, `OnlineBackup`, `DeviceProtection`, `TechSupport`, `StreamingTV`, `StreamingMovies`). Столбец с типом подключения, а также столбцы с допуслугами также имеют бинарные значения, следовательно, можно рассмотреть их распределения:"
   ]
  },
  {
   "cell_type": "code",
   "execution_count": 19,
   "id": "e907b05e-d7b5-467d-86cb-7e631655201b",
   "metadata": {},
   "outputs": [
    {
     "name": "stdout",
     "output_type": "stream",
     "text": [
      "Fiber optic    0.561175\n",
      "DSL            0.438825\n",
      "Name: InternetService, dtype: float64\n",
      "\n",
      "No     0.63404\n",
      "Yes    0.36596\n",
      "Name: OnlineSecurity, dtype: float64\n",
      "\n",
      "No     0.559724\n",
      "Yes    0.440276\n",
      "Name: OnlineBackup, dtype: float64\n",
      "\n",
      "No     0.560993\n",
      "Yes    0.439007\n",
      "Name: DeviceProtection, dtype: float64\n",
      "\n",
      "No     0.629509\n",
      "Yes    0.370491\n",
      "Name: TechSupport, dtype: float64\n",
      "\n",
      "No     0.509335\n",
      "Yes    0.490665\n",
      "Name: StreamingTV, dtype: float64\n",
      "\n",
      "No     0.504803\n",
      "Yes    0.495197\n",
      "Name: StreamingMovies, dtype: float64\n",
      "\n"
     ]
    }
   ],
   "source": [
    "print(internet['InternetService'].value_counts(normalize=True))\n",
    "print()\n",
    "print(internet['OnlineSecurity'].value_counts(normalize=True))\n",
    "print()\n",
    "print(internet['OnlineBackup'].value_counts(normalize=True))\n",
    "print()\n",
    "print(internet['DeviceProtection'].value_counts(normalize=True))\n",
    "print()\n",
    "print(internet['TechSupport'].value_counts(normalize=True))\n",
    "print()\n",
    "print(internet['StreamingTV'].value_counts(normalize=True))\n",
    "print()\n",
    "print(internet['StreamingMovies'].value_counts(normalize=True))\n",
    "print()"
   ]
  },
  {
   "cell_type": "markdown",
   "id": "6a754d97-3c20-4c70-8b8a-7e1ea61ef8bb",
   "metadata": {},
   "source": [
    "В основном, столбцы имеют нормальное среднее распределение (за исключением `OnlineSecurity`, `TechSupport`). Однако, даже в этих столбцах разница процентных соотношений не так велика."
   ]
  },
  {
   "cell_type": "markdown",
   "id": "983d6d53",
   "metadata": {},
   "source": [
    "После первичной обработки проведем обьединение датафреймов для последующего выделения признаков и целевого признака:"
   ]
  },
  {
   "cell_type": "code",
   "execution_count": 20,
   "id": "5ac63b39",
   "metadata": {},
   "outputs": [
    {
     "data": {
      "text/html": [
       "<div>\n",
       "<style scoped>\n",
       "    .dataframe tbody tr th:only-of-type {\n",
       "        vertical-align: middle;\n",
       "    }\n",
       "\n",
       "    .dataframe tbody tr th {\n",
       "        vertical-align: top;\n",
       "    }\n",
       "\n",
       "    .dataframe thead th {\n",
       "        text-align: right;\n",
       "    }\n",
       "</style>\n",
       "<table border=\"1\" class=\"dataframe\">\n",
       "  <thead>\n",
       "    <tr style=\"text-align: right;\">\n",
       "      <th></th>\n",
       "      <th>customerID</th>\n",
       "      <th>BeginDate</th>\n",
       "      <th>EndDate</th>\n",
       "      <th>Type</th>\n",
       "      <th>PaperlessBilling</th>\n",
       "      <th>PaymentMethod</th>\n",
       "      <th>MonthlyCharges</th>\n",
       "      <th>TotalCharges</th>\n",
       "      <th>gender</th>\n",
       "      <th>SeniorCitizen</th>\n",
       "      <th>Partner</th>\n",
       "      <th>Dependents</th>\n",
       "      <th>InternetService</th>\n",
       "      <th>OnlineSecurity</th>\n",
       "      <th>OnlineBackup</th>\n",
       "      <th>DeviceProtection</th>\n",
       "      <th>TechSupport</th>\n",
       "      <th>StreamingTV</th>\n",
       "      <th>StreamingMovies</th>\n",
       "      <th>MultipleLines</th>\n",
       "    </tr>\n",
       "  </thead>\n",
       "  <tbody>\n",
       "    <tr>\n",
       "      <th>0</th>\n",
       "      <td>7590-VHVEG</td>\n",
       "      <td>2020-01-01</td>\n",
       "      <td>No</td>\n",
       "      <td>Month-to-month</td>\n",
       "      <td>Yes</td>\n",
       "      <td>Electronic check</td>\n",
       "      <td>29.85</td>\n",
       "      <td>31.04</td>\n",
       "      <td>Female</td>\n",
       "      <td>No</td>\n",
       "      <td>Yes</td>\n",
       "      <td>No</td>\n",
       "      <td>DSL</td>\n",
       "      <td>No</td>\n",
       "      <td>Yes</td>\n",
       "      <td>No</td>\n",
       "      <td>No</td>\n",
       "      <td>No</td>\n",
       "      <td>No</td>\n",
       "      <td>no_telephone</td>\n",
       "    </tr>\n",
       "    <tr>\n",
       "      <th>1</th>\n",
       "      <td>5575-GNVDE</td>\n",
       "      <td>2017-04-01</td>\n",
       "      <td>No</td>\n",
       "      <td>One year</td>\n",
       "      <td>No</td>\n",
       "      <td>Mailed check</td>\n",
       "      <td>56.95</td>\n",
       "      <td>2071.84</td>\n",
       "      <td>Male</td>\n",
       "      <td>No</td>\n",
       "      <td>No</td>\n",
       "      <td>No</td>\n",
       "      <td>DSL</td>\n",
       "      <td>Yes</td>\n",
       "      <td>No</td>\n",
       "      <td>Yes</td>\n",
       "      <td>No</td>\n",
       "      <td>No</td>\n",
       "      <td>No</td>\n",
       "      <td>No</td>\n",
       "    </tr>\n",
       "    <tr>\n",
       "      <th>2</th>\n",
       "      <td>3668-QPYBK</td>\n",
       "      <td>2019-10-01</td>\n",
       "      <td>No</td>\n",
       "      <td>Month-to-month</td>\n",
       "      <td>Yes</td>\n",
       "      <td>Mailed check</td>\n",
       "      <td>53.85</td>\n",
       "      <td>226.17</td>\n",
       "      <td>Male</td>\n",
       "      <td>No</td>\n",
       "      <td>No</td>\n",
       "      <td>No</td>\n",
       "      <td>DSL</td>\n",
       "      <td>Yes</td>\n",
       "      <td>Yes</td>\n",
       "      <td>No</td>\n",
       "      <td>No</td>\n",
       "      <td>No</td>\n",
       "      <td>No</td>\n",
       "      <td>No</td>\n",
       "    </tr>\n",
       "    <tr>\n",
       "      <th>3</th>\n",
       "      <td>7795-CFOCW</td>\n",
       "      <td>2016-05-01</td>\n",
       "      <td>No</td>\n",
       "      <td>One year</td>\n",
       "      <td>No</td>\n",
       "      <td>Bank transfer (automatic)</td>\n",
       "      <td>42.30</td>\n",
       "      <td>1960.60</td>\n",
       "      <td>Male</td>\n",
       "      <td>No</td>\n",
       "      <td>No</td>\n",
       "      <td>No</td>\n",
       "      <td>DSL</td>\n",
       "      <td>Yes</td>\n",
       "      <td>No</td>\n",
       "      <td>Yes</td>\n",
       "      <td>Yes</td>\n",
       "      <td>No</td>\n",
       "      <td>No</td>\n",
       "      <td>no_telephone</td>\n",
       "    </tr>\n",
       "    <tr>\n",
       "      <th>4</th>\n",
       "      <td>9237-HQITU</td>\n",
       "      <td>2019-09-01</td>\n",
       "      <td>No</td>\n",
       "      <td>Month-to-month</td>\n",
       "      <td>Yes</td>\n",
       "      <td>Electronic check</td>\n",
       "      <td>70.70</td>\n",
       "      <td>353.50</td>\n",
       "      <td>Female</td>\n",
       "      <td>No</td>\n",
       "      <td>No</td>\n",
       "      <td>No</td>\n",
       "      <td>Fiber optic</td>\n",
       "      <td>No</td>\n",
       "      <td>No</td>\n",
       "      <td>No</td>\n",
       "      <td>No</td>\n",
       "      <td>No</td>\n",
       "      <td>No</td>\n",
       "      <td>No</td>\n",
       "    </tr>\n",
       "  </tbody>\n",
       "</table>\n",
       "</div>"
      ],
      "text/plain": [
       "   customerID   BeginDate EndDate            Type PaperlessBilling  \\\n",
       "0  7590-VHVEG  2020-01-01      No  Month-to-month              Yes   \n",
       "1  5575-GNVDE  2017-04-01      No        One year               No   \n",
       "2  3668-QPYBK  2019-10-01      No  Month-to-month              Yes   \n",
       "3  7795-CFOCW  2016-05-01      No        One year               No   \n",
       "4  9237-HQITU  2019-09-01      No  Month-to-month              Yes   \n",
       "\n",
       "               PaymentMethod  MonthlyCharges  TotalCharges  gender  \\\n",
       "0           Electronic check           29.85         31.04  Female   \n",
       "1               Mailed check           56.95       2071.84    Male   \n",
       "2               Mailed check           53.85        226.17    Male   \n",
       "3  Bank transfer (automatic)           42.30       1960.60    Male   \n",
       "4           Electronic check           70.70        353.50  Female   \n",
       "\n",
       "  SeniorCitizen Partner Dependents InternetService OnlineSecurity  \\\n",
       "0            No     Yes         No             DSL             No   \n",
       "1            No      No         No             DSL            Yes   \n",
       "2            No      No         No             DSL            Yes   \n",
       "3            No      No         No             DSL            Yes   \n",
       "4            No      No         No     Fiber optic             No   \n",
       "\n",
       "  OnlineBackup DeviceProtection TechSupport StreamingTV StreamingMovies  \\\n",
       "0          Yes               No          No          No              No   \n",
       "1           No              Yes          No          No              No   \n",
       "2          Yes               No          No          No              No   \n",
       "3           No              Yes         Yes          No              No   \n",
       "4           No               No          No          No              No   \n",
       "\n",
       "  MultipleLines  \n",
       "0  no_telephone  \n",
       "1            No  \n",
       "2            No  \n",
       "3  no_telephone  \n",
       "4            No  "
      ]
     },
     "metadata": {},
     "output_type": "display_data"
    }
   ],
   "source": [
    "df = contract.merge(personal, on='customerID', how='left')\n",
    "df = df.merge(internet, on='customerID', how='left')\n",
    "df = df.merge(phone, on='customerID', how='left')\n",
    "col_change = ['SeniorCitizen','Partner','Dependents',\n",
    "              'PaperlessBilling']\n",
    "int_col = ['InternetService','OnlineSecurity','OnlineBackup',\n",
    "                         'DeviceProtection','TechSupport','StreamingTV','StreamingMovies']\n",
    "df['MultipleLines'] = df['MultipleLines'].fillna('no_telephone')\n",
    "df[int_col]=df[int_col].fillna('No')\n",
    "display(df.head())"
   ]
  },
  {
   "cell_type": "markdown",
   "id": "d1703ab9",
   "metadata": {},
   "source": [
    "# Исследовательский анализ данных"
   ]
  },
  {
   "cell_type": "markdown",
   "id": "3a42d83b",
   "metadata": {},
   "source": [
    "Для того, чтобы провести исследовательский анализ данных, необходимо выделить целевой признак и признаки, которые будут использоваться при обучении моделей. Так как задача состоит в определении оттока клиентов, целевым признаком будет связан со столбцом `EndDate` - если в нем указана дата ухода, следовательно, клиент ушел. Создадим новый столбец, где событию \"клиент ушел\" приравняем значение 1, а \"клиент продолжает пользоваться услугой/услугами компании\" - 0. "
   ]
  },
  {
   "cell_type": "code",
   "execution_count": 21,
   "id": "d42ae4f4",
   "metadata": {},
   "outputs": [],
   "source": [
    "df['is_gone'] = df['EndDate'].apply(lambda x: 0 if x == 'No' else 1)"
   ]
  },
  {
   "cell_type": "markdown",
   "id": "fcc657aa",
   "metadata": {},
   "source": [
    "Разделим датафрейм для проведения анализа: в первом будут собраны все признаки клиентов,ушедших из компании, а во втором - людей, которые остались."
   ]
  },
  {
   "cell_type": "code",
   "execution_count": 22,
   "id": "b9223305",
   "metadata": {},
   "outputs": [
    {
     "name": "stdout",
     "output_type": "stream",
     "text": [
      "16.0 %\n"
     ]
    }
   ],
   "source": [
    "df_gone = df[df['is_gone']==1]\n",
    "df_stay = df[df['is_gone']==0]\n",
    "#Отобразим количество клиентов, переставших пользоваться услугами компании\n",
    "print(np.round(len(df_gone)/len(df)*100), '%')"
   ]
  },
  {
   "cell_type": "markdown",
   "id": "6cb7d712",
   "metadata": {},
   "source": [
    "Таким образом, услугами компании перестали пользоваться порядка 16% клиентов. Определим распределение признаков для каждой из категорий:"
   ]
  },
  {
   "cell_type": "markdown",
   "id": "7689592a",
   "metadata": {},
   "source": [
    "**gender:**"
   ]
  },
  {
   "cell_type": "code",
   "execution_count": 23,
   "id": "22954cb1",
   "metadata": {},
   "outputs": [
    {
     "data": {
      "image/png": "[encoded data removed]",
      "text/plain": [
       "<Figure size 432x288 with 1 Axes>"
      ]
     },
     "metadata": {
      "needs_background": "light"
     },
     "output_type": "display_data"
    },
    {
     "data": {
      "image/png": "[encoded data removed]",
      "text/plain": [
       "<Figure size 432x288 with 1 Axes>"
      ]
     },
     "metadata": {
      "needs_background": "light"
     },
     "output_type": "display_data"
    }
   ],
   "source": [
    "color = sns.color_palette('Set2')\n",
    "sns.countplot(data=df_gone, x='gender',palette=color)\n",
    "plt.title('Ушедшие клиенты')\n",
    "plt.show()\n",
    "sns.countplot(data=df_stay, x='gender',palette=color,order=['Male','Female'])\n",
    "plt.title('Оставшиеся клиенты')\n",
    "plt.show()"
   ]
  },
  {
   "cell_type": "markdown",
   "id": "2c375137",
   "metadata": {},
   "source": [
    "На графике видно, что распределение полов ушедших и оставшихся клиентов примерно одинаково."
   ]
  },
  {
   "cell_type": "markdown",
   "id": "b65ee395",
   "metadata": {},
   "source": [
    "**SeniorCitizen:**"
   ]
  },
  {
   "cell_type": "code",
   "execution_count": 24,
   "id": "6b7b6c36",
   "metadata": {},
   "outputs": [
    {
     "data": {
      "image/png": "[encoded data removed]",
      "text/plain": [
       "<Figure size 432x288 with 1 Axes>"
      ]
     },
     "metadata": {
      "needs_background": "light"
     },
     "output_type": "display_data"
    },
    {
     "data": {
      "image/png": "[encoded data removed]",
      "text/plain": [
       "<Figure size 432x288 with 1 Axes>"
      ]
     },
     "metadata": {
      "needs_background": "light"
     },
     "output_type": "display_data"
    }
   ],
   "source": [
    "sns.countplot(data=df_gone, x='SeniorCitizen',palette=color)\n",
    "plt.title('Ушедшие клиенты')\n",
    "plt.show()\n",
    "sns.countplot(data=df_stay, x='SeniorCitizen',palette=color)\n",
    "plt.title('Оставшиеся клиенты')\n",
    "plt.show()"
   ]
  },
  {
   "cell_type": "markdown",
   "id": "e0d57bbf",
   "metadata": {},
   "source": [
    "По графику можно сделать выводы, что процент клиентов, являющихся пожилыми людьми, немного больше в группе ушедших клиентов."
   ]
  },
  {
   "cell_type": "markdown",
   "id": "d5f22bfc",
   "metadata": {},
   "source": [
    "**Partner:**"
   ]
  },
  {
   "cell_type": "code",
   "execution_count": 25,
   "id": "719e9a72",
   "metadata": {},
   "outputs": [
    {
     "data": {
      "image/png": "[encoded data removed]",
      "text/plain": [
       "<Figure size 432x288 with 1 Axes>"
      ]
     },
     "metadata": {
      "needs_background": "light"
     },
     "output_type": "display_data"
    },
    {
     "data": {
      "image/png": "[encoded data removed]",
      "text/plain": [
       "<Figure size 432x288 with 1 Axes>"
      ]
     },
     "metadata": {
      "needs_background": "light"
     },
     "output_type": "display_data"
    }
   ],
   "source": [
    "sns.countplot(data=df_gone, x='Partner',palette=color)\n",
    "plt.title('Ушедшие клиенты')\n",
    "plt.show()\n",
    "sns.countplot(data=df_stay, x='Partner',palette=color,order=['No','Yes'])\n",
    "plt.title('Оставшиеся клиенты')\n",
    "plt.show()"
   ]
  },
  {
   "cell_type": "markdown",
   "id": "0acc51ff",
   "metadata": {},
   "source": [
    "Что касается наличия партнера, видно, что клиенты, ушедшие с компании, чаще состоят в отношениях. В свою очередь, доля оставшихся клиентов без пары больше. Также стоит отметить, что разница соотношения между данными группами больше у ушедших клиентов, чем у оставшихся."
   ]
  },
  {
   "cell_type": "markdown",
   "id": "a8ea92ef",
   "metadata": {},
   "source": [
    "**Dependents:**"
   ]
  },
  {
   "cell_type": "code",
   "execution_count": 26,
   "id": "4fb64580",
   "metadata": {},
   "outputs": [
    {
     "data": {
      "image/png": "[encoded data removed]",
      "text/plain": [
       "<Figure size 432x288 with 1 Axes>"
      ]
     },
     "metadata": {
      "needs_background": "light"
     },
     "output_type": "display_data"
    },
    {
     "data": {
      "image/png": "[encoded data removed]",
      "text/plain": [
       "<Figure size 432x288 with 1 Axes>"
      ]
     },
     "metadata": {
      "needs_background": "light"
     },
     "output_type": "display_data"
    }
   ],
   "source": [
    "sns.countplot(data=df_gone, x='Dependents',palette=color)\n",
    "plt.title('Ушедшие клиенты')\n",
    "plt.show()\n",
    "sns.countplot(data=df_stay, x='Dependents',palette=color,order=['Yes','No'])\n",
    "plt.title('Оставшиеся клиенты')\n",
    "plt.show()"
   ]
  },
  {
   "cell_type": "markdown",
   "id": "9b9897c4",
   "metadata": {},
   "source": [
    "Доля клиентов, у которых есть иждивенцы, немного больше в группе ушедших клиентов."
   ]
  },
  {
   "cell_type": "markdown",
   "id": "e81edbfc",
   "metadata": {},
   "source": [
    "**Type:**"
   ]
  },
  {
   "cell_type": "code",
   "execution_count": 27,
   "id": "415f8935",
   "metadata": {},
   "outputs": [
    {
     "data": {
      "image/png": "[encoded data removed]",
      "text/plain": [
       "<Figure size 432x288 with 1 Axes>"
      ]
     },
     "metadata": {
      "needs_background": "light"
     },
     "output_type": "display_data"
    },
    {
     "data": {
      "image/png": "[encoded data removed]",
      "text/plain": [
       "<Figure size 432x288 with 1 Axes>"
      ]
     },
     "metadata": {
      "needs_background": "light"
     },
     "output_type": "display_data"
    }
   ],
   "source": [
    "Type_u = df['Type'].unique()\n",
    "sns.countplot(data=df_gone,x='Type',order=Type_u,palette=color)\n",
    "plt.title('Ушедшие клиенты')\n",
    "plt.show()\n",
    "sns.countplot(data=df_stay, x='Type',order=Type_u,palette=color)\n",
    "plt.title('Оставшиеся клиенты')\n",
    "plt.show()"
   ]
  },
  {
   "cell_type": "markdown",
   "id": "df389fc1",
   "metadata": {},
   "source": [
    "Типы оплаты у групп значительно отличаются - доля годовых подписок у ушедших клиентов значительно больше относительно оставшихся клиентов. Месячный тип подписки популярен в обеих группах."
   ]
  },
  {
   "cell_type": "markdown",
   "id": "71603754",
   "metadata": {},
   "source": [
    "**PaperlessBilling:**"
   ]
  },
  {
   "cell_type": "code",
   "execution_count": 28,
   "id": "5c335702",
   "metadata": {},
   "outputs": [
    {
     "data": {
      "image/png": "[encoded data removed]",
      "text/plain": [
       "<Figure size 432x288 with 1 Axes>"
      ]
     },
     "metadata": {
      "needs_background": "light"
     },
     "output_type": "display_data"
    },
    {
     "data": {
      "image/png": "[encoded data removed]",
      "text/plain": [
       "<Figure size 432x288 with 1 Axes>"
      ]
     },
     "metadata": {
      "needs_background": "light"
     },
     "output_type": "display_data"
    }
   ],
   "source": [
    "sns.countplot(data=df_gone, x='PaperlessBilling',palette=color)\n",
    "plt.title('Ушедшие клиенты')\n",
    "plt.show()\n",
    "sns.countplot(data=df_stay, x='PaperlessBilling',palette=color,order=['No','Yes'])\n",
    "plt.title('Оставшиеся клиенты')\n",
    "plt.show()"
   ]
  },
  {
   "cell_type": "markdown",
   "id": "9eb2b8ae",
   "metadata": {},
   "source": [
    "Ушедшие клиенты чаще получали бумажные чеки."
   ]
  },
  {
   "cell_type": "markdown",
   "id": "ebdaf49d",
   "metadata": {},
   "source": [
    "**PaymentMethod:**"
   ]
  },
  {
   "cell_type": "code",
   "execution_count": 29,
   "id": "44d5a091",
   "metadata": {},
   "outputs": [
    {
     "data": {
      "image/png": "[encoded data removed]",
      "text/plain": [
       "<Figure size 720x288 with 1 Axes>"
      ]
     },
     "metadata": {
      "needs_background": "light"
     },
     "output_type": "display_data"
    },
    {
     "data": {
      "image/png": "[encoded data removed]",
      "text/plain": [
       "<Figure size 720x288 with 1 Axes>"
      ]
     },
     "metadata": {
      "needs_background": "light"
     },
     "output_type": "display_data"
    }
   ],
   "source": [
    "payment_methods = df['PaymentMethod'].unique()\n",
    "plt.figure(figsize=(10, 4))\n",
    "sns.countplot(data=df_gone, x='PaymentMethod', order=payment_methods, palette=color)\n",
    "plt.title('Ушедшие клиенты')\n",
    "plt.show()\n",
    "plt.figure(figsize=(10, 4))\n",
    "sns.countplot(data=df_stay, x='PaymentMethod', order=payment_methods, palette=color)\n",
    "plt.title('Оставшиеся клиенты')\n",
    "plt.show()"
   ]
  },
  {
   "cell_type": "markdown",
   "id": "adbf3a1a",
   "metadata": {},
   "source": [
    "Таким образом, обе группы клиентов чаще всего получали электронный чек, примерно одинаково оплачивали кредиткой и банковской картой. Однако, у ушедших клиентов значительно меньше получений чека по почте по сравнению с оставшимися клиентами. "
   ]
  },
  {
   "cell_type": "markdown",
   "id": "10e7becf",
   "metadata": {},
   "source": [
    "**MonthlyCharges:**"
   ]
  },
  {
   "cell_type": "code",
   "execution_count": 30,
   "id": "fe85bfad",
   "metadata": {},
   "outputs": [
    {
     "data": {
      "image/png": "[encoded data removed]",
      "text/plain": [
       "<Figure size 576x432 with 1 Axes>"
      ]
     },
     "metadata": {
      "needs_background": "light"
     },
     "output_type": "display_data"
    },
    {
     "data": {
      "image/png": "[encoded data removed]",
      "text/plain": [
       "<Figure size 576x432 with 1 Axes>"
      ]
     },
     "metadata": {
      "needs_background": "light"
     },
     "output_type": "display_data"
    }
   ],
   "source": [
    "plt.figure(figsize=(8, 6))\n",
    "sns.histplot(data=df_gone, x='MonthlyCharges', bins=20)\n",
    "plt.title('Ушедшие клиенты')\n",
    "plt.show()\n",
    "plt.figure(figsize=(8, 6))\n",
    "sns.histplot(data=df_stay, x='MonthlyCharges', bins=20)\n",
    "plt.title('Оставшиеся клиенты')\n",
    "plt.show()"
   ]
  },
  {
   "cell_type": "markdown",
   "id": "7625e7fa",
   "metadata": {},
   "source": [
    "Таким образом, у ушедших клиентов был более высокий средний чек, стремящийся к отметке 105 долларов. У оставшихся клиентов минимальный средний чек, равный приблизительно 18-28 долларов."
   ]
  },
  {
   "cell_type": "markdown",
   "id": "3ae62c1c",
   "metadata": {},
   "source": [
    "**TotalCharges:**"
   ]
  },
  {
   "cell_type": "code",
   "execution_count": 31,
   "id": "e696a5de",
   "metadata": {},
   "outputs": [
    {
     "data": {
      "image/png": "[encoded data removed]",
      "text/plain": [
       "<Figure size 576x432 with 1 Axes>"
      ]
     },
     "metadata": {
      "needs_background": "light"
     },
     "output_type": "display_data"
    },
    {
     "data": {
      "image/png": "[encoded data removed]",
      "text/plain": [
       "<Figure size 576x432 with 1 Axes>"
      ]
     },
     "metadata": {
      "needs_background": "light"
     },
     "output_type": "display_data"
    }
   ],
   "source": [
    "plt.figure(figsize=(8, 6))\n",
    "sns.histplot(data=df_gone, x='TotalCharges', bins=20)\n",
    "plt.title('Ушедшие клиенты')\n",
    "plt.show()\n",
    "plt.figure(figsize=(8, 6))\n",
    "sns.histplot(data=df_stay, x='TotalCharges', bins=20)\n",
    "plt.title('Оставшиеся клиенты')\n",
    "plt.show()"
   ]
  },
  {
   "cell_type": "markdown",
   "id": "da0f1cb9",
   "metadata": {},
   "source": [
    "У оставшихся клиентов наблюдается нисходящий тренд суммарных затрат, причем большинство из них тратят минимальную сумму - до 500 долларов. У ушедших же клиентов наблюдается значительный разброс суммарных затрат, а два пика находятся в отметках 1500 и 3000 долларов, что в 3 и 6 раз больше значения пика затрат у оставшихся клиентов соответственно."
   ]
  },
  {
   "cell_type": "markdown",
   "id": "80a1b183",
   "metadata": {},
   "source": [
    "**MultipleLines:**"
   ]
  },
  {
   "cell_type": "code",
   "execution_count": 32,
   "id": "df8c62c3",
   "metadata": {},
   "outputs": [
    {
     "data": {
      "image/png": "[encoded data removed]",
      "text/plain": [
       "<Figure size 432x288 with 1 Axes>"
      ]
     },
     "metadata": {
      "needs_background": "light"
     },
     "output_type": "display_data"
    },
    {
     "data": {
      "image/png": "[encoded data removed]",
      "text/plain": [
       "<Figure size 432x288 with 1 Axes>"
      ]
     },
     "metadata": {
      "needs_background": "light"
     },
     "output_type": "display_data"
    }
   ],
   "source": [
    "sns.countplot(data=df_gone, x='MultipleLines',palette=color)\n",
    "plt.title('Ушедшие клиенты')\n",
    "plt.show()\n",
    "sns.countplot(data=df_stay, x='MultipleLines',palette=color,order=['No','Yes','no_telephone'])\n",
    "plt.title('Оставшиеся клиенты')\n",
    "plt.show()"
   ]
  },
  {
   "cell_type": "markdown",
   "id": "aa00a5c5",
   "metadata": {},
   "source": [
    "Ушедшие клиенты представлены большим количеством лиц, для которых предоставлялась возможность ведения параллельных линий. В свою очередь, у большинства оставшихся клиентов данная возможность отсутсвует. Возможно, дело в работе системы обеспечения возможности ведения параллельных линий."
   ]
  },
  {
   "cell_type": "markdown",
   "id": "f8b6088e",
   "metadata": {},
   "source": [
    "**InternetService:**"
   ]
  },
  {
   "cell_type": "code",
   "execution_count": 33,
   "id": "6e6b4114",
   "metadata": {},
   "outputs": [
    {
     "data": {
      "image/png": "[encoded data removed]",
      "text/plain": [
       "<Figure size 432x288 with 1 Axes>"
      ]
     },
     "metadata": {
      "needs_background": "light"
     },
     "output_type": "display_data"
    },
    {
     "data": {
      "image/png": "[encoded data removed]",
      "text/plain": [
       "<Figure size 432x288 with 1 Axes>"
      ]
     },
     "metadata": {
      "needs_background": "light"
     },
     "output_type": "display_data"
    }
   ],
   "source": [
    "sns.countplot(data=df_gone, x='InternetService',palette=color)\n",
    "plt.title('Ушедшие клиенты')\n",
    "plt.show()\n",
    "sns.countplot(data=df_stay, x='InternetService',palette=color)\n",
    "plt.title('Оставшиеся клиенты')\n",
    "plt.show()"
   ]
  },
  {
   "cell_type": "markdown",
   "id": "f60f8db5",
   "metadata": {},
   "source": [
    "У обеих групп клиентов больше всего представлено оптоволоконное соединение. В свою очередь, разница между оптоволоконным соединением и DSL у покинувших компанию клиентов не такая значительная, как у оставшихся клиентов. У покинувшей группы меньше клиентов без подключенного интернета по сравнению с оставшимися пользователями. Так как последующие признаки напрямую связаны с интернетом и могут быть сильно зависимы друг от друга, не будем рассматривать их отдельно и исследуем их при рассмотрении коллинеарности."
   ]
  },
  {
   "cell_type": "markdown",
   "id": "15d172cf",
   "metadata": {},
   "source": [
    "**Исследование корреляции признаков:**"
   ]
  },
  {
   "cell_type": "markdown",
   "id": "68ee6a3b",
   "metadata": {},
   "source": [
    "Для исследования корреляции, в первую очередь необходимо выделить признаки, которые будут использоваться при обучении модели. В первую очередь, из столбца `EndDate` и `BeginDate` можно определить новый признак, а именно - длительность использования услуг компании. Если клиент ушел, данный признак будет определяться как разность значений `EndDate` и `BeginDate`, если нет-разность даты выгрузки базы данных (1 февраля 2020 года) и `BeginDate`"
   ]
  },
  {
   "cell_type": "code",
   "execution_count": 34,
   "id": "ab79f7f6-8a9e-4476-972e-75ad04ad1080",
   "metadata": {},
   "outputs": [],
   "source": [
    "#определим дату выгрузки датафрейма\n",
    "data_load = pd.to_datetime('2020-02-01')\n",
    "\n",
    "#переведем столбцы в формат datetime для дальнейших рассчетов\n",
    "\n",
    "df['BeginDate'] = pd.to_datetime(df['BeginDate'],format='%Y-%m-%d', errors='coerce')  \n",
    "df['EndDate'] = pd.to_datetime(df['EndDate'], format='%Y-%m-%d', errors='coerce')\n",
    "#так как нам известна чека за месяц, отобразим длительность в месяцах\n",
    "\n",
    "def calculate_duration(x):\n",
    "    if pd.isnull(x['EndDate']):\n",
    "        return (data_load - x['BeginDate']).days\n",
    "    else:\n",
    "        return (x['EndDate'] - x['BeginDate']).days \n",
    "\n",
    "df['duration'] = (df.apply(calculate_duration, axis=1)).astype(float)"
   ]
  },
  {
   "cell_type": "markdown",
   "id": "81bd787a",
   "metadata": {},
   "source": [
    "Далее, столбцы `BeginDate` и `EndDate` нам не потребуются, поэтому удалим их:"
   ]
  },
  {
   "cell_type": "code",
   "execution_count": 35,
   "id": "a59a0ddd",
   "metadata": {},
   "outputs": [],
   "source": [
    "df.drop(['BeginDate', 'EndDate','customerID'], axis=1, inplace=True)"
   ]
  },
  {
   "cell_type": "markdown",
   "id": "1f266dd8",
   "metadata": {},
   "source": [
    "Выделим из полученного датафрейма признаки для вычисления корреляции:"
   ]
  },
  {
   "cell_type": "code",
   "execution_count": 36,
   "id": "f5fd2d4c",
   "metadata": {},
   "outputs": [
    {
     "name": "stdout",
     "output_type": "stream",
     "text": [
      "interval columns not set, guessing: ['MonthlyCharges', 'TotalCharges', 'duration']\n"
     ]
    },
    {
     "data": {
      "image/png": "[encoded data removed]",
      "text/plain": [
       "<Figure size 720x576 with 2 Axes>"
      ]
     },
     "metadata": {
      "needs_background": "light"
     },
     "output_type": "display_data"
    }
   ],
   "source": [
    "df_cor = df.drop('is_gone',axis=1)\n",
    "cor = phik_matrix(df_cor)\n",
    "plt.figure(figsize=(10, 8))\n",
    "sns.heatmap(cor, cmap='coolwarm', annot=True, fmt=\".2f\")\n",
    "plt.title(\"Корреляция признаков\")\n",
    "plt.show()"
   ]
  },
  {
   "cell_type": "markdown",
   "id": "6f75fe8a",
   "metadata": {},
   "source": [
    "Исследуем данную тепловую карту корреляции:\n",
    "1. В первую очередь, наблюдается значительная зависимость(0.62) между `MonthlyCharges` и `TotalCharges`. Это логично, ведь один столбец состоит из суммы другого. Также наблюдается корреляция со столбцом `duration`. В связи с этим целесообразно оставить только один столбец, а именно `MonthlyCharges`;\n",
    "2. Наблюдается высокая корреляция между интернет-признаками, поэтому, целесообразно оставить только 1 признак - `InternetService`\n",
    "3. Столбцы `gender` и `Dependents` имеют низкую корреляцию со всеми остальными признаками(за исключением партнеров и возраста, но это обьясняется социальной структурой и поэтому данная корреляция не подходит для задачи проекта), поэтому также не будем использовать их при обучении;"
   ]
  },
  {
   "cell_type": "code",
   "execution_count": 37,
   "id": "8b6ac965-9f60-40cb-b63a-fc0fc31b2f38",
   "metadata": {},
   "outputs": [
    {
     "data": {
      "text/html": [
       "<div>\n",
       "<style scoped>\n",
       "    .dataframe tbody tr th:only-of-type {\n",
       "        vertical-align: middle;\n",
       "    }\n",
       "\n",
       "    .dataframe tbody tr th {\n",
       "        vertical-align: top;\n",
       "    }\n",
       "\n",
       "    .dataframe thead th {\n",
       "        text-align: right;\n",
       "    }\n",
       "</style>\n",
       "<table border=\"1\" class=\"dataframe\">\n",
       "  <thead>\n",
       "    <tr style=\"text-align: right;\">\n",
       "      <th></th>\n",
       "      <th>Type</th>\n",
       "      <th>PaymentMethod</th>\n",
       "      <th>MonthlyCharges</th>\n",
       "      <th>SeniorCitizen</th>\n",
       "      <th>Partner</th>\n",
       "      <th>InternetService</th>\n",
       "      <th>MultipleLines</th>\n",
       "      <th>is_gone</th>\n",
       "      <th>duration</th>\n",
       "    </tr>\n",
       "  </thead>\n",
       "  <tbody>\n",
       "    <tr>\n",
       "      <th>0</th>\n",
       "      <td>Month-to-month</td>\n",
       "      <td>Electronic check</td>\n",
       "      <td>29.85</td>\n",
       "      <td>No</td>\n",
       "      <td>Yes</td>\n",
       "      <td>DSL</td>\n",
       "      <td>no_telephone</td>\n",
       "      <td>0</td>\n",
       "      <td>31.0</td>\n",
       "    </tr>\n",
       "    <tr>\n",
       "      <th>1</th>\n",
       "      <td>One year</td>\n",
       "      <td>Mailed check</td>\n",
       "      <td>56.95</td>\n",
       "      <td>No</td>\n",
       "      <td>No</td>\n",
       "      <td>DSL</td>\n",
       "      <td>No</td>\n",
       "      <td>0</td>\n",
       "      <td>1036.0</td>\n",
       "    </tr>\n",
       "    <tr>\n",
       "      <th>2</th>\n",
       "      <td>Month-to-month</td>\n",
       "      <td>Mailed check</td>\n",
       "      <td>53.85</td>\n",
       "      <td>No</td>\n",
       "      <td>No</td>\n",
       "      <td>DSL</td>\n",
       "      <td>No</td>\n",
       "      <td>0</td>\n",
       "      <td>123.0</td>\n",
       "    </tr>\n",
       "    <tr>\n",
       "      <th>3</th>\n",
       "      <td>One year</td>\n",
       "      <td>Bank transfer (automatic)</td>\n",
       "      <td>42.30</td>\n",
       "      <td>No</td>\n",
       "      <td>No</td>\n",
       "      <td>DSL</td>\n",
       "      <td>no_telephone</td>\n",
       "      <td>0</td>\n",
       "      <td>1371.0</td>\n",
       "    </tr>\n",
       "    <tr>\n",
       "      <th>4</th>\n",
       "      <td>Month-to-month</td>\n",
       "      <td>Electronic check</td>\n",
       "      <td>70.70</td>\n",
       "      <td>No</td>\n",
       "      <td>No</td>\n",
       "      <td>Fiber optic</td>\n",
       "      <td>No</td>\n",
       "      <td>0</td>\n",
       "      <td>153.0</td>\n",
       "    </tr>\n",
       "  </tbody>\n",
       "</table>\n",
       "</div>"
      ],
      "text/plain": [
       "             Type              PaymentMethod  MonthlyCharges SeniorCitizen  \\\n",
       "0  Month-to-month           Electronic check           29.85            No   \n",
       "1        One year               Mailed check           56.95            No   \n",
       "2  Month-to-month               Mailed check           53.85            No   \n",
       "3        One year  Bank transfer (automatic)           42.30            No   \n",
       "4  Month-to-month           Electronic check           70.70            No   \n",
       "\n",
       "  Partner InternetService MultipleLines  is_gone  duration  \n",
       "0     Yes             DSL  no_telephone        0      31.0  \n",
       "1      No             DSL            No        0    1036.0  \n",
       "2      No             DSL            No        0     123.0  \n",
       "3      No             DSL  no_telephone        0    1371.0  \n",
       "4      No     Fiber optic            No        0     153.0  "
      ]
     },
     "metadata": {},
     "output_type": "display_data"
    }
   ],
   "source": [
    "df.drop(['gender','TotalCharges','DeviceProtection','TechSupport','StreamingMovies','OnlineBackup','OnlineSecurity',\n",
    "         'StreamingTV','Dependents','PaperlessBilling'], axis=1, inplace=True)\n",
    "display(df.head())"
   ]
  },
  {
   "cell_type": "markdown",
   "id": "ffc3edc1-19a6-4d13-b56d-4026190f101c",
   "metadata": {},
   "source": [
    "# Обучение модели"
   ]
  },
  {
   "cell_type": "markdown",
   "id": "fb49d4a7-d219-4fa1-a744-02d82835a177",
   "metadata": {},
   "source": [
    "Для того, чтобы провести кодирование данных, разделим датафрейм на обучающую и тестовую выборку. Кодирование категориальных признаков происходит после разделения для того, чтобы не было утечки в данных."
   ]
  },
  {
   "cell_type": "code",
   "execution_count": 38,
   "id": "2ea2d884-0238-49ed-bf9d-1592f9e81456",
   "metadata": {},
   "outputs": [],
   "source": [
    "RANDOM_STATE = 140823\n",
    "features = df.drop('is_gone', axis=1)\n",
    "target = df['is_gone']\n",
    "features_train, features_test, target_train, target_test = train_test_split(features, target, test_size=0.25,\n",
    "                                                                           random_state=RANDOM_STATE, shuffle=True)"
   ]
  },
  {
   "cell_type": "markdown",
   "id": "14aea929-7ea9-49e1-8399-86b3257a6d28",
   "metadata": {},
   "source": [
    "Произведем кодирование категориальных признаков. Для этого определим список категориальных признаков и используем OneHotEncoder. Так как мы не используем линейные модели, масштабирование численных признаков не нужно."
   ]
  },
  {
   "cell_type": "code",
   "execution_count": 39,
   "id": "c1347382-b87a-4559-8904-7a30b7bc27ab",
   "metadata": {},
   "outputs": [
    {
     "data": {
      "text/html": [
       "<div>\n",
       "<style scoped>\n",
       "    .dataframe tbody tr th:only-of-type {\n",
       "        vertical-align: middle;\n",
       "    }\n",
       "\n",
       "    .dataframe tbody tr th {\n",
       "        vertical-align: top;\n",
       "    }\n",
       "\n",
       "    .dataframe thead th {\n",
       "        text-align: right;\n",
       "    }\n",
       "</style>\n",
       "<table border=\"1\" class=\"dataframe\">\n",
       "  <thead>\n",
       "    <tr style=\"text-align: right;\">\n",
       "      <th></th>\n",
       "      <th>MonthlyCharges</th>\n",
       "      <th>duration</th>\n",
       "      <th>Type_One year</th>\n",
       "      <th>Type_Two year</th>\n",
       "      <th>PaymentMethod_Credit card (automatic)</th>\n",
       "      <th>PaymentMethod_Electronic check</th>\n",
       "      <th>PaymentMethod_Mailed check</th>\n",
       "      <th>SeniorCitizen_Yes</th>\n",
       "      <th>Partner_Yes</th>\n",
       "      <th>InternetService_Fiber optic</th>\n",
       "      <th>InternetService_No</th>\n",
       "      <th>MultipleLines_Yes</th>\n",
       "      <th>MultipleLines_no_telephone</th>\n",
       "    </tr>\n",
       "  </thead>\n",
       "  <tbody>\n",
       "    <tr>\n",
       "      <th>1723</th>\n",
       "      <td>81.65</td>\n",
       "      <td>1371.0</td>\n",
       "      <td>0.0</td>\n",
       "      <td>1.0</td>\n",
       "      <td>0.0</td>\n",
       "      <td>0.0</td>\n",
       "      <td>0.0</td>\n",
       "      <td>0.0</td>\n",
       "      <td>0.0</td>\n",
       "      <td>0.0</td>\n",
       "      <td>0.0</td>\n",
       "      <td>0.0</td>\n",
       "      <td>0.0</td>\n",
       "    </tr>\n",
       "    <tr>\n",
       "      <th>1616</th>\n",
       "      <td>86.45</td>\n",
       "      <td>1126.0</td>\n",
       "      <td>0.0</td>\n",
       "      <td>0.0</td>\n",
       "      <td>0.0</td>\n",
       "      <td>1.0</td>\n",
       "      <td>0.0</td>\n",
       "      <td>0.0</td>\n",
       "      <td>0.0</td>\n",
       "      <td>1.0</td>\n",
       "      <td>0.0</td>\n",
       "      <td>1.0</td>\n",
       "      <td>0.0</td>\n",
       "    </tr>\n",
       "    <tr>\n",
       "      <th>5545</th>\n",
       "      <td>20.60</td>\n",
       "      <td>1918.0</td>\n",
       "      <td>0.0</td>\n",
       "      <td>1.0</td>\n",
       "      <td>0.0</td>\n",
       "      <td>0.0</td>\n",
       "      <td>1.0</td>\n",
       "      <td>0.0</td>\n",
       "      <td>0.0</td>\n",
       "      <td>0.0</td>\n",
       "      <td>1.0</td>\n",
       "      <td>0.0</td>\n",
       "      <td>0.0</td>\n",
       "    </tr>\n",
       "    <tr>\n",
       "      <th>3580</th>\n",
       "      <td>40.00</td>\n",
       "      <td>215.0</td>\n",
       "      <td>0.0</td>\n",
       "      <td>0.0</td>\n",
       "      <td>0.0</td>\n",
       "      <td>0.0</td>\n",
       "      <td>1.0</td>\n",
       "      <td>0.0</td>\n",
       "      <td>0.0</td>\n",
       "      <td>0.0</td>\n",
       "      <td>0.0</td>\n",
       "      <td>0.0</td>\n",
       "      <td>1.0</td>\n",
       "    </tr>\n",
       "    <tr>\n",
       "      <th>1575</th>\n",
       "      <td>71.70</td>\n",
       "      <td>641.0</td>\n",
       "      <td>1.0</td>\n",
       "      <td>0.0</td>\n",
       "      <td>0.0</td>\n",
       "      <td>0.0</td>\n",
       "      <td>0.0</td>\n",
       "      <td>1.0</td>\n",
       "      <td>1.0</td>\n",
       "      <td>0.0</td>\n",
       "      <td>0.0</td>\n",
       "      <td>1.0</td>\n",
       "      <td>0.0</td>\n",
       "    </tr>\n",
       "  </tbody>\n",
       "</table>\n",
       "</div>"
      ],
      "text/plain": [
       "      MonthlyCharges  duration  Type_One year  Type_Two year  \\\n",
       "1723           81.65    1371.0            0.0            1.0   \n",
       "1616           86.45    1126.0            0.0            0.0   \n",
       "5545           20.60    1918.0            0.0            1.0   \n",
       "3580           40.00     215.0            0.0            0.0   \n",
       "1575           71.70     641.0            1.0            0.0   \n",
       "\n",
       "      PaymentMethod_Credit card (automatic)  PaymentMethod_Electronic check  \\\n",
       "1723                                    0.0                             0.0   \n",
       "1616                                    0.0                             1.0   \n",
       "5545                                    0.0                             0.0   \n",
       "3580                                    0.0                             0.0   \n",
       "1575                                    0.0                             0.0   \n",
       "\n",
       "      PaymentMethod_Mailed check  SeniorCitizen_Yes  Partner_Yes  \\\n",
       "1723                         0.0                0.0          0.0   \n",
       "1616                         0.0                0.0          0.0   \n",
       "5545                         1.0                0.0          0.0   \n",
       "3580                         1.0                0.0          0.0   \n",
       "1575                         0.0                1.0          1.0   \n",
       "\n",
       "      InternetService_Fiber optic  InternetService_No  MultipleLines_Yes  \\\n",
       "1723                          0.0                 0.0                0.0   \n",
       "1616                          1.0                 0.0                1.0   \n",
       "5545                          0.0                 1.0                0.0   \n",
       "3580                          0.0                 0.0                0.0   \n",
       "1575                          0.0                 0.0                1.0   \n",
       "\n",
       "      MultipleLines_no_telephone  \n",
       "1723                         0.0  \n",
       "1616                         0.0  \n",
       "5545                         0.0  \n",
       "3580                         1.0  \n",
       "1575                         0.0  "
      ]
     },
     "metadata": {},
     "output_type": "display_data"
    },
    {
     "name": "stdout",
     "output_type": "stream",
     "text": [
      "<class 'pandas.core.frame.DataFrame'>\n",
      "Int64Index: 5274 entries, 1723 to 1470\n",
      "Data columns (total 13 columns):\n",
      " #   Column                                 Non-Null Count  Dtype  \n",
      "---  ------                                 --------------  -----  \n",
      " 0   MonthlyCharges                         5274 non-null   float64\n",
      " 1   duration                               5274 non-null   float64\n",
      " 2   Type_One year                          5274 non-null   float64\n",
      " 3   Type_Two year                          5274 non-null   float64\n",
      " 4   PaymentMethod_Credit card (automatic)  5274 non-null   float64\n",
      " 5   PaymentMethod_Electronic check         5274 non-null   float64\n",
      " 6   PaymentMethod_Mailed check             5274 non-null   float64\n",
      " 7   SeniorCitizen_Yes                      5274 non-null   float64\n",
      " 8   Partner_Yes                            5274 non-null   float64\n",
      " 9   InternetService_Fiber optic            5274 non-null   float64\n",
      " 10  InternetService_No                     5274 non-null   float64\n",
      " 11  MultipleLines_Yes                      5274 non-null   float64\n",
      " 12  MultipleLines_no_telephone             5274 non-null   float64\n",
      "dtypes: float64(13)\n",
      "memory usage: 576.8 KB\n"
     ]
    }
   ],
   "source": [
    "ohe_features = features_train.select_dtypes(include='object').columns.to_list()\n",
    "encoder_ohe = OneHotEncoder(drop='first', handle_unknown='ignore', sparse=False)\n",
    "encoder_ohe.fit(features_train[ohe_features])\n",
    "features_train[encoder_ohe.get_feature_names_out()] = encoder_ohe.transform(features_train[ohe_features])\n",
    "features_train = features_train.drop(ohe_features, axis=1)\n",
    "#Проведем проверку\n",
    "display(features_train.head())\n",
    "features_train.info()"
   ]
  },
  {
   "cell_type": "markdown",
   "id": "474d8287-63a0-44b0-baff-04b5b23e262e",
   "metadata": {},
   "source": [
    "**RandomForestClassifier**"
   ]
  },
  {
   "cell_type": "code",
   "execution_count": 40,
   "id": "7e1d9fc4-75bf-41b2-9825-ed52f5b4b575",
   "metadata": {
    "scrolled": true
   },
   "outputs": [
    {
     "name": "stdout",
     "output_type": "stream",
     "text": [
      "Лучшие параметры: {'n_estimators': 291, 'max_depth': 4}\n",
      "Лучшее AUC: 0.8156476384201035\n",
      "Лучшая модель: RandomForestClassifier(class_weight='balanced', max_depth=4, n_estimators=291,\n",
      "                       random_state=140823)\n"
     ]
    }
   ],
   "source": [
    "# Задаем параметры для поиска\n",
    "param_dist = {\n",
    "    'n_estimators': range(1,500,2),\n",
    "    'max_depth': range(1,5)\n",
    "}\n",
    "\n",
    "# Создаем модель RandomForestClassifier\n",
    "rf_model = RandomForestClassifier(random_state=RANDOM_STATE, class_weight='balanced')\n",
    "\n",
    "scoring=['roc_auc', 'accuracy']\n",
    "refit = 'roc_auc'\n",
    "\n",
    "# Создаем объект RandomizedSearchCV\n",
    "random_search = RandomizedSearchCV(rf_model, param_distributions=param_dist, cv=5, scoring=scoring,\n",
    "                                   refit=refit)\n",
    "random_search.fit(features_train, target_train)\n",
    "\n",
    "# Выводим результаты\n",
    "print(\"Лучшие параметры:\", random_search.best_params_)\n",
    "print(\"Лучшее AUC:\", random_search.best_score_)\n",
    "print(\"Лучшая модель:\", random_search.best_estimator_)"
   ]
  },
  {
   "cell_type": "markdown",
   "id": "40604bd4-11fb-403e-8a2a-cd0cb274468f",
   "metadata": {},
   "source": [
    "**Catboost**"
   ]
  },
  {
   "cell_type": "code",
   "execution_count": 41,
   "id": "085e07e9",
   "metadata": {},
   "outputs": [
    {
     "name": "stdout",
     "output_type": "stream",
     "text": [
      "Значение метрики модели CatBoost: 0.86\n",
      "При гиперпараметрах модели: {'learning_rate': 0.5, 'l2_leaf_reg': 3, 'iterations': 47, 'depth': 6}\n"
     ]
    }
   ],
   "source": [
    "model = CatBoostClassifier(random_state=RANDOM_STATE)\n",
    "parametrs = {\n",
    "    'iterations': range(1,70, 2),\n",
    "    'depth': range(1,10),\n",
    "    'learning_rate': [0.01, 0.1, 0.5],\n",
    "    'l2_leaf_reg': [1, 3, 5]\n",
    "}\n",
    "cat_model = RandomizedSearchCV(model, param_distributions = parametrs, scoring=scoring,refit=refit, cv=5)\n",
    "cat_model.fit(features_train, target_train, verbose=False)\n",
    "print('Значение метрики модели CatBoost:', np.round(cat_model.best_score_, 2))\n",
    "print('При гиперпараметрах модели:', cat_model.best_params_)"
   ]
  },
  {
   "cell_type": "markdown",
   "id": "5e6b2d74",
   "metadata": {},
   "source": [
    "Таким образом, модель catboost дает лучшую метрику на выходе и соответственно может использоваться в качестве основной. "
   ]
  },
  {
   "cell_type": "markdown",
   "id": "ba9c9e60",
   "metadata": {},
   "source": [
    "# Тестирование модели"
   ]
  },
  {
   "cell_type": "markdown",
   "id": "d469bc17",
   "metadata": {},
   "source": [
    "Протестируем выбранную модель на тестовых данных:"
   ]
  },
  {
   "cell_type": "code",
   "execution_count": 42,
   "id": "550f3f59",
   "metadata": {},
   "outputs": [
    {
     "name": "stdout",
     "output_type": "stream",
     "text": [
      "ROC-AUC метрика на тестовых данных составляет 0.8759839444455643\n"
     ]
    }
   ],
   "source": [
    "#закодируем данные в тестовой выборке\n",
    "features_test[encoder_ohe.get_feature_names_out()] = encoder_ohe.transform(features_test[ohe_features])\n",
    "features_test = features_test.drop(ohe_features, axis=1)\n",
    "predictions = cat_model.predict_proba(features_test)[:, 1]\n",
    "print('ROC-AUC метрика на тестовых данных составляет', roc_auc_score(target_test, predictions))"
   ]
  },
  {
   "cell_type": "markdown",
   "id": "c2dccd50",
   "metadata": {},
   "source": [
    "Таким образом, точность финальной модели на тестовых данных проходит установленный порог ROC-AUC и может использоваться для прогнозирования оттока клиентов."
   ]
  },
  {
   "cell_type": "markdown",
   "id": "a1b9ce61",
   "metadata": {},
   "source": [
    "# Вывод"
   ]
  },
  {
   "cell_type": "markdown",
   "id": "c6aebe1e",
   "metadata": {},
   "source": [
    "Целью данной работы являлось создание такой модели, которая может предсказать потенциальных клиентов, решивших покинуть компанию, для дальнейшей выдачи промокодов, чтобы клиентов сохранить. При исследоватльском анализе данных, было выяснены основные различия между оставшимися клиентами и теми, кто покинул компанию. На основе этих данных, а также матрицы корреляции, были выбраны основные признаки, которые будет использовать модель. В итоге, была выбрана модель классификации CatBoost, показавшая метрику 0.88 на тестовых данных (при пороге в 0.85). "
   ]
  }
 ],
 "metadata": {
  "ExecuteTimeLog": [
   {
    "duration": 396,
    "start_time": "2023-08-21T17:37:22.441Z"
   },
   {
    "duration": 133,
    "start_time": "2023-08-21T17:37:23.551Z"
   },
   {
    "duration": 13,
    "start_time": "2023-08-21T17:37:24.135Z"
   },
   {
    "duration": 94,
    "start_time": "2023-08-21T17:37:24.711Z"
   },
   {
    "duration": 74,
    "start_time": "2023-08-21T17:37:25.016Z"
   },
   {
    "duration": 16,
    "start_time": "2023-08-21T17:37:25.334Z"
   },
   {
    "duration": 11,
    "start_time": "2023-08-21T17:37:49.334Z"
   },
   {
    "duration": 3,
    "start_time": "2023-08-21T17:38:01.470Z"
   },
   {
    "duration": 15,
    "start_time": "2023-08-21T17:38:12.455Z"
   },
   {
    "duration": 10,
    "start_time": "2023-08-21T17:39:02.350Z"
   },
   {
    "duration": 3,
    "start_time": "2023-08-21T17:39:38.438Z"
   },
   {
    "duration": 414,
    "start_time": "2023-08-21T17:39:46.500Z"
   },
   {
    "duration": 57,
    "start_time": "2023-08-21T17:39:47.189Z"
   },
   {
    "duration": 16,
    "start_time": "2023-08-21T17:39:48.221Z"
   },
   {
    "duration": 52,
    "start_time": "2023-08-21T17:39:49.789Z"
   },
   {
    "duration": 100,
    "start_time": "2023-08-21T17:39:51.940Z"
   },
   {
    "duration": 10,
    "start_time": "2023-08-21T17:41:56.052Z"
   },
   {
    "duration": 5,
    "start_time": "2023-08-21T17:42:17.156Z"
   },
   {
    "duration": 4,
    "start_time": "2023-08-21T17:42:23.658Z"
   },
   {
    "duration": 64,
    "start_time": "2023-08-22T08:02:34.522Z"
   },
   {
    "duration": 405,
    "start_time": "2023-08-22T08:02:39.814Z"
   },
   {
    "duration": 147,
    "start_time": "2023-08-22T08:02:40.221Z"
   },
   {
    "duration": 16,
    "start_time": "2023-08-22T08:02:40.370Z"
   },
   {
    "duration": 79,
    "start_time": "2023-08-22T08:02:40.388Z"
   },
   {
    "duration": 5,
    "start_time": "2023-08-22T08:02:40.470Z"
   },
   {
    "duration": 18,
    "start_time": "2023-08-22T08:02:40.477Z"
   },
   {
    "duration": 16,
    "start_time": "2023-08-22T08:02:40.496Z"
   },
   {
    "duration": 572,
    "start_time": "2023-08-22T08:02:40.514Z"
   },
   {
    "duration": 124,
    "start_time": "2023-08-22T08:02:41.087Z"
   },
   {
    "duration": 74,
    "start_time": "2023-08-22T08:02:41.212Z"
   },
   {
    "duration": 6,
    "start_time": "2023-08-22T08:02:41.288Z"
   },
   {
    "duration": 141,
    "start_time": "2023-08-22T08:02:41.296Z"
   },
   {
    "duration": 18,
    "start_time": "2023-08-22T08:02:41.439Z"
   },
   {
    "duration": 6,
    "start_time": "2023-08-22T08:05:56.667Z"
   },
   {
    "duration": 2,
    "start_time": "2023-08-22T08:06:03.510Z"
   },
   {
    "duration": 49,
    "start_time": "2023-08-22T08:06:03.531Z"
   },
   {
    "duration": 10,
    "start_time": "2023-08-22T08:06:03.582Z"
   },
   {
    "duration": 44,
    "start_time": "2023-08-22T08:06:03.594Z"
   },
   {
    "duration": 8,
    "start_time": "2023-08-22T08:06:03.639Z"
   },
   {
    "duration": 9,
    "start_time": "2023-08-22T08:06:03.649Z"
   },
   {
    "duration": 166,
    "start_time": "2023-08-22T08:06:03.660Z"
   },
   {
    "duration": 136,
    "start_time": "2023-08-22T08:06:03.828Z"
   },
   {
    "duration": 27,
    "start_time": "2023-08-22T08:06:03.965Z"
   },
   {
    "duration": 6,
    "start_time": "2023-08-22T08:06:03.994Z"
   },
   {
    "duration": 47,
    "start_time": "2023-08-22T08:06:04.001Z"
   },
   {
    "duration": 17,
    "start_time": "2023-08-22T08:06:04.050Z"
   },
   {
    "duration": 14,
    "start_time": "2023-08-22T08:07:33.020Z"
   },
   {
    "duration": 5,
    "start_time": "2023-08-22T08:23:04.534Z"
   },
   {
    "duration": 58,
    "start_time": "2023-08-22T08:24:29.752Z"
   },
   {
    "duration": 62,
    "start_time": "2023-08-22T08:27:40.998Z"
   },
   {
    "duration": 49,
    "start_time": "2023-08-22T08:36:56.603Z"
   },
   {
    "duration": 5,
    "start_time": "2023-08-22T08:37:40.257Z"
   },
   {
    "duration": 12,
    "start_time": "2023-08-22T08:37:54.139Z"
   },
   {
    "duration": 7,
    "start_time": "2023-08-22T08:38:33.044Z"
   },
   {
    "duration": 13,
    "start_time": "2023-08-22T08:38:47.479Z"
   },
   {
    "duration": 15,
    "start_time": "2023-08-22T08:38:59.175Z"
   },
   {
    "duration": 3,
    "start_time": "2023-08-22T08:39:15.158Z"
   },
   {
    "duration": 65,
    "start_time": "2023-08-22T08:39:15.163Z"
   },
   {
    "duration": 20,
    "start_time": "2023-08-22T08:39:15.230Z"
   },
   {
    "duration": 12,
    "start_time": "2023-08-22T08:39:15.252Z"
   },
   {
    "duration": 44,
    "start_time": "2023-08-22T08:39:15.265Z"
   },
   {
    "duration": 46,
    "start_time": "2023-08-22T08:39:15.311Z"
   },
   {
    "duration": 13,
    "start_time": "2023-08-22T08:39:15.358Z"
   },
   {
    "duration": 13,
    "start_time": "2023-08-22T08:39:15.372Z"
   },
   {
    "duration": 74,
    "start_time": "2023-08-22T08:39:15.386Z"
   },
   {
    "duration": 150,
    "start_time": "2023-08-22T08:39:15.464Z"
   },
   {
    "duration": 159,
    "start_time": "2023-08-22T08:39:15.616Z"
   },
   {
    "duration": 30,
    "start_time": "2023-08-22T08:39:15.778Z"
   },
   {
    "duration": 9,
    "start_time": "2023-08-22T08:39:15.810Z"
   },
   {
    "duration": 56,
    "start_time": "2023-08-22T08:39:15.825Z"
   },
   {
    "duration": 24,
    "start_time": "2023-08-22T08:39:15.883Z"
   },
   {
    "duration": 2,
    "start_time": "2023-08-22T08:40:01.871Z"
   },
   {
    "duration": 84,
    "start_time": "2023-08-22T08:40:01.883Z"
   },
   {
    "duration": 15,
    "start_time": "2023-08-22T08:40:01.970Z"
   },
   {
    "duration": 45,
    "start_time": "2023-08-22T08:40:01.987Z"
   },
   {
    "duration": 68,
    "start_time": "2023-08-22T08:40:02.034Z"
   },
   {
    "duration": 37,
    "start_time": "2023-08-22T08:40:02.104Z"
   },
   {
    "duration": 48,
    "start_time": "2023-08-22T08:40:02.143Z"
   },
   {
    "duration": 10,
    "start_time": "2023-08-22T08:40:02.193Z"
   },
   {
    "duration": 16,
    "start_time": "2023-08-22T08:40:02.204Z"
   },
   {
    "duration": 182,
    "start_time": "2023-08-22T08:40:02.222Z"
   },
   {
    "duration": 159,
    "start_time": "2023-08-22T08:40:02.406Z"
   },
   {
    "duration": 27,
    "start_time": "2023-08-22T08:40:02.567Z"
   },
   {
    "duration": 6,
    "start_time": "2023-08-22T08:40:02.595Z"
   },
   {
    "duration": 52,
    "start_time": "2023-08-22T08:40:02.603Z"
   },
   {
    "duration": 17,
    "start_time": "2023-08-22T08:40:02.657Z"
   },
   {
    "duration": 11,
    "start_time": "2023-08-22T08:41:19.584Z"
   },
   {
    "duration": 3,
    "start_time": "2023-08-22T08:41:30.344Z"
   },
   {
    "duration": 144,
    "start_time": "2023-08-22T08:41:30.351Z"
   },
   {
    "duration": 26,
    "start_time": "2023-08-22T08:41:30.497Z"
   },
   {
    "duration": 61,
    "start_time": "2023-08-22T08:41:30.533Z"
   },
   {
    "duration": 97,
    "start_time": "2023-08-22T08:41:30.596Z"
   },
   {
    "duration": 8,
    "start_time": "2023-08-22T08:41:30.696Z"
   },
   {
    "duration": 78,
    "start_time": "2023-08-22T08:41:30.706Z"
   },
   {
    "duration": 54,
    "start_time": "2023-08-22T08:41:30.786Z"
   },
   {
    "duration": 90,
    "start_time": "2023-08-22T08:41:30.842Z"
   },
   {
    "duration": 200,
    "start_time": "2023-08-22T08:41:30.935Z"
   },
   {
    "duration": 153,
    "start_time": "2023-08-22T08:41:31.137Z"
   },
   {
    "duration": 29,
    "start_time": "2023-08-22T08:41:31.292Z"
   },
   {
    "duration": 20,
    "start_time": "2023-08-22T08:41:31.323Z"
   },
   {
    "duration": 63,
    "start_time": "2023-08-22T08:41:31.345Z"
   },
   {
    "duration": 36,
    "start_time": "2023-08-22T08:41:31.410Z"
   },
   {
    "duration": 9,
    "start_time": "2023-08-22T08:58:33.679Z"
   },
   {
    "duration": 22,
    "start_time": "2023-08-22T08:58:57.542Z"
   },
   {
    "duration": 28,
    "start_time": "2023-08-22T08:59:20.791Z"
   },
   {
    "duration": 49,
    "start_time": "2023-08-22T09:03:02.911Z"
   },
   {
    "duration": 6,
    "start_time": "2023-08-22T09:12:34.952Z"
   },
   {
    "duration": 6,
    "start_time": "2023-08-22T09:12:52.043Z"
   },
   {
    "duration": 2,
    "start_time": "2023-08-22T09:13:01.251Z"
   },
   {
    "duration": 56,
    "start_time": "2023-08-22T09:13:01.255Z"
   },
   {
    "duration": 20,
    "start_time": "2023-08-22T09:13:01.313Z"
   },
   {
    "duration": 31,
    "start_time": "2023-08-22T09:13:01.336Z"
   },
   {
    "duration": 51,
    "start_time": "2023-08-22T09:13:01.370Z"
   },
   {
    "duration": 10,
    "start_time": "2023-08-22T09:13:01.423Z"
   },
   {
    "duration": 38,
    "start_time": "2023-08-22T09:13:01.436Z"
   },
   {
    "duration": 37,
    "start_time": "2023-08-22T09:13:01.475Z"
   },
   {
    "duration": 35,
    "start_time": "2023-08-22T09:13:01.514Z"
   },
   {
    "duration": 158,
    "start_time": "2023-08-22T09:13:01.551Z"
   },
   {
    "duration": 131,
    "start_time": "2023-08-22T09:13:01.711Z"
   },
   {
    "duration": 26,
    "start_time": "2023-08-22T09:13:01.844Z"
   },
   {
    "duration": 6,
    "start_time": "2023-08-22T09:13:01.871Z"
   },
   {
    "duration": 72,
    "start_time": "2023-08-22T09:13:01.879Z"
   },
   {
    "duration": 18,
    "start_time": "2023-08-22T09:13:01.953Z"
   },
   {
    "duration": 74,
    "start_time": "2023-08-22T09:13:01.973Z"
   },
   {
    "duration": 8,
    "start_time": "2023-08-22T09:13:02.048Z"
   },
   {
    "duration": 20,
    "start_time": "2023-08-22T09:25:27.240Z"
   },
   {
    "duration": 15,
    "start_time": "2023-08-22T09:25:34.459Z"
   },
   {
    "duration": 9,
    "start_time": "2023-08-22T09:28:09.591Z"
   },
   {
    "duration": 100,
    "start_time": "2023-08-22T09:35:08.543Z"
   },
   {
    "duration": 102,
    "start_time": "2023-08-22T09:35:13.909Z"
   },
   {
    "duration": 115,
    "start_time": "2023-08-22T09:37:03.099Z"
   },
   {
    "duration": 139,
    "start_time": "2023-08-22T09:37:08.750Z"
   },
   {
    "duration": 94,
    "start_time": "2023-08-22T09:37:19.196Z"
   },
   {
    "duration": 110,
    "start_time": "2023-08-22T09:37:48.384Z"
   },
   {
    "duration": 338,
    "start_time": "2023-08-22T09:37:54.756Z"
   },
   {
    "duration": 58,
    "start_time": "2023-08-22T09:38:00.499Z"
   },
   {
    "duration": 14,
    "start_time": "2023-08-22T09:39:11.694Z"
   },
   {
    "duration": 21,
    "start_time": "2023-08-22T09:39:20.328Z"
   },
   {
    "duration": 36,
    "start_time": "2023-08-22T09:41:54.341Z"
   },
   {
    "duration": 122,
    "start_time": "2023-08-22T09:42:50.560Z"
   },
   {
    "duration": 118,
    "start_time": "2023-08-22T09:43:06.085Z"
   },
   {
    "duration": 118,
    "start_time": "2023-08-22T09:43:15.599Z"
   },
   {
    "duration": 439,
    "start_time": "2023-08-22T11:07:21.887Z"
   },
   {
    "duration": 164,
    "start_time": "2023-08-22T11:07:22.329Z"
   },
   {
    "duration": 24,
    "start_time": "2023-08-22T11:07:22.496Z"
   },
   {
    "duration": 46,
    "start_time": "2023-08-22T11:07:22.525Z"
   },
   {
    "duration": 125,
    "start_time": "2023-08-22T11:07:22.573Z"
   },
   {
    "duration": 20,
    "start_time": "2023-08-22T11:07:22.701Z"
   },
   {
    "duration": 20,
    "start_time": "2023-08-22T11:07:22.728Z"
   },
   {
    "duration": 10,
    "start_time": "2023-08-22T11:07:22.750Z"
   },
   {
    "duration": 85,
    "start_time": "2023-08-22T11:07:22.762Z"
   },
   {
    "duration": 651,
    "start_time": "2023-08-22T11:07:22.849Z"
   },
   {
    "duration": 138,
    "start_time": "2023-08-22T11:07:23.509Z"
   },
   {
    "duration": 96,
    "start_time": "2023-08-22T11:07:23.649Z"
   },
   {
    "duration": 7,
    "start_time": "2023-08-22T11:07:23.747Z"
   },
   {
    "duration": 115,
    "start_time": "2023-08-22T11:07:23.755Z"
   },
   {
    "duration": 20,
    "start_time": "2023-08-22T11:07:23.872Z"
   },
   {
    "duration": 93,
    "start_time": "2023-08-22T11:07:23.894Z"
   },
   {
    "duration": 5,
    "start_time": "2023-08-22T11:07:23.989Z"
   },
   {
    "duration": 32,
    "start_time": "2023-08-22T11:07:23.996Z"
   },
   {
    "duration": 150,
    "start_time": "2023-08-22T11:07:24.030Z"
   },
   {
    "duration": 93,
    "start_time": "2023-08-22T11:07:46.453Z"
   },
   {
    "duration": 6,
    "start_time": "2023-08-22T11:07:50.684Z"
   },
   {
    "duration": 15,
    "start_time": "2023-08-22T11:08:05.654Z"
   },
   {
    "duration": 4,
    "start_time": "2023-08-22T11:08:13.454Z"
   },
   {
    "duration": 65,
    "start_time": "2023-08-22T11:08:13.461Z"
   },
   {
    "duration": 12,
    "start_time": "2023-08-22T11:08:13.528Z"
   },
   {
    "duration": 16,
    "start_time": "2023-08-22T11:08:13.541Z"
   },
   {
    "duration": 66,
    "start_time": "2023-08-22T11:08:13.559Z"
   },
   {
    "duration": 9,
    "start_time": "2023-08-22T11:08:13.627Z"
   },
   {
    "duration": 34,
    "start_time": "2023-08-22T11:08:13.638Z"
   },
   {
    "duration": 8,
    "start_time": "2023-08-22T11:08:13.674Z"
   },
   {
    "duration": 33,
    "start_time": "2023-08-22T11:08:13.684Z"
   },
   {
    "duration": 160,
    "start_time": "2023-08-22T11:08:13.723Z"
   },
   {
    "duration": 202,
    "start_time": "2023-08-22T11:08:13.885Z"
   },
   {
    "duration": 38,
    "start_time": "2023-08-22T11:08:14.088Z"
   },
   {
    "duration": 7,
    "start_time": "2023-08-22T11:08:14.128Z"
   },
   {
    "duration": 46,
    "start_time": "2023-08-22T11:08:14.138Z"
   },
   {
    "duration": 25,
    "start_time": "2023-08-22T11:08:14.186Z"
   },
   {
    "duration": 71,
    "start_time": "2023-08-22T11:08:14.213Z"
   },
   {
    "duration": 5,
    "start_time": "2023-08-22T11:08:14.286Z"
   },
   {
    "duration": 162,
    "start_time": "2023-08-22T11:08:14.293Z"
   },
   {
    "duration": 14,
    "start_time": "2023-08-22T11:09:00.391Z"
   },
   {
    "duration": 35,
    "start_time": "2023-08-22T11:09:04.899Z"
   },
   {
    "duration": 23,
    "start_time": "2023-08-22T11:09:17.202Z"
   },
   {
    "duration": 14,
    "start_time": "2023-08-22T11:09:20.041Z"
   },
   {
    "duration": 6,
    "start_time": "2023-08-22T11:09:45.260Z"
   },
   {
    "duration": 3,
    "start_time": "2023-08-22T11:09:56.870Z"
   },
   {
    "duration": 103,
    "start_time": "2023-08-22T11:09:56.875Z"
   },
   {
    "duration": 13,
    "start_time": "2023-08-22T11:09:56.980Z"
   },
   {
    "duration": 30,
    "start_time": "2023-08-22T11:09:56.995Z"
   },
   {
    "duration": 48,
    "start_time": "2023-08-22T11:09:57.027Z"
   },
   {
    "duration": 10,
    "start_time": "2023-08-22T11:09:57.077Z"
   },
   {
    "duration": 44,
    "start_time": "2023-08-22T11:09:57.088Z"
   },
   {
    "duration": 28,
    "start_time": "2023-08-22T11:09:57.135Z"
   },
   {
    "duration": 24,
    "start_time": "2023-08-22T11:09:57.166Z"
   },
   {
    "duration": 164,
    "start_time": "2023-08-22T11:09:57.192Z"
   },
   {
    "duration": 141,
    "start_time": "2023-08-22T11:09:57.357Z"
   },
   {
    "duration": 36,
    "start_time": "2023-08-22T11:09:57.499Z"
   },
   {
    "duration": 7,
    "start_time": "2023-08-22T11:09:57.536Z"
   },
   {
    "duration": 43,
    "start_time": "2023-08-22T11:09:57.544Z"
   },
   {
    "duration": 28,
    "start_time": "2023-08-22T11:09:57.589Z"
   },
   {
    "duration": 47,
    "start_time": "2023-08-22T11:09:57.624Z"
   },
   {
    "duration": 6,
    "start_time": "2023-08-22T11:09:57.673Z"
   },
   {
    "duration": 22,
    "start_time": "2023-08-22T11:09:57.681Z"
   },
   {
    "duration": 150,
    "start_time": "2023-08-22T11:09:57.705Z"
   },
   {
    "duration": 6,
    "start_time": "2023-08-22T11:10:12.057Z"
   },
   {
    "duration": 2,
    "start_time": "2023-08-22T11:10:41.032Z"
   },
   {
    "duration": 5,
    "start_time": "2023-08-22T11:10:54.620Z"
   },
   {
    "duration": 4,
    "start_time": "2023-08-22T11:11:09.287Z"
   },
   {
    "duration": 6,
    "start_time": "2023-08-22T11:11:25.307Z"
   },
   {
    "duration": 8,
    "start_time": "2023-08-22T11:16:10.593Z"
   },
   {
    "duration": 7,
    "start_time": "2023-08-22T11:16:24.515Z"
   },
   {
    "duration": 9,
    "start_time": "2023-08-22T11:29:09.320Z"
   },
   {
    "duration": 8,
    "start_time": "2023-08-22T11:29:22.988Z"
   },
   {
    "duration": 572,
    "start_time": "2023-08-22T11:30:20.753Z"
   },
   {
    "duration": 3,
    "start_time": "2023-08-22T11:34:38.078Z"
   },
   {
    "duration": 61,
    "start_time": "2023-08-22T11:34:38.083Z"
   },
   {
    "duration": 13,
    "start_time": "2023-08-22T11:34:38.152Z"
   },
   {
    "duration": 16,
    "start_time": "2023-08-22T11:34:38.167Z"
   },
   {
    "duration": 74,
    "start_time": "2023-08-22T11:34:38.185Z"
   },
   {
    "duration": 12,
    "start_time": "2023-08-22T11:34:38.260Z"
   },
   {
    "duration": 17,
    "start_time": "2023-08-22T11:34:38.274Z"
   },
   {
    "duration": 24,
    "start_time": "2023-08-22T11:34:38.293Z"
   },
   {
    "duration": 21,
    "start_time": "2023-08-22T11:34:38.320Z"
   },
   {
    "duration": 177,
    "start_time": "2023-08-22T11:34:38.343Z"
   },
   {
    "duration": 179,
    "start_time": "2023-08-22T11:34:38.522Z"
   },
   {
    "duration": 55,
    "start_time": "2023-08-22T11:34:38.708Z"
   },
   {
    "duration": 8,
    "start_time": "2023-08-22T11:34:38.772Z"
   },
   {
    "duration": 63,
    "start_time": "2023-08-22T11:34:38.782Z"
   },
   {
    "duration": 35,
    "start_time": "2023-08-22T11:34:38.855Z"
   },
   {
    "duration": 73,
    "start_time": "2023-08-22T11:34:38.892Z"
   },
   {
    "duration": 8,
    "start_time": "2023-08-22T11:34:38.968Z"
   },
   {
    "duration": 12,
    "start_time": "2023-08-22T11:34:38.978Z"
   },
   {
    "duration": 90953,
    "start_time": "2023-08-22T11:35:27.149Z"
   },
   {
    "duration": 14,
    "start_time": "2023-08-22T11:36:58.105Z"
   },
   {
    "duration": 69,
    "start_time": "2023-08-22T11:36:58.120Z"
   },
   {
    "duration": 29,
    "start_time": "2023-08-22T11:36:58.192Z"
   },
   {
    "duration": 23,
    "start_time": "2023-08-22T11:36:58.223Z"
   },
   {
    "duration": 67,
    "start_time": "2023-08-22T11:36:58.247Z"
   },
   {
    "duration": 20,
    "start_time": "2023-08-22T11:36:58.322Z"
   },
   {
    "duration": 15,
    "start_time": "2023-08-22T11:36:58.346Z"
   },
   {
    "duration": 6,
    "start_time": "2023-08-22T11:36:58.362Z"
   },
   {
    "duration": 12,
    "start_time": "2023-08-22T11:36:58.370Z"
   },
   {
    "duration": 179,
    "start_time": "2023-08-22T11:36:58.384Z"
   },
   {
    "duration": 167,
    "start_time": "2023-08-22T11:36:58.565Z"
   },
   {
    "duration": 32,
    "start_time": "2023-08-22T11:36:58.734Z"
   },
   {
    "duration": 8,
    "start_time": "2023-08-22T11:36:58.768Z"
   },
   {
    "duration": 52,
    "start_time": "2023-08-22T11:36:58.777Z"
   },
   {
    "duration": 25,
    "start_time": "2023-08-22T11:36:58.832Z"
   },
   {
    "duration": 65,
    "start_time": "2023-08-22T11:36:58.859Z"
   },
   {
    "duration": 11,
    "start_time": "2023-08-22T11:36:58.928Z"
   },
   {
    "duration": 10,
    "start_time": "2023-08-22T11:36:58.942Z"
   },
   {
    "duration": 230,
    "start_time": "2023-08-22T11:42:26.449Z"
   },
   {
    "duration": 97,
    "start_time": "2023-08-22T11:43:31.791Z"
   },
   {
    "duration": 117,
    "start_time": "2023-08-22T11:45:30.282Z"
   },
   {
    "duration": 170,
    "start_time": "2023-08-22T11:46:03.953Z"
   },
   {
    "duration": 266,
    "start_time": "2023-08-22T11:47:30.383Z"
   },
   {
    "duration": 296,
    "start_time": "2023-08-22T11:50:19.749Z"
   },
   {
    "duration": 242,
    "start_time": "2023-08-22T12:00:53.988Z"
   },
   {
    "duration": 283,
    "start_time": "2023-08-22T12:05:22.669Z"
   },
   {
    "duration": 3,
    "start_time": "2023-08-22T12:06:26.705Z"
   },
   {
    "duration": 68,
    "start_time": "2023-08-22T12:06:26.714Z"
   },
   {
    "duration": 13,
    "start_time": "2023-08-22T12:06:26.784Z"
   },
   {
    "duration": 31,
    "start_time": "2023-08-22T12:06:26.799Z"
   },
   {
    "duration": 68,
    "start_time": "2023-08-22T12:06:26.832Z"
   },
   {
    "duration": 17,
    "start_time": "2023-08-22T12:06:26.902Z"
   },
   {
    "duration": 34,
    "start_time": "2023-08-22T12:06:26.921Z"
   },
   {
    "duration": 11,
    "start_time": "2023-08-22T12:06:26.957Z"
   },
   {
    "duration": 22,
    "start_time": "2023-08-22T12:06:26.971Z"
   },
   {
    "duration": 179,
    "start_time": "2023-08-22T12:06:26.994Z"
   },
   {
    "duration": 157,
    "start_time": "2023-08-22T12:06:27.174Z"
   },
   {
    "duration": 33,
    "start_time": "2023-08-22T12:06:27.340Z"
   },
   {
    "duration": 6,
    "start_time": "2023-08-22T12:06:27.375Z"
   },
   {
    "duration": 73,
    "start_time": "2023-08-22T12:06:27.383Z"
   },
   {
    "duration": 20,
    "start_time": "2023-08-22T12:06:27.458Z"
   },
   {
    "duration": 64,
    "start_time": "2023-08-22T12:06:27.480Z"
   },
   {
    "duration": 8,
    "start_time": "2023-08-22T12:06:27.545Z"
   },
   {
    "duration": 13,
    "start_time": "2023-08-22T12:06:27.554Z"
   },
   {
    "duration": 265,
    "start_time": "2023-08-22T12:06:27.568Z"
   },
   {
    "duration": 241,
    "start_time": "2023-08-22T12:06:27.838Z"
   },
   {
    "duration": 224,
    "start_time": "2023-08-22T12:06:28.081Z"
   },
   {
    "duration": 14,
    "start_time": "2023-08-22T12:08:46.885Z"
   },
   {
    "duration": 267,
    "start_time": "2023-08-22T12:09:01.537Z"
   },
   {
    "duration": 261,
    "start_time": "2023-08-22T12:11:53.095Z"
   },
   {
    "duration": 293,
    "start_time": "2023-08-22T12:21:57.307Z"
   },
   {
    "duration": 300,
    "start_time": "2023-08-22T12:22:50.905Z"
   },
   {
    "duration": 316,
    "start_time": "2023-08-22T12:22:58.436Z"
   },
   {
    "duration": 332,
    "start_time": "2023-08-22T12:24:10.496Z"
   },
   {
    "duration": 315,
    "start_time": "2023-08-22T12:24:18.538Z"
   },
   {
    "duration": 324,
    "start_time": "2023-08-22T12:24:27.234Z"
   },
   {
    "duration": 398,
    "start_time": "2023-08-22T12:27:19.162Z"
   },
   {
    "duration": 334,
    "start_time": "2023-08-22T12:28:43.932Z"
   },
   {
    "duration": 321,
    "start_time": "2023-08-22T12:29:57.235Z"
   },
   {
    "duration": 316,
    "start_time": "2023-08-22T12:31:11.162Z"
   },
   {
    "duration": 350,
    "start_time": "2023-08-22T12:33:29.370Z"
   },
   {
    "duration": 297,
    "start_time": "2023-08-22T12:34:02.996Z"
   },
   {
    "duration": 1514,
    "start_time": "2023-08-22T12:34:07.679Z"
   },
   {
    "duration": 293,
    "start_time": "2023-08-22T12:35:42.038Z"
   },
   {
    "duration": 276,
    "start_time": "2023-08-22T12:35:52.197Z"
   },
   {
    "duration": 237,
    "start_time": "2023-08-22T12:36:59.252Z"
   },
   {
    "duration": 216,
    "start_time": "2023-08-22T12:37:44.170Z"
   },
   {
    "duration": 221,
    "start_time": "2023-08-22T12:38:14.285Z"
   },
   {
    "duration": 226,
    "start_time": "2023-08-22T12:38:55.805Z"
   },
   {
    "duration": 11,
    "start_time": "2023-08-22T12:46:01.136Z"
   },
   {
    "duration": 113,
    "start_time": "2023-08-22T12:46:41.037Z"
   },
   {
    "duration": 103,
    "start_time": "2023-08-22T12:46:56.827Z"
   },
   {
    "duration": 210,
    "start_time": "2023-08-22T12:47:44.495Z"
   },
   {
    "duration": 312,
    "start_time": "2023-08-22T12:48:04.684Z"
   },
   {
    "duration": 6,
    "start_time": "2023-08-22T12:49:17.259Z"
   },
   {
    "duration": 10,
    "start_time": "2023-08-22T12:52:00.603Z"
   },
   {
    "duration": 2,
    "start_time": "2023-08-22T12:53:49.643Z"
   },
   {
    "duration": 79,
    "start_time": "2023-08-22T12:53:49.647Z"
   },
   {
    "duration": 16,
    "start_time": "2023-08-22T12:53:49.728Z"
   },
   {
    "duration": 25,
    "start_time": "2023-08-22T12:53:49.746Z"
   },
   {
    "duration": 71,
    "start_time": "2023-08-22T12:53:49.773Z"
   },
   {
    "duration": 8,
    "start_time": "2023-08-22T12:53:49.846Z"
   },
   {
    "duration": 48,
    "start_time": "2023-08-22T12:53:49.856Z"
   },
   {
    "duration": 26,
    "start_time": "2023-08-22T12:53:49.906Z"
   },
   {
    "duration": 53,
    "start_time": "2023-08-22T12:53:49.935Z"
   },
   {
    "duration": 211,
    "start_time": "2023-08-22T12:53:49.990Z"
   },
   {
    "duration": 150,
    "start_time": "2023-08-22T12:53:50.202Z"
   },
   {
    "duration": 237,
    "start_time": "2023-08-22T12:53:50.354Z"
   },
   {
    "duration": 8,
    "start_time": "2023-08-22T12:53:50.593Z"
   },
   {
    "duration": 64,
    "start_time": "2023-08-22T12:53:50.602Z"
   },
   {
    "duration": 57,
    "start_time": "2023-08-22T12:53:50.668Z"
   },
   {
    "duration": 66,
    "start_time": "2023-08-22T12:53:50.727Z"
   },
   {
    "duration": 36,
    "start_time": "2023-08-22T12:53:50.794Z"
   },
   {
    "duration": 74,
    "start_time": "2023-08-22T12:53:50.832Z"
   },
   {
    "duration": 15,
    "start_time": "2023-08-22T12:53:50.908Z"
   },
   {
    "duration": 43,
    "start_time": "2023-08-22T12:53:50.927Z"
   },
   {
    "duration": 300,
    "start_time": "2023-08-22T12:53:50.972Z"
   },
   {
    "duration": 229,
    "start_time": "2023-08-22T12:53:51.274Z"
   },
   {
    "duration": 221,
    "start_time": "2023-08-22T12:53:51.505Z"
   },
   {
    "duration": 218,
    "start_time": "2023-08-22T12:53:51.732Z"
   },
   {
    "duration": 245,
    "start_time": "2023-08-22T12:53:51.952Z"
   },
   {
    "duration": 373,
    "start_time": "2023-08-22T12:53:52.199Z"
   },
   {
    "duration": 326,
    "start_time": "2023-08-22T12:53:52.574Z"
   },
   {
    "duration": 140,
    "start_time": "2023-08-22T12:53:52.902Z"
   },
   {
    "duration": 1673,
    "start_time": "2023-08-22T12:57:55.473Z"
   },
   {
    "duration": 1844,
    "start_time": "2023-08-22T12:58:12.780Z"
   },
   {
    "duration": 159,
    "start_time": "2023-08-22T12:58:28.289Z"
   },
   {
    "duration": 149,
    "start_time": "2023-08-22T12:58:53.944Z"
   },
   {
    "duration": 179,
    "start_time": "2023-08-22T12:59:49.203Z"
   },
   {
    "duration": 173,
    "start_time": "2023-08-22T13:00:00.864Z"
   },
   {
    "duration": 182,
    "start_time": "2023-08-22T13:00:12.602Z"
   },
   {
    "duration": 129,
    "start_time": "2023-08-22T13:00:23.646Z"
   },
   {
    "duration": 161,
    "start_time": "2023-08-22T13:00:29.260Z"
   },
   {
    "duration": 166,
    "start_time": "2023-08-22T13:00:55.801Z"
   },
   {
    "duration": 195,
    "start_time": "2023-08-22T13:01:26.398Z"
   },
   {
    "duration": 248,
    "start_time": "2023-08-22T13:02:22.224Z"
   },
   {
    "duration": 230,
    "start_time": "2023-08-22T13:02:37.801Z"
   },
   {
    "duration": 220,
    "start_time": "2023-08-22T13:02:50.041Z"
   },
   {
    "duration": 3,
    "start_time": "2023-08-22T13:03:04.764Z"
   },
   {
    "duration": 64,
    "start_time": "2023-08-22T13:03:04.770Z"
   },
   {
    "duration": 12,
    "start_time": "2023-08-22T13:03:04.836Z"
   },
   {
    "duration": 14,
    "start_time": "2023-08-22T13:03:04.953Z"
   },
   {
    "duration": 58,
    "start_time": "2023-08-22T13:03:04.969Z"
   },
   {
    "duration": 9,
    "start_time": "2023-08-22T13:03:05.029Z"
   },
   {
    "duration": 37,
    "start_time": "2023-08-22T13:03:05.040Z"
   },
   {
    "duration": 7,
    "start_time": "2023-08-22T13:03:05.079Z"
   },
   {
    "duration": 27,
    "start_time": "2023-08-22T13:03:05.087Z"
   },
   {
    "duration": 244,
    "start_time": "2023-08-22T13:03:05.116Z"
   },
   {
    "duration": 211,
    "start_time": "2023-08-22T13:03:05.364Z"
   },
   {
    "duration": 243,
    "start_time": "2023-08-22T13:03:05.577Z"
   },
   {
    "duration": 7,
    "start_time": "2023-08-22T13:03:05.823Z"
   },
   {
    "duration": 52,
    "start_time": "2023-08-22T13:03:05.832Z"
   },
   {
    "duration": 7,
    "start_time": "2023-08-22T13:03:05.886Z"
   },
   {
    "duration": 76,
    "start_time": "2023-08-22T13:03:05.895Z"
   },
   {
    "duration": 39,
    "start_time": "2023-08-22T13:03:05.974Z"
   },
   {
    "duration": 54,
    "start_time": "2023-08-22T13:03:06.014Z"
   },
   {
    "duration": 8,
    "start_time": "2023-08-22T13:03:06.070Z"
   },
   {
    "duration": 21,
    "start_time": "2023-08-22T13:03:06.080Z"
   },
   {
    "duration": 266,
    "start_time": "2023-08-22T13:03:06.109Z"
   },
   {
    "duration": 265,
    "start_time": "2023-08-22T13:03:06.377Z"
   },
   {
    "duration": 256,
    "start_time": "2023-08-22T13:03:06.644Z"
   },
   {
    "duration": 251,
    "start_time": "2023-08-22T13:03:06.902Z"
   },
   {
    "duration": 279,
    "start_time": "2023-08-22T13:03:07.155Z"
   },
   {
    "duration": 240,
    "start_time": "2023-08-22T13:03:07.436Z"
   },
   {
    "duration": 472,
    "start_time": "2023-08-22T13:03:07.678Z"
   },
   {
    "duration": 222,
    "start_time": "2023-08-22T13:03:08.152Z"
   },
   {
    "duration": 208,
    "start_time": "2023-08-22T13:03:08.376Z"
   },
   {
    "duration": 136,
    "start_time": "2023-08-22T13:03:08.586Z"
   },
   {
    "duration": 1382,
    "start_time": "2023-08-22T13:03:35.586Z"
   },
   {
    "duration": 61,
    "start_time": "2023-08-22T13:03:36.970Z"
   },
   {
    "duration": 15,
    "start_time": "2023-08-22T13:03:37.032Z"
   },
   {
    "duration": 11,
    "start_time": "2023-08-22T13:03:37.049Z"
   },
   {
    "duration": 60,
    "start_time": "2023-08-22T13:03:37.062Z"
   },
   {
    "duration": 8,
    "start_time": "2023-08-22T13:03:37.124Z"
   },
   {
    "duration": 15,
    "start_time": "2023-08-22T13:03:37.134Z"
   },
   {
    "duration": 5,
    "start_time": "2023-08-22T13:03:37.151Z"
   },
   {
    "duration": 11,
    "start_time": "2023-08-22T13:03:37.158Z"
   },
   {
    "duration": 235,
    "start_time": "2023-08-22T13:03:37.171Z"
   },
   {
    "duration": 177,
    "start_time": "2023-08-22T13:03:37.408Z"
   },
   {
    "duration": 228,
    "start_time": "2023-08-22T13:03:37.588Z"
   },
   {
    "duration": 9,
    "start_time": "2023-08-22T13:03:37.817Z"
   },
   {
    "duration": 41,
    "start_time": "2023-08-22T13:03:37.830Z"
   },
   {
    "duration": 8,
    "start_time": "2023-08-22T13:03:37.873Z"
   },
   {
    "duration": 52,
    "start_time": "2023-08-22T13:03:37.882Z"
   },
   {
    "duration": 21,
    "start_time": "2023-08-22T13:03:37.935Z"
   },
   {
    "duration": 65,
    "start_time": "2023-08-22T13:03:37.958Z"
   },
   {
    "duration": 8,
    "start_time": "2023-08-22T13:03:38.025Z"
   },
   {
    "duration": 10,
    "start_time": "2023-08-22T13:03:38.035Z"
   },
   {
    "duration": 246,
    "start_time": "2023-08-22T13:03:38.047Z"
   },
   {
    "duration": 244,
    "start_time": "2023-08-22T13:03:38.296Z"
   },
   {
    "duration": 297,
    "start_time": "2023-08-22T13:03:38.542Z"
   },
   {
    "duration": 236,
    "start_time": "2023-08-22T13:03:38.842Z"
   },
   {
    "duration": 256,
    "start_time": "2023-08-22T13:03:39.081Z"
   },
   {
    "duration": 224,
    "start_time": "2023-08-22T13:03:39.339Z"
   },
   {
    "duration": 290,
    "start_time": "2023-08-22T13:03:39.565Z"
   },
   {
    "duration": 178,
    "start_time": "2023-08-22T13:03:39.857Z"
   },
   {
    "duration": 187,
    "start_time": "2023-08-22T13:03:40.037Z"
   },
   {
    "duration": 130,
    "start_time": "2023-08-22T13:03:40.227Z"
   },
   {
    "duration": 318,
    "start_time": "2023-08-22T13:04:02.062Z"
   },
   {
    "duration": 376,
    "start_time": "2023-08-22T13:04:12.408Z"
   },
   {
    "duration": 191,
    "start_time": "2023-08-22T13:04:23.759Z"
   },
   {
    "duration": 196,
    "start_time": "2023-08-22T13:04:39.400Z"
   },
   {
    "duration": 202,
    "start_time": "2023-08-22T13:05:06.378Z"
   },
   {
    "duration": 178,
    "start_time": "2023-08-22T13:05:21.833Z"
   },
   {
    "duration": 372,
    "start_time": "2023-08-22T13:05:27.870Z"
   },
   {
    "duration": 389,
    "start_time": "2023-08-22T13:05:39.802Z"
   },
   {
    "duration": 479,
    "start_time": "2023-08-22T13:09:29.351Z"
   },
   {
    "duration": 24,
    "start_time": "2023-08-22T13:13:33.472Z"
   },
   {
    "duration": 16,
    "start_time": "2023-08-22T13:13:50.831Z"
   },
   {
    "duration": 233,
    "start_time": "2023-08-22T13:15:01.307Z"
   },
   {
    "duration": 1194,
    "start_time": "2023-08-22T13:15:55.759Z"
   },
   {
    "duration": 54,
    "start_time": "2023-08-22T13:15:56.955Z"
   },
   {
    "duration": 21,
    "start_time": "2023-08-22T13:15:57.014Z"
   },
   {
    "duration": 10,
    "start_time": "2023-08-22T13:15:57.037Z"
   },
   {
    "duration": 51,
    "start_time": "2023-08-22T13:15:57.049Z"
   },
   {
    "duration": 11,
    "start_time": "2023-08-22T13:15:57.108Z"
   },
   {
    "duration": 15,
    "start_time": "2023-08-22T13:15:57.121Z"
   },
   {
    "duration": 5,
    "start_time": "2023-08-22T13:15:57.138Z"
   },
   {
    "duration": 12,
    "start_time": "2023-08-22T13:15:57.144Z"
   },
   {
    "duration": 210,
    "start_time": "2023-08-22T13:15:57.159Z"
   },
   {
    "duration": 170,
    "start_time": "2023-08-22T13:15:57.370Z"
   },
   {
    "duration": 218,
    "start_time": "2023-08-22T13:15:57.542Z"
   },
   {
    "duration": 5,
    "start_time": "2023-08-22T13:15:57.762Z"
   },
   {
    "duration": 32,
    "start_time": "2023-08-22T13:15:57.769Z"
   },
   {
    "duration": 18,
    "start_time": "2023-08-22T13:15:57.803Z"
   },
   {
    "duration": 50,
    "start_time": "2023-08-22T13:15:57.823Z"
   },
   {
    "duration": 19,
    "start_time": "2023-08-22T13:15:57.875Z"
   },
   {
    "duration": 76,
    "start_time": "2023-08-22T13:15:57.896Z"
   },
   {
    "duration": 6,
    "start_time": "2023-08-22T13:15:57.974Z"
   },
   {
    "duration": 10,
    "start_time": "2023-08-22T13:15:57.982Z"
   },
   {
    "duration": 233,
    "start_time": "2023-08-22T13:15:57.994Z"
   },
   {
    "duration": 225,
    "start_time": "2023-08-22T13:15:58.229Z"
   },
   {
    "duration": 300,
    "start_time": "2023-08-22T13:15:58.456Z"
   },
   {
    "duration": 220,
    "start_time": "2023-08-22T13:15:58.758Z"
   },
   {
    "duration": 248,
    "start_time": "2023-08-22T13:15:58.980Z"
   },
   {
    "duration": 214,
    "start_time": "2023-08-22T13:15:59.229Z"
   },
   {
    "duration": 290,
    "start_time": "2023-08-22T13:15:59.444Z"
   },
   {
    "duration": 387,
    "start_time": "2023-08-22T13:15:59.736Z"
   },
   {
    "duration": 496,
    "start_time": "2023-08-22T13:16:00.125Z"
   },
   {
    "duration": 16,
    "start_time": "2023-08-22T13:16:00.624Z"
   },
   {
    "duration": 127,
    "start_time": "2023-08-22T13:16:00.642Z"
   },
   {
    "duration": 47,
    "start_time": "2023-08-22T13:16:49.101Z"
   },
   {
    "duration": 49,
    "start_time": "2023-08-22T13:17:13.759Z"
   },
   {
    "duration": 1295,
    "start_time": "2023-08-22T13:17:24.998Z"
   },
   {
    "duration": 55,
    "start_time": "2023-08-22T13:17:26.295Z"
   },
   {
    "duration": 13,
    "start_time": "2023-08-22T13:17:26.351Z"
   },
   {
    "duration": 13,
    "start_time": "2023-08-22T13:17:26.366Z"
   },
   {
    "duration": 60,
    "start_time": "2023-08-22T13:17:26.382Z"
   },
   {
    "duration": 8,
    "start_time": "2023-08-22T13:17:26.443Z"
   },
   {
    "duration": 24,
    "start_time": "2023-08-22T13:17:26.453Z"
   },
   {
    "duration": 11,
    "start_time": "2023-08-22T13:17:26.479Z"
   },
   {
    "duration": 27,
    "start_time": "2023-08-22T13:17:26.491Z"
   },
   {
    "duration": 177,
    "start_time": "2023-08-22T13:17:26.523Z"
   },
   {
    "duration": 182,
    "start_time": "2023-08-22T13:17:26.702Z"
   },
   {
    "duration": 233,
    "start_time": "2023-08-22T13:17:26.886Z"
   },
   {
    "duration": 6,
    "start_time": "2023-08-22T13:17:27.122Z"
   },
   {
    "duration": 40,
    "start_time": "2023-08-22T13:17:27.131Z"
   },
   {
    "duration": 13,
    "start_time": "2023-08-22T13:17:27.173Z"
   },
   {
    "duration": 50,
    "start_time": "2023-08-22T13:17:27.188Z"
   },
   {
    "duration": 19,
    "start_time": "2023-08-22T13:17:27.240Z"
   },
   {
    "duration": 70,
    "start_time": "2023-08-22T13:17:27.261Z"
   },
   {
    "duration": 6,
    "start_time": "2023-08-22T13:17:27.333Z"
   },
   {
    "duration": 48,
    "start_time": "2023-08-22T13:17:27.341Z"
   },
   {
    "duration": 236,
    "start_time": "2023-08-22T13:17:27.391Z"
   },
   {
    "duration": 239,
    "start_time": "2023-08-22T13:17:27.628Z"
   },
   {
    "duration": 291,
    "start_time": "2023-08-22T13:17:27.869Z"
   },
   {
    "duration": 259,
    "start_time": "2023-08-22T13:17:28.162Z"
   },
   {
    "duration": 261,
    "start_time": "2023-08-22T13:17:28.427Z"
   },
   {
    "duration": 249,
    "start_time": "2023-08-22T13:17:28.690Z"
   },
   {
    "duration": 332,
    "start_time": "2023-08-22T13:17:28.941Z"
   },
   {
    "duration": 389,
    "start_time": "2023-08-22T13:17:29.275Z"
   },
   {
    "duration": 483,
    "start_time": "2023-08-22T13:17:29.666Z"
   },
   {
    "duration": 18,
    "start_time": "2023-08-22T13:17:30.151Z"
   },
   {
    "duration": 204,
    "start_time": "2023-08-22T13:17:30.171Z"
   },
   {
    "duration": 69,
    "start_time": "2023-08-22T13:28:14.466Z"
   },
   {
    "duration": 49,
    "start_time": "2023-08-22T13:28:24.248Z"
   },
   {
    "duration": 1291,
    "start_time": "2023-08-22T13:28:43.737Z"
   },
   {
    "duration": 55,
    "start_time": "2023-08-22T13:28:45.031Z"
   },
   {
    "duration": 16,
    "start_time": "2023-08-22T13:28:45.088Z"
   },
   {
    "duration": 24,
    "start_time": "2023-08-22T13:28:45.106Z"
   },
   {
    "duration": 123,
    "start_time": "2023-08-22T13:28:45.132Z"
   },
   {
    "duration": 10,
    "start_time": "2023-08-22T13:28:45.257Z"
   },
   {
    "duration": 43,
    "start_time": "2023-08-22T13:28:45.269Z"
   },
   {
    "duration": 10,
    "start_time": "2023-08-22T13:28:45.320Z"
   },
   {
    "duration": 18,
    "start_time": "2023-08-22T13:28:45.333Z"
   },
   {
    "duration": 207,
    "start_time": "2023-08-22T13:28:45.356Z"
   },
   {
    "duration": 182,
    "start_time": "2023-08-22T13:28:45.565Z"
   },
   {
    "duration": 230,
    "start_time": "2023-08-22T13:28:45.749Z"
   },
   {
    "duration": 6,
    "start_time": "2023-08-22T13:28:45.981Z"
   },
   {
    "duration": 37,
    "start_time": "2023-08-22T13:28:45.989Z"
   },
   {
    "duration": 8,
    "start_time": "2023-08-22T13:28:46.027Z"
   },
   {
    "duration": 45,
    "start_time": "2023-08-22T13:28:46.037Z"
   },
   {
    "duration": 33,
    "start_time": "2023-08-22T13:28:46.083Z"
   },
   {
    "duration": 55,
    "start_time": "2023-08-22T13:28:46.121Z"
   },
   {
    "duration": 8,
    "start_time": "2023-08-22T13:28:46.178Z"
   },
   {
    "duration": 29,
    "start_time": "2023-08-22T13:28:46.187Z"
   },
   {
    "duration": 256,
    "start_time": "2023-08-22T13:28:46.217Z"
   },
   {
    "duration": 249,
    "start_time": "2023-08-22T13:28:46.475Z"
   },
   {
    "duration": 305,
    "start_time": "2023-08-22T13:28:46.726Z"
   },
   {
    "duration": 250,
    "start_time": "2023-08-22T13:28:47.033Z"
   },
   {
    "duration": 279,
    "start_time": "2023-08-22T13:28:47.285Z"
   },
   {
    "duration": 231,
    "start_time": "2023-08-22T13:28:47.565Z"
   },
   {
    "duration": 306,
    "start_time": "2023-08-22T13:28:47.798Z"
   },
   {
    "duration": 249,
    "start_time": "2023-08-22T13:28:48.110Z"
   },
   {
    "duration": 0,
    "start_time": "2023-08-22T13:28:48.361Z"
   },
   {
    "duration": 0,
    "start_time": "2023-08-22T13:28:48.362Z"
   },
   {
    "duration": 0,
    "start_time": "2023-08-22T13:28:48.364Z"
   },
   {
    "duration": 56,
    "start_time": "2023-08-22T13:38:33.567Z"
   },
   {
    "duration": 57,
    "start_time": "2023-08-22T13:40:20.231Z"
   },
   {
    "duration": 53,
    "start_time": "2023-08-22T13:40:24.971Z"
   },
   {
    "duration": 56,
    "start_time": "2023-08-22T13:40:28.200Z"
   },
   {
    "duration": 67,
    "start_time": "2023-08-22T13:40:30.657Z"
   },
   {
    "duration": 58,
    "start_time": "2023-08-22T13:40:34.264Z"
   },
   {
    "duration": 46,
    "start_time": "2023-08-22T13:41:00.527Z"
   },
   {
    "duration": 36,
    "start_time": "2023-08-22T13:41:12.366Z"
   },
   {
    "duration": 31,
    "start_time": "2023-08-22T13:42:24.422Z"
   },
   {
    "duration": 42,
    "start_time": "2023-08-22T13:42:42.724Z"
   },
   {
    "duration": 1317,
    "start_time": "2023-08-22T13:42:51.923Z"
   },
   {
    "duration": 53,
    "start_time": "2023-08-22T13:42:53.242Z"
   },
   {
    "duration": 19,
    "start_time": "2023-08-22T13:42:53.297Z"
   },
   {
    "duration": 18,
    "start_time": "2023-08-22T13:42:53.320Z"
   },
   {
    "duration": 62,
    "start_time": "2023-08-22T13:42:53.341Z"
   },
   {
    "duration": 14,
    "start_time": "2023-08-22T13:42:53.405Z"
   },
   {
    "duration": 38,
    "start_time": "2023-08-22T13:42:53.420Z"
   },
   {
    "duration": 41,
    "start_time": "2023-08-22T13:42:53.460Z"
   },
   {
    "duration": 30,
    "start_time": "2023-08-22T13:42:53.503Z"
   },
   {
    "duration": 180,
    "start_time": "2023-08-22T13:42:53.535Z"
   },
   {
    "duration": 172,
    "start_time": "2023-08-22T13:42:53.717Z"
   },
   {
    "duration": 227,
    "start_time": "2023-08-22T13:42:53.891Z"
   },
   {
    "duration": 9,
    "start_time": "2023-08-22T13:42:54.120Z"
   },
   {
    "duration": 33,
    "start_time": "2023-08-22T13:42:54.132Z"
   },
   {
    "duration": 6,
    "start_time": "2023-08-22T13:42:54.166Z"
   },
   {
    "duration": 76,
    "start_time": "2023-08-22T13:42:54.174Z"
   },
   {
    "duration": 18,
    "start_time": "2023-08-22T13:42:54.252Z"
   },
   {
    "duration": 64,
    "start_time": "2023-08-22T13:42:54.272Z"
   },
   {
    "duration": 7,
    "start_time": "2023-08-22T13:42:54.339Z"
   },
   {
    "duration": 17,
    "start_time": "2023-08-22T13:42:54.348Z"
   },
   {
    "duration": 257,
    "start_time": "2023-08-22T13:42:54.367Z"
   },
   {
    "duration": 208,
    "start_time": "2023-08-22T13:42:54.626Z"
   },
   {
    "duration": 309,
    "start_time": "2023-08-22T13:42:54.836Z"
   },
   {
    "duration": 257,
    "start_time": "2023-08-22T13:42:55.146Z"
   },
   {
    "duration": 259,
    "start_time": "2023-08-22T13:42:55.409Z"
   },
   {
    "duration": 247,
    "start_time": "2023-08-22T13:42:55.670Z"
   },
   {
    "duration": 327,
    "start_time": "2023-08-22T13:42:55.925Z"
   },
   {
    "duration": 362,
    "start_time": "2023-08-22T13:42:56.254Z"
   },
   {
    "duration": 445,
    "start_time": "2023-08-22T13:42:56.622Z"
   },
   {
    "duration": 17,
    "start_time": "2023-08-22T13:42:57.069Z"
   },
   {
    "duration": 185,
    "start_time": "2023-08-22T13:42:57.087Z"
   },
   {
    "duration": 51,
    "start_time": "2023-08-22T13:43:39.967Z"
   },
   {
    "duration": 3,
    "start_time": "2023-08-22T13:44:02.197Z"
   },
   {
    "duration": 83,
    "start_time": "2023-08-22T13:44:02.202Z"
   },
   {
    "duration": 13,
    "start_time": "2023-08-22T13:44:02.287Z"
   },
   {
    "duration": 54,
    "start_time": "2023-08-22T13:44:02.302Z"
   },
   {
    "duration": 87,
    "start_time": "2023-08-22T13:44:02.357Z"
   },
   {
    "duration": 9,
    "start_time": "2023-08-22T13:44:02.446Z"
   },
   {
    "duration": 29,
    "start_time": "2023-08-22T13:44:02.458Z"
   },
   {
    "duration": 6,
    "start_time": "2023-08-22T13:44:02.489Z"
   },
   {
    "duration": 19,
    "start_time": "2023-08-22T13:44:02.513Z"
   },
   {
    "duration": 216,
    "start_time": "2023-08-22T13:44:02.534Z"
   },
   {
    "duration": 199,
    "start_time": "2023-08-22T13:44:02.753Z"
   },
   {
    "duration": 228,
    "start_time": "2023-08-22T13:44:02.954Z"
   },
   {
    "duration": 7,
    "start_time": "2023-08-22T13:44:03.184Z"
   },
   {
    "duration": 56,
    "start_time": "2023-08-22T13:44:03.193Z"
   },
   {
    "duration": 9,
    "start_time": "2023-08-22T13:44:03.250Z"
   },
   {
    "duration": 82,
    "start_time": "2023-08-22T13:44:03.261Z"
   },
   {
    "duration": 20,
    "start_time": "2023-08-22T13:44:03.344Z"
   },
   {
    "duration": 78,
    "start_time": "2023-08-22T13:44:03.365Z"
   },
   {
    "duration": 7,
    "start_time": "2023-08-22T13:44:03.444Z"
   },
   {
    "duration": 16,
    "start_time": "2023-08-22T13:44:03.452Z"
   },
   {
    "duration": 213,
    "start_time": "2023-08-22T13:44:03.470Z"
   },
   {
    "duration": 211,
    "start_time": "2023-08-22T13:44:03.685Z"
   },
   {
    "duration": 318,
    "start_time": "2023-08-22T13:44:03.898Z"
   },
   {
    "duration": 237,
    "start_time": "2023-08-22T13:44:04.220Z"
   },
   {
    "duration": 263,
    "start_time": "2023-08-22T13:44:04.459Z"
   },
   {
    "duration": 222,
    "start_time": "2023-08-22T13:44:04.724Z"
   },
   {
    "duration": 292,
    "start_time": "2023-08-22T13:44:04.948Z"
   },
   {
    "duration": 389,
    "start_time": "2023-08-22T13:44:05.242Z"
   },
   {
    "duration": 372,
    "start_time": "2023-08-22T13:44:05.633Z"
   },
   {
    "duration": 25,
    "start_time": "2023-08-22T13:44:06.006Z"
   },
   {
    "duration": 273,
    "start_time": "2023-08-22T13:44:06.033Z"
   },
   {
    "duration": 31,
    "start_time": "2023-08-22T13:51:47.010Z"
   },
   {
    "duration": 25,
    "start_time": "2023-08-22T13:51:54.622Z"
   },
   {
    "duration": 18,
    "start_time": "2023-08-22T13:53:06.542Z"
   },
   {
    "duration": 1227,
    "start_time": "2023-08-22T13:54:13.169Z"
   },
   {
    "duration": 65,
    "start_time": "2023-08-22T13:54:14.398Z"
   },
   {
    "duration": 37,
    "start_time": "2023-08-22T13:54:14.465Z"
   },
   {
    "duration": 87,
    "start_time": "2023-08-22T13:54:14.505Z"
   },
   {
    "duration": 69,
    "start_time": "2023-08-22T13:54:14.594Z"
   },
   {
    "duration": 11,
    "start_time": "2023-08-22T13:54:14.665Z"
   },
   {
    "duration": 40,
    "start_time": "2023-08-22T13:54:14.678Z"
   },
   {
    "duration": 14,
    "start_time": "2023-08-22T13:54:14.720Z"
   },
   {
    "duration": 32,
    "start_time": "2023-08-22T13:54:14.736Z"
   },
   {
    "duration": 233,
    "start_time": "2023-08-22T13:54:14.771Z"
   },
   {
    "duration": 186,
    "start_time": "2023-08-22T13:54:15.006Z"
   },
   {
    "duration": 249,
    "start_time": "2023-08-22T13:54:15.194Z"
   },
   {
    "duration": 6,
    "start_time": "2023-08-22T13:54:15.445Z"
   },
   {
    "duration": 43,
    "start_time": "2023-08-22T13:54:15.452Z"
   },
   {
    "duration": 7,
    "start_time": "2023-08-22T13:54:15.497Z"
   },
   {
    "duration": 55,
    "start_time": "2023-08-22T13:54:15.510Z"
   },
   {
    "duration": 19,
    "start_time": "2023-08-22T13:54:15.566Z"
   },
   {
    "duration": 68,
    "start_time": "2023-08-22T13:54:15.586Z"
   },
   {
    "duration": 6,
    "start_time": "2023-08-22T13:54:15.656Z"
   },
   {
    "duration": 10,
    "start_time": "2023-08-22T13:54:15.664Z"
   },
   {
    "duration": 251,
    "start_time": "2023-08-22T13:54:15.676Z"
   },
   {
    "duration": 224,
    "start_time": "2023-08-22T13:54:15.930Z"
   },
   {
    "duration": 314,
    "start_time": "2023-08-22T13:54:16.155Z"
   },
   {
    "duration": 258,
    "start_time": "2023-08-22T13:54:16.470Z"
   },
   {
    "duration": 272,
    "start_time": "2023-08-22T13:54:16.730Z"
   },
   {
    "duration": 253,
    "start_time": "2023-08-22T13:54:17.004Z"
   },
   {
    "duration": 300,
    "start_time": "2023-08-22T13:54:17.259Z"
   },
   {
    "duration": 337,
    "start_time": "2023-08-22T13:54:17.562Z"
   },
   {
    "duration": 462,
    "start_time": "2023-08-22T13:54:17.901Z"
   },
   {
    "duration": 17,
    "start_time": "2023-08-22T13:54:18.365Z"
   },
   {
    "duration": 198,
    "start_time": "2023-08-22T13:54:18.384Z"
   },
   {
    "duration": 41,
    "start_time": "2023-08-22T13:54:53.851Z"
   },
   {
    "duration": 40,
    "start_time": "2023-08-22T13:55:00.047Z"
   },
   {
    "duration": 44,
    "start_time": "2023-08-22T13:55:13.451Z"
   },
   {
    "duration": 55,
    "start_time": "2023-08-22T13:55:41.223Z"
   },
   {
    "duration": 56,
    "start_time": "2023-08-22T13:56:27.330Z"
   },
   {
    "duration": 48,
    "start_time": "2023-08-22T14:00:03.937Z"
   },
   {
    "duration": 110,
    "start_time": "2023-08-22T14:02:33.723Z"
   },
   {
    "duration": 214,
    "start_time": "2023-08-22T14:03:35.963Z"
   },
   {
    "duration": 218,
    "start_time": "2023-08-22T14:03:56.246Z"
   },
   {
    "duration": 217,
    "start_time": "2023-08-22T14:04:05.832Z"
   },
   {
    "duration": 226,
    "start_time": "2023-08-22T14:06:44.698Z"
   },
   {
    "duration": 215,
    "start_time": "2023-08-22T14:07:10.160Z"
   },
   {
    "duration": 317,
    "start_time": "2023-08-22T14:07:24.856Z"
   },
   {
    "duration": 257,
    "start_time": "2023-08-22T14:07:32.542Z"
   },
   {
    "duration": 354,
    "start_time": "2023-08-22T14:09:38.419Z"
   },
   {
    "duration": 34,
    "start_time": "2023-08-22T14:10:35.292Z"
   },
   {
    "duration": 26,
    "start_time": "2023-08-22T14:11:12.901Z"
   },
   {
    "duration": 20,
    "start_time": "2023-08-22T14:11:17.686Z"
   },
   {
    "duration": 143,
    "start_time": "2023-08-22T14:11:26.526Z"
   },
   {
    "duration": 239,
    "start_time": "2023-08-22T14:11:35.007Z"
   },
   {
    "duration": 216,
    "start_time": "2023-08-22T14:11:45.785Z"
   },
   {
    "duration": 245,
    "start_time": "2023-08-22T14:12:31.911Z"
   },
   {
    "duration": 207,
    "start_time": "2023-08-22T14:12:59.386Z"
   },
   {
    "duration": 309,
    "start_time": "2023-08-22T14:13:25.448Z"
   },
   {
    "duration": 237,
    "start_time": "2023-08-22T14:13:59.424Z"
   },
   {
    "duration": 238,
    "start_time": "2023-08-22T14:14:36.932Z"
   },
   {
    "duration": 246,
    "start_time": "2023-08-22T14:14:57.324Z"
   },
   {
    "duration": 246,
    "start_time": "2023-08-22T14:15:44.596Z"
   },
   {
    "duration": 221,
    "start_time": "2023-08-22T14:16:03.572Z"
   },
   {
    "duration": 1267,
    "start_time": "2023-08-22T14:17:34.688Z"
   },
   {
    "duration": 63,
    "start_time": "2023-08-22T14:17:35.958Z"
   },
   {
    "duration": 15,
    "start_time": "2023-08-22T14:17:36.023Z"
   },
   {
    "duration": 29,
    "start_time": "2023-08-22T14:17:36.041Z"
   },
   {
    "duration": 89,
    "start_time": "2023-08-22T14:17:36.072Z"
   },
   {
    "duration": 9,
    "start_time": "2023-08-22T14:17:36.163Z"
   },
   {
    "duration": 45,
    "start_time": "2023-08-22T14:17:36.175Z"
   },
   {
    "duration": 6,
    "start_time": "2023-08-22T14:17:36.222Z"
   },
   {
    "duration": 33,
    "start_time": "2023-08-22T14:17:36.230Z"
   },
   {
    "duration": 205,
    "start_time": "2023-08-22T14:17:36.265Z"
   },
   {
    "duration": 180,
    "start_time": "2023-08-22T14:17:36.472Z"
   },
   {
    "duration": 213,
    "start_time": "2023-08-22T14:17:36.654Z"
   },
   {
    "duration": 5,
    "start_time": "2023-08-22T14:17:36.869Z"
   },
   {
    "duration": 52,
    "start_time": "2023-08-22T14:17:36.876Z"
   },
   {
    "duration": 7,
    "start_time": "2023-08-22T14:17:36.930Z"
   },
   {
    "duration": 92,
    "start_time": "2023-08-22T14:17:36.939Z"
   },
   {
    "duration": 19,
    "start_time": "2023-08-22T14:17:37.033Z"
   },
   {
    "duration": 70,
    "start_time": "2023-08-22T14:17:37.053Z"
   },
   {
    "duration": 6,
    "start_time": "2023-08-22T14:17:37.125Z"
   },
   {
    "duration": 27,
    "start_time": "2023-08-22T14:17:37.132Z"
   },
   {
    "duration": 261,
    "start_time": "2023-08-22T14:17:37.161Z"
   },
   {
    "duration": 207,
    "start_time": "2023-08-22T14:17:37.424Z"
   },
   {
    "duration": 298,
    "start_time": "2023-08-22T14:17:37.633Z"
   },
   {
    "duration": 235,
    "start_time": "2023-08-22T14:17:37.932Z"
   },
   {
    "duration": 262,
    "start_time": "2023-08-22T14:17:38.169Z"
   },
   {
    "duration": 242,
    "start_time": "2023-08-22T14:17:38.433Z"
   },
   {
    "duration": 296,
    "start_time": "2023-08-22T14:17:38.676Z"
   },
   {
    "duration": 368,
    "start_time": "2023-08-22T14:17:38.975Z"
   },
   {
    "duration": 478,
    "start_time": "2023-08-22T14:17:39.344Z"
   },
   {
    "duration": 18,
    "start_time": "2023-08-22T14:17:39.824Z"
   },
   {
    "duration": 185,
    "start_time": "2023-08-22T14:17:39.843Z"
   },
   {
    "duration": 160,
    "start_time": "2023-08-22T14:18:31.325Z"
   },
   {
    "duration": 1249,
    "start_time": "2023-08-22T14:21:51.650Z"
   },
   {
    "duration": 58,
    "start_time": "2023-08-22T14:21:52.901Z"
   },
   {
    "duration": 13,
    "start_time": "2023-08-22T14:21:52.960Z"
   },
   {
    "duration": 10,
    "start_time": "2023-08-22T14:21:52.976Z"
   },
   {
    "duration": 56,
    "start_time": "2023-08-22T14:21:52.987Z"
   },
   {
    "duration": 9,
    "start_time": "2023-08-22T14:21:53.044Z"
   },
   {
    "duration": 25,
    "start_time": "2023-08-22T14:21:53.054Z"
   },
   {
    "duration": 6,
    "start_time": "2023-08-22T14:21:53.081Z"
   },
   {
    "duration": 34,
    "start_time": "2023-08-22T14:21:53.089Z"
   },
   {
    "duration": 214,
    "start_time": "2023-08-22T14:21:53.125Z"
   },
   {
    "duration": 5,
    "start_time": "2023-08-22T14:21:53.341Z"
   },
   {
    "duration": 173,
    "start_time": "2023-08-22T14:21:53.348Z"
   },
   {
    "duration": 176,
    "start_time": "2023-08-22T14:21:53.524Z"
   },
   {
    "duration": 237,
    "start_time": "2023-08-22T14:21:53.701Z"
   },
   {
    "duration": 7,
    "start_time": "2023-08-22T14:21:53.940Z"
   },
   {
    "duration": 60,
    "start_time": "2023-08-22T14:21:53.948Z"
   },
   {
    "duration": 6,
    "start_time": "2023-08-22T14:21:54.011Z"
   },
   {
    "duration": 64,
    "start_time": "2023-08-22T14:21:54.019Z"
   },
   {
    "duration": 20,
    "start_time": "2023-08-22T14:21:54.085Z"
   },
   {
    "duration": 71,
    "start_time": "2023-08-22T14:21:54.108Z"
   },
   {
    "duration": 7,
    "start_time": "2023-08-22T14:21:54.182Z"
   },
   {
    "duration": 12,
    "start_time": "2023-08-22T14:21:54.191Z"
   },
   {
    "duration": 219,
    "start_time": "2023-08-22T14:21:54.205Z"
   },
   {
    "duration": 298,
    "start_time": "2023-08-22T14:21:54.426Z"
   },
   {
    "duration": 228,
    "start_time": "2023-08-22T14:21:54.726Z"
   },
   {
    "duration": 247,
    "start_time": "2023-08-22T14:21:54.956Z"
   },
   {
    "duration": 276,
    "start_time": "2023-08-22T14:21:55.211Z"
   },
   {
    "duration": 243,
    "start_time": "2023-08-22T14:21:55.491Z"
   },
   {
    "duration": 298,
    "start_time": "2023-08-22T14:21:55.736Z"
   },
   {
    "duration": 431,
    "start_time": "2023-08-22T14:21:56.036Z"
   },
   {
    "duration": 391,
    "start_time": "2023-08-22T14:21:56.469Z"
   },
   {
    "duration": 17,
    "start_time": "2023-08-22T14:21:56.862Z"
   },
   {
    "duration": 185,
    "start_time": "2023-08-22T14:21:56.881Z"
   },
   {
    "duration": 172,
    "start_time": "2023-08-22T14:58:40.974Z"
   },
   {
    "duration": 1277,
    "start_time": "2023-08-22T14:59:01.852Z"
   },
   {
    "duration": 54,
    "start_time": "2023-08-22T14:59:03.131Z"
   },
   {
    "duration": 67,
    "start_time": "2023-08-22T14:59:03.187Z"
   },
   {
    "duration": 32,
    "start_time": "2023-08-22T14:59:03.256Z"
   },
   {
    "duration": 80,
    "start_time": "2023-08-22T14:59:03.290Z"
   },
   {
    "duration": 24,
    "start_time": "2023-08-22T14:59:03.371Z"
   },
   {
    "duration": 32,
    "start_time": "2023-08-22T14:59:03.396Z"
   },
   {
    "duration": 21,
    "start_time": "2023-08-22T14:59:03.430Z"
   },
   {
    "duration": 24,
    "start_time": "2023-08-22T14:59:03.452Z"
   },
   {
    "duration": 206,
    "start_time": "2023-08-22T14:59:03.479Z"
   },
   {
    "duration": 6,
    "start_time": "2023-08-22T14:59:03.687Z"
   },
   {
    "duration": 187,
    "start_time": "2023-08-22T14:59:03.695Z"
   },
   {
    "duration": 185,
    "start_time": "2023-08-22T14:59:03.883Z"
   },
   {
    "duration": 28,
    "start_time": "2023-08-22T14:59:04.070Z"
   },
   {
    "duration": 12,
    "start_time": "2023-08-22T14:59:04.099Z"
   },
   {
    "duration": 45,
    "start_time": "2023-08-22T14:59:04.112Z"
   },
   {
    "duration": 18,
    "start_time": "2023-08-22T14:59:04.159Z"
   },
   {
    "duration": 63,
    "start_time": "2023-08-22T14:59:04.179Z"
   },
   {
    "duration": 6,
    "start_time": "2023-08-22T14:59:04.244Z"
   },
   {
    "duration": 14,
    "start_time": "2023-08-22T14:59:04.251Z"
   },
   {
    "duration": 221,
    "start_time": "2023-08-22T14:59:04.266Z"
   },
   {
    "duration": 213,
    "start_time": "2023-08-22T14:59:04.489Z"
   },
   {
    "duration": 299,
    "start_time": "2023-08-22T14:59:04.704Z"
   },
   {
    "duration": 243,
    "start_time": "2023-08-22T14:59:05.005Z"
   },
   {
    "duration": 283,
    "start_time": "2023-08-22T14:59:05.249Z"
   },
   {
    "duration": 221,
    "start_time": "2023-08-22T14:59:05.533Z"
   },
   {
    "duration": 278,
    "start_time": "2023-08-22T14:59:05.755Z"
   },
   {
    "duration": 341,
    "start_time": "2023-08-22T14:59:06.036Z"
   },
   {
    "duration": 463,
    "start_time": "2023-08-22T14:59:06.378Z"
   },
   {
    "duration": 18,
    "start_time": "2023-08-22T14:59:06.843Z"
   },
   {
    "duration": 192,
    "start_time": "2023-08-22T14:59:06.863Z"
   },
   {
    "duration": 226,
    "start_time": "2023-08-22T15:08:54.523Z"
   },
   {
    "duration": 1207,
    "start_time": "2023-08-22T15:13:41.006Z"
   },
   {
    "duration": 53,
    "start_time": "2023-08-22T15:13:42.215Z"
   },
   {
    "duration": 16,
    "start_time": "2023-08-22T15:13:42.270Z"
   },
   {
    "duration": 13,
    "start_time": "2023-08-22T15:13:42.288Z"
   },
   {
    "duration": 57,
    "start_time": "2023-08-22T15:13:42.303Z"
   },
   {
    "duration": 11,
    "start_time": "2023-08-22T15:13:42.361Z"
   },
   {
    "duration": 24,
    "start_time": "2023-08-22T15:13:42.374Z"
   },
   {
    "duration": 7,
    "start_time": "2023-08-22T15:13:42.410Z"
   },
   {
    "duration": 15,
    "start_time": "2023-08-22T15:13:42.420Z"
   },
   {
    "duration": 281,
    "start_time": "2023-08-22T15:13:42.439Z"
   },
   {
    "duration": 6,
    "start_time": "2023-08-22T15:13:42.722Z"
   },
   {
    "duration": 164,
    "start_time": "2023-08-22T15:13:42.729Z"
   },
   {
    "duration": 176,
    "start_time": "2023-08-22T15:13:42.895Z"
   },
   {
    "duration": 29,
    "start_time": "2023-08-22T15:13:43.072Z"
   },
   {
    "duration": 7,
    "start_time": "2023-08-22T15:13:43.103Z"
   },
   {
    "duration": 41,
    "start_time": "2023-08-22T15:13:43.111Z"
   },
   {
    "duration": 18,
    "start_time": "2023-08-22T15:13:43.154Z"
   },
   {
    "duration": 61,
    "start_time": "2023-08-22T15:13:43.174Z"
   },
   {
    "duration": 6,
    "start_time": "2023-08-22T15:13:43.236Z"
   },
   {
    "duration": 10,
    "start_time": "2023-08-22T15:13:43.243Z"
   },
   {
    "duration": 215,
    "start_time": "2023-08-22T15:13:43.255Z"
   },
   {
    "duration": 193,
    "start_time": "2023-08-22T15:13:43.472Z"
   },
   {
    "duration": 292,
    "start_time": "2023-08-22T15:13:43.667Z"
   },
   {
    "duration": 226,
    "start_time": "2023-08-22T15:13:43.961Z"
   },
   {
    "duration": 267,
    "start_time": "2023-08-22T15:13:44.189Z"
   },
   {
    "duration": 274,
    "start_time": "2023-08-22T15:13:44.458Z"
   },
   {
    "duration": 290,
    "start_time": "2023-08-22T15:13:44.734Z"
   },
   {
    "duration": 357,
    "start_time": "2023-08-22T15:13:45.027Z"
   },
   {
    "duration": 491,
    "start_time": "2023-08-22T15:13:45.386Z"
   },
   {
    "duration": 227,
    "start_time": "2023-08-22T15:13:45.879Z"
   },
   {
    "duration": 19,
    "start_time": "2023-08-22T15:13:46.107Z"
   },
   {
    "duration": 173,
    "start_time": "2023-08-22T15:13:46.127Z"
   },
   {
    "duration": 258,
    "start_time": "2023-08-22T15:14:15.335Z"
   },
   {
    "duration": 239,
    "start_time": "2023-08-22T15:18:14.575Z"
   },
   {
    "duration": 118,
    "start_time": "2023-08-22T15:31:11.635Z"
   },
   {
    "duration": 33,
    "start_time": "2023-08-22T15:31:29.981Z"
   },
   {
    "duration": 45,
    "start_time": "2023-08-22T15:31:46.242Z"
   },
   {
    "duration": 45,
    "start_time": "2023-08-22T15:33:10.491Z"
   },
   {
    "duration": 59,
    "start_time": "2023-08-22T15:33:27.881Z"
   },
   {
    "duration": 47,
    "start_time": "2023-08-22T15:40:15.603Z"
   },
   {
    "duration": 1199,
    "start_time": "2023-08-22T15:40:30.324Z"
   },
   {
    "duration": 53,
    "start_time": "2023-08-22T15:40:31.525Z"
   },
   {
    "duration": 14,
    "start_time": "2023-08-22T15:40:31.579Z"
   },
   {
    "duration": 39,
    "start_time": "2023-08-22T15:40:31.595Z"
   },
   {
    "duration": 69,
    "start_time": "2023-08-22T15:40:31.637Z"
   },
   {
    "duration": 8,
    "start_time": "2023-08-22T15:40:31.707Z"
   },
   {
    "duration": 72,
    "start_time": "2023-08-22T15:40:31.717Z"
   },
   {
    "duration": 17,
    "start_time": "2023-08-22T15:40:31.791Z"
   },
   {
    "duration": 21,
    "start_time": "2023-08-22T15:40:31.810Z"
   },
   {
    "duration": 196,
    "start_time": "2023-08-22T15:40:31.834Z"
   },
   {
    "duration": 7,
    "start_time": "2023-08-22T15:40:32.032Z"
   },
   {
    "duration": 170,
    "start_time": "2023-08-22T15:40:32.041Z"
   },
   {
    "duration": 168,
    "start_time": "2023-08-22T15:40:32.214Z"
   },
   {
    "duration": 27,
    "start_time": "2023-08-22T15:40:32.383Z"
   },
   {
    "duration": 12,
    "start_time": "2023-08-22T15:40:32.412Z"
   },
   {
    "duration": 58,
    "start_time": "2023-08-22T15:40:32.426Z"
   },
   {
    "duration": 23,
    "start_time": "2023-08-22T15:40:32.486Z"
   },
   {
    "duration": 86,
    "start_time": "2023-08-22T15:40:32.511Z"
   },
   {
    "duration": 7,
    "start_time": "2023-08-22T15:40:32.600Z"
   },
   {
    "duration": 35,
    "start_time": "2023-08-22T15:40:32.609Z"
   },
   {
    "duration": 216,
    "start_time": "2023-08-22T15:40:32.646Z"
   },
   {
    "duration": 187,
    "start_time": "2023-08-22T15:40:32.864Z"
   },
   {
    "duration": 279,
    "start_time": "2023-08-22T15:40:33.052Z"
   },
   {
    "duration": 211,
    "start_time": "2023-08-22T15:40:33.333Z"
   },
   {
    "duration": 240,
    "start_time": "2023-08-22T15:40:33.546Z"
   },
   {
    "duration": 211,
    "start_time": "2023-08-22T15:40:33.787Z"
   },
   {
    "duration": 257,
    "start_time": "2023-08-22T15:40:33.999Z"
   },
   {
    "duration": 318,
    "start_time": "2023-08-22T15:40:34.259Z"
   },
   {
    "duration": 430,
    "start_time": "2023-08-22T15:40:34.579Z"
   },
   {
    "duration": 227,
    "start_time": "2023-08-22T15:40:35.011Z"
   },
   {
    "duration": 232,
    "start_time": "2023-08-22T15:40:35.239Z"
   },
   {
    "duration": 17,
    "start_time": "2023-08-22T15:40:35.472Z"
   },
   {
    "duration": 174,
    "start_time": "2023-08-22T15:40:35.491Z"
   },
   {
    "duration": 208,
    "start_time": "2023-08-22T15:41:31.427Z"
   },
   {
    "duration": 3309,
    "start_time": "2023-08-22T15:47:46.631Z"
   },
   {
    "duration": 44,
    "start_time": "2023-08-22T15:48:15.466Z"
   },
   {
    "duration": 13217,
    "start_time": "2023-08-22T15:48:40.212Z"
   },
   {
    "duration": 237,
    "start_time": "2023-08-22T15:55:09.265Z"
   },
   {
    "duration": 144,
    "start_time": "2023-08-22T15:55:36.723Z"
   },
   {
    "duration": 51,
    "start_time": "2023-08-22T15:55:44.341Z"
   },
   {
    "duration": 226,
    "start_time": "2023-08-22T15:56:02.379Z"
   },
   {
    "duration": 190,
    "start_time": "2023-08-22T15:56:26.565Z"
   },
   {
    "duration": 205,
    "start_time": "2023-08-22T15:56:42.540Z"
   },
   {
    "duration": 272,
    "start_time": "2023-08-22T15:58:59.615Z"
   },
   {
    "duration": 108,
    "start_time": "2023-08-22T15:59:22.090Z"
   },
   {
    "duration": 91,
    "start_time": "2023-08-22T15:59:40.017Z"
   },
   {
    "duration": 211,
    "start_time": "2023-08-22T16:00:01.178Z"
   },
   {
    "duration": 189,
    "start_time": "2023-08-22T16:01:19.705Z"
   },
   {
    "duration": 4,
    "start_time": "2023-08-22T16:03:22.310Z"
   },
   {
    "duration": 18,
    "start_time": "2023-08-22T16:04:23.590Z"
   },
   {
    "duration": 17,
    "start_time": "2023-08-22T16:14:58.875Z"
   },
   {
    "duration": 17,
    "start_time": "2023-08-22T16:17:11.197Z"
   },
   {
    "duration": 22,
    "start_time": "2023-08-22T16:20:01.442Z"
   },
   {
    "duration": 21,
    "start_time": "2023-08-22T16:20:16.635Z"
   },
   {
    "duration": 21,
    "start_time": "2023-08-22T16:20:24.381Z"
   },
   {
    "duration": 24,
    "start_time": "2023-08-22T16:20:43.129Z"
   },
   {
    "duration": 16,
    "start_time": "2023-08-22T16:20:51.350Z"
   },
   {
    "duration": 12,
    "start_time": "2023-08-22T16:21:17.804Z"
   },
   {
    "duration": 3,
    "start_time": "2023-08-22T16:21:29.672Z"
   },
   {
    "duration": 3,
    "start_time": "2023-08-22T16:21:56.588Z"
   },
   {
    "duration": 934,
    "start_time": "2023-08-22T16:22:12.620Z"
   },
   {
    "duration": 3002,
    "start_time": "2023-08-22T16:24:01.405Z"
   },
   {
    "duration": 907,
    "start_time": "2023-08-22T16:27:37.135Z"
   },
   {
    "duration": 3251,
    "start_time": "2023-08-22T16:28:51.386Z"
   },
   {
    "duration": 3045,
    "start_time": "2023-08-22T16:30:42.636Z"
   },
   {
    "duration": 2882,
    "start_time": "2023-08-22T16:31:04.046Z"
   },
   {
    "duration": 26,
    "start_time": "2023-08-22T16:33:54.955Z"
   },
   {
    "duration": 3014,
    "start_time": "2023-08-22T16:35:55.723Z"
   },
   {
    "duration": 1199,
    "start_time": "2023-08-22T16:55:21.735Z"
   },
   {
    "duration": 52,
    "start_time": "2023-08-22T16:55:22.936Z"
   },
   {
    "duration": 13,
    "start_time": "2023-08-22T16:55:22.990Z"
   },
   {
    "duration": 10,
    "start_time": "2023-08-22T16:55:23.005Z"
   },
   {
    "duration": 49,
    "start_time": "2023-08-22T16:55:23.016Z"
   },
   {
    "duration": 10,
    "start_time": "2023-08-22T16:55:23.067Z"
   },
   {
    "duration": 15,
    "start_time": "2023-08-22T16:55:23.079Z"
   },
   {
    "duration": 16,
    "start_time": "2023-08-22T16:55:23.096Z"
   },
   {
    "duration": 11,
    "start_time": "2023-08-22T16:55:23.114Z"
   },
   {
    "duration": 210,
    "start_time": "2023-08-22T16:55:23.127Z"
   },
   {
    "duration": 6,
    "start_time": "2023-08-22T16:55:23.339Z"
   },
   {
    "duration": 164,
    "start_time": "2023-08-22T16:55:23.346Z"
   },
   {
    "duration": 181,
    "start_time": "2023-08-22T16:55:23.511Z"
   },
   {
    "duration": 29,
    "start_time": "2023-08-22T16:55:23.694Z"
   },
   {
    "duration": 7,
    "start_time": "2023-08-22T16:55:23.725Z"
   },
   {
    "duration": 43,
    "start_time": "2023-08-22T16:55:23.734Z"
   },
   {
    "duration": 19,
    "start_time": "2023-08-22T16:55:23.778Z"
   },
   {
    "duration": 58,
    "start_time": "2023-08-22T16:55:23.798Z"
   },
   {
    "duration": 5,
    "start_time": "2023-08-22T16:55:23.858Z"
   },
   {
    "duration": 16,
    "start_time": "2023-08-22T16:55:23.865Z"
   },
   {
    "duration": 208,
    "start_time": "2023-08-22T16:55:23.883Z"
   },
   {
    "duration": 273,
    "start_time": "2023-08-22T16:55:24.094Z"
   },
   {
    "duration": 203,
    "start_time": "2023-08-22T16:55:24.368Z"
   },
   {
    "duration": 210,
    "start_time": "2023-08-22T16:55:24.573Z"
   },
   {
    "duration": 222,
    "start_time": "2023-08-22T16:55:24.784Z"
   },
   {
    "duration": 209,
    "start_time": "2023-08-22T16:55:25.010Z"
   },
   {
    "duration": 302,
    "start_time": "2023-08-22T16:55:25.221Z"
   },
   {
    "duration": 306,
    "start_time": "2023-08-22T16:55:25.526Z"
   },
   {
    "duration": 445,
    "start_time": "2023-08-22T16:55:25.833Z"
   },
   {
    "duration": 238,
    "start_time": "2023-08-22T16:55:26.281Z"
   },
   {
    "duration": 226,
    "start_time": "2023-08-22T16:55:26.520Z"
   },
   {
    "duration": 214,
    "start_time": "2023-08-22T16:55:26.748Z"
   },
   {
    "duration": 7,
    "start_time": "2023-08-22T16:55:26.964Z"
   },
   {
    "duration": 3071,
    "start_time": "2023-08-22T16:55:26.972Z"
   },
   {
    "duration": 20,
    "start_time": "2023-08-22T16:55:30.045Z"
   },
   {
    "duration": 1397,
    "start_time": "2023-08-27T14:13:16.620Z"
   },
   {
    "duration": 0,
    "start_time": "2023-08-27T14:13:18.021Z"
   },
   {
    "duration": 0,
    "start_time": "2023-08-27T14:13:18.023Z"
   },
   {
    "duration": 0,
    "start_time": "2023-08-27T14:13:18.024Z"
   },
   {
    "duration": 0,
    "start_time": "2023-08-27T14:13:18.025Z"
   },
   {
    "duration": 0,
    "start_time": "2023-08-27T14:13:18.026Z"
   },
   {
    "duration": 0,
    "start_time": "2023-08-27T14:13:18.027Z"
   },
   {
    "duration": 0,
    "start_time": "2023-08-27T14:13:18.034Z"
   },
   {
    "duration": 0,
    "start_time": "2023-08-27T14:13:18.035Z"
   },
   {
    "duration": 0,
    "start_time": "2023-08-27T14:13:18.037Z"
   },
   {
    "duration": 0,
    "start_time": "2023-08-27T14:13:18.038Z"
   },
   {
    "duration": 0,
    "start_time": "2023-08-27T14:13:18.039Z"
   },
   {
    "duration": 0,
    "start_time": "2023-08-27T14:13:18.040Z"
   },
   {
    "duration": 0,
    "start_time": "2023-08-27T14:13:18.042Z"
   },
   {
    "duration": 0,
    "start_time": "2023-08-27T14:13:18.043Z"
   },
   {
    "duration": 0,
    "start_time": "2023-08-27T14:13:18.044Z"
   },
   {
    "duration": 0,
    "start_time": "2023-08-27T14:13:18.046Z"
   },
   {
    "duration": 0,
    "start_time": "2023-08-27T14:13:18.047Z"
   },
   {
    "duration": 0,
    "start_time": "2023-08-27T14:13:18.047Z"
   },
   {
    "duration": 0,
    "start_time": "2023-08-27T14:13:18.048Z"
   },
   {
    "duration": 0,
    "start_time": "2023-08-27T14:13:18.049Z"
   },
   {
    "duration": 0,
    "start_time": "2023-08-27T14:13:18.050Z"
   },
   {
    "duration": 0,
    "start_time": "2023-08-27T14:13:18.050Z"
   },
   {
    "duration": 0,
    "start_time": "2023-08-27T14:13:18.051Z"
   },
   {
    "duration": 0,
    "start_time": "2023-08-27T14:13:18.053Z"
   },
   {
    "duration": 0,
    "start_time": "2023-08-27T14:13:18.055Z"
   },
   {
    "duration": 0,
    "start_time": "2023-08-27T14:13:18.056Z"
   },
   {
    "duration": 0,
    "start_time": "2023-08-27T14:13:18.057Z"
   },
   {
    "duration": 0,
    "start_time": "2023-08-27T14:13:18.059Z"
   },
   {
    "duration": 0,
    "start_time": "2023-08-27T14:13:18.060Z"
   },
   {
    "duration": 0,
    "start_time": "2023-08-27T14:13:18.062Z"
   },
   {
    "duration": 0,
    "start_time": "2023-08-27T14:13:18.064Z"
   },
   {
    "duration": 0,
    "start_time": "2023-08-27T14:13:18.065Z"
   },
   {
    "duration": 0,
    "start_time": "2023-08-27T14:13:18.066Z"
   },
   {
    "duration": 0,
    "start_time": "2023-08-27T14:13:18.068Z"
   },
   {
    "duration": 0,
    "start_time": "2023-08-27T14:13:18.069Z"
   },
   {
    "duration": 0,
    "start_time": "2023-08-27T14:13:18.071Z"
   },
   {
    "duration": 0,
    "start_time": "2023-08-27T14:13:18.072Z"
   },
   {
    "duration": 2985,
    "start_time": "2023-08-27T14:14:11.135Z"
   },
   {
    "duration": 231,
    "start_time": "2023-08-27T14:14:14.124Z"
   },
   {
    "duration": 170,
    "start_time": "2023-08-27T14:14:14.356Z"
   },
   {
    "duration": 22,
    "start_time": "2023-08-27T14:14:14.529Z"
   },
   {
    "duration": 22,
    "start_time": "2023-08-27T14:14:14.555Z"
   },
   {
    "duration": 128,
    "start_time": "2023-08-27T14:14:14.578Z"
   },
   {
    "duration": 9,
    "start_time": "2023-08-27T14:14:14.708Z"
   },
   {
    "duration": 33,
    "start_time": "2023-08-27T14:14:14.718Z"
   },
   {
    "duration": 8,
    "start_time": "2023-08-27T14:14:14.753Z"
   },
   {
    "duration": 22,
    "start_time": "2023-08-27T14:14:14.763Z"
   },
   {
    "duration": 266,
    "start_time": "2023-08-27T14:14:14.787Z"
   },
   {
    "duration": 3,
    "start_time": "2023-08-27T14:14:15.055Z"
   },
   {
    "duration": 165,
    "start_time": "2023-08-27T14:14:15.059Z"
   },
   {
    "duration": 148,
    "start_time": "2023-08-27T14:14:15.233Z"
   },
   {
    "duration": 92,
    "start_time": "2023-08-27T14:14:15.382Z"
   },
   {
    "duration": 9,
    "start_time": "2023-08-27T14:14:15.476Z"
   },
   {
    "duration": 112,
    "start_time": "2023-08-27T14:14:15.487Z"
   },
   {
    "duration": 26,
    "start_time": "2023-08-27T14:14:15.601Z"
   },
   {
    "duration": 63,
    "start_time": "2023-08-27T14:14:15.630Z"
   },
   {
    "duration": 6,
    "start_time": "2023-08-27T14:14:15.696Z"
   },
   {
    "duration": 23,
    "start_time": "2023-08-27T14:14:15.704Z"
   },
   {
    "duration": 327,
    "start_time": "2023-08-27T14:14:15.729Z"
   },
   {
    "duration": 188,
    "start_time": "2023-08-27T14:14:16.058Z"
   },
   {
    "duration": 201,
    "start_time": "2023-08-27T14:14:16.248Z"
   },
   {
    "duration": 208,
    "start_time": "2023-08-27T14:14:16.451Z"
   },
   {
    "duration": 227,
    "start_time": "2023-08-27T14:14:16.661Z"
   },
   {
    "duration": 213,
    "start_time": "2023-08-27T14:14:16.891Z"
   },
   {
    "duration": 254,
    "start_time": "2023-08-27T14:14:17.106Z"
   },
   {
    "duration": 373,
    "start_time": "2023-08-27T14:14:17.361Z"
   },
   {
    "duration": 323,
    "start_time": "2023-08-27T14:14:17.735Z"
   },
   {
    "duration": 209,
    "start_time": "2023-08-27T14:14:18.061Z"
   },
   {
    "duration": 197,
    "start_time": "2023-08-27T14:14:18.272Z"
   },
   {
    "duration": 159,
    "start_time": "2023-08-27T14:14:18.470Z"
   },
   {
    "duration": 7,
    "start_time": "2023-08-27T14:14:18.630Z"
   },
   {
    "duration": 2854,
    "start_time": "2023-08-27T14:14:18.639Z"
   },
   {
    "duration": 13,
    "start_time": "2023-08-27T14:14:21.496Z"
   },
   {
    "duration": 14,
    "start_time": "2023-08-27T14:14:21.511Z"
   },
   {
    "duration": 33,
    "start_time": "2023-08-27T14:14:21.526Z"
   },
   {
    "duration": 0,
    "start_time": "2023-08-27T14:14:21.560Z"
   },
   {
    "duration": 14,
    "start_time": "2023-08-27T14:14:54.318Z"
   },
   {
    "duration": 6545,
    "start_time": "2023-08-27T14:20:38.982Z"
   },
   {
    "duration": 22,
    "start_time": "2023-08-27T14:20:52.188Z"
   },
   {
    "duration": 2167,
    "start_time": "2023-08-27T14:21:00.561Z"
   },
   {
    "duration": 4,
    "start_time": "2023-08-27T14:21:02.731Z"
   },
   {
    "duration": 119,
    "start_time": "2023-08-27T14:21:02.736Z"
   },
   {
    "duration": 13,
    "start_time": "2023-08-27T14:21:02.857Z"
   },
   {
    "duration": 46,
    "start_time": "2023-08-27T14:21:02.872Z"
   },
   {
    "duration": 99,
    "start_time": "2023-08-27T14:21:02.920Z"
   },
   {
    "duration": 29,
    "start_time": "2023-08-27T14:21:03.021Z"
   },
   {
    "duration": 38,
    "start_time": "2023-08-27T14:21:03.052Z"
   },
   {
    "duration": 33,
    "start_time": "2023-08-27T14:21:03.092Z"
   },
   {
    "duration": 41,
    "start_time": "2023-08-27T14:21:03.127Z"
   },
   {
    "duration": 230,
    "start_time": "2023-08-27T14:21:03.170Z"
   },
   {
    "duration": 3,
    "start_time": "2023-08-27T14:21:03.402Z"
   },
   {
    "duration": 151,
    "start_time": "2023-08-27T14:21:03.406Z"
   },
   {
    "duration": 156,
    "start_time": "2023-08-27T14:21:03.561Z"
   },
   {
    "duration": 27,
    "start_time": "2023-08-27T14:21:03.718Z"
   },
   {
    "duration": 6,
    "start_time": "2023-08-27T14:21:03.746Z"
   },
   {
    "duration": 53,
    "start_time": "2023-08-27T14:21:03.753Z"
   },
   {
    "duration": 18,
    "start_time": "2023-08-27T14:21:03.809Z"
   },
   {
    "duration": 47,
    "start_time": "2023-08-27T14:21:03.829Z"
   },
   {
    "duration": 5,
    "start_time": "2023-08-27T14:21:03.878Z"
   },
   {
    "duration": 13,
    "start_time": "2023-08-27T14:21:03.885Z"
   },
   {
    "duration": 222,
    "start_time": "2023-08-27T14:21:03.900Z"
   },
   {
    "duration": 185,
    "start_time": "2023-08-27T14:21:04.124Z"
   },
   {
    "duration": 233,
    "start_time": "2023-08-27T14:21:04.311Z"
   },
   {
    "duration": 293,
    "start_time": "2023-08-27T14:21:04.546Z"
   },
   {
    "duration": 340,
    "start_time": "2023-08-27T14:21:04.841Z"
   },
   {
    "duration": 198,
    "start_time": "2023-08-27T14:21:05.183Z"
   },
   {
    "duration": 239,
    "start_time": "2023-08-27T14:21:05.382Z"
   },
   {
    "duration": 294,
    "start_time": "2023-08-27T14:21:05.623Z"
   },
   {
    "duration": 304,
    "start_time": "2023-08-27T14:21:05.918Z"
   },
   {
    "duration": 204,
    "start_time": "2023-08-27T14:21:06.223Z"
   },
   {
    "duration": 283,
    "start_time": "2023-08-27T14:21:06.434Z"
   },
   {
    "duration": 164,
    "start_time": "2023-08-27T14:21:06.719Z"
   },
   {
    "duration": 8,
    "start_time": "2023-08-27T14:21:06.885Z"
   },
   {
    "duration": 2775,
    "start_time": "2023-08-27T14:21:06.895Z"
   },
   {
    "duration": 15,
    "start_time": "2023-08-27T14:21:09.672Z"
   },
   {
    "duration": 22,
    "start_time": "2023-08-27T14:21:09.689Z"
   },
   {
    "duration": 2064,
    "start_time": "2023-08-27T14:21:09.713Z"
   },
   {
    "duration": 23,
    "start_time": "2023-08-27T14:21:11.779Z"
   },
   {
    "duration": 0,
    "start_time": "2023-08-27T14:21:11.804Z"
   },
   {
    "duration": 4350,
    "start_time": "2023-08-27T14:23:26.703Z"
   },
   {
    "duration": 4206,
    "start_time": "2023-08-27T14:23:31.055Z"
   },
   {
    "duration": 2208,
    "start_time": "2023-08-27T14:23:35.264Z"
   },
   {
    "duration": 99,
    "start_time": "2023-08-27T14:23:37.475Z"
   },
   {
    "duration": 18,
    "start_time": "2023-08-27T14:23:37.633Z"
   },
   {
    "duration": 22,
    "start_time": "2023-08-27T14:23:37.653Z"
   },
   {
    "duration": 162,
    "start_time": "2023-08-27T14:23:37.677Z"
   },
   {
    "duration": 11,
    "start_time": "2023-08-27T14:23:37.841Z"
   },
   {
    "duration": 13,
    "start_time": "2023-08-27T14:23:37.854Z"
   },
   {
    "duration": 68,
    "start_time": "2023-08-27T14:23:37.869Z"
   },
   {
    "duration": 12,
    "start_time": "2023-08-27T14:23:37.939Z"
   },
   {
    "duration": 399,
    "start_time": "2023-08-27T14:23:37.953Z"
   },
   {
    "duration": 2,
    "start_time": "2023-08-27T14:23:38.355Z"
   },
   {
    "duration": 390,
    "start_time": "2023-08-27T14:23:38.362Z"
   },
   {
    "duration": 297,
    "start_time": "2023-08-27T14:23:38.754Z"
   },
   {
    "duration": 83,
    "start_time": "2023-08-27T14:23:39.053Z"
   },
   {
    "duration": 7,
    "start_time": "2023-08-27T14:23:39.138Z"
   },
   {
    "duration": 109,
    "start_time": "2023-08-27T14:23:39.147Z"
   },
   {
    "duration": 80,
    "start_time": "2023-08-27T14:23:39.257Z"
   },
   {
    "duration": 120,
    "start_time": "2023-08-27T14:23:39.340Z"
   },
   {
    "duration": 8,
    "start_time": "2023-08-27T14:23:39.462Z"
   },
   {
    "duration": 71,
    "start_time": "2023-08-27T14:23:39.472Z"
   },
   {
    "duration": 334,
    "start_time": "2023-08-27T14:23:39.544Z"
   },
   {
    "duration": 496,
    "start_time": "2023-08-27T14:23:39.880Z"
   },
   {
    "duration": 469,
    "start_time": "2023-08-27T14:23:40.377Z"
   },
   {
    "duration": 412,
    "start_time": "2023-08-27T14:23:40.848Z"
   },
   {
    "duration": 499,
    "start_time": "2023-08-27T14:23:41.262Z"
   },
   {
    "duration": 397,
    "start_time": "2023-08-27T14:23:41.762Z"
   },
   {
    "duration": 517,
    "start_time": "2023-08-27T14:23:42.162Z"
   },
   {
    "duration": 608,
    "start_time": "2023-08-27T14:23:42.733Z"
   },
   {
    "duration": 917,
    "start_time": "2023-08-27T14:23:43.343Z"
   },
   {
    "duration": 576,
    "start_time": "2023-08-27T14:23:44.262Z"
   },
   {
    "duration": 608,
    "start_time": "2023-08-27T14:23:44.840Z"
   },
   {
    "duration": 412,
    "start_time": "2023-08-27T14:23:45.450Z"
   },
   {
    "duration": 5,
    "start_time": "2023-08-27T14:23:45.864Z"
   },
   {
    "duration": 5599,
    "start_time": "2023-08-27T14:23:45.871Z"
   },
   {
    "duration": 64,
    "start_time": "2023-08-27T14:23:51.472Z"
   },
   {
    "duration": 10,
    "start_time": "2023-08-27T14:23:51.538Z"
   },
   {
    "duration": 313,
    "start_time": "2023-08-27T14:23:51.551Z"
   },
   {
    "duration": 42311,
    "start_time": "2023-08-27T14:23:51.865Z"
   },
   {
    "duration": 11032,
    "start_time": "2023-08-28T15:58:27.565Z"
   },
   {
    "duration": 2975,
    "start_time": "2023-08-28T15:58:38.600Z"
   },
   {
    "duration": 1546,
    "start_time": "2023-08-28T15:58:41.577Z"
   },
   {
    "duration": 105,
    "start_time": "2023-08-28T15:58:43.126Z"
   },
   {
    "duration": 17,
    "start_time": "2023-08-28T15:58:43.233Z"
   },
   {
    "duration": 22,
    "start_time": "2023-08-28T15:58:43.253Z"
   },
   {
    "duration": 211,
    "start_time": "2023-08-28T15:58:43.277Z"
   },
   {
    "duration": 9,
    "start_time": "2023-08-28T15:58:43.489Z"
   },
   {
    "duration": 51,
    "start_time": "2023-08-28T15:58:43.499Z"
   },
   {
    "duration": 46,
    "start_time": "2023-08-28T15:58:43.552Z"
   },
   {
    "duration": 38,
    "start_time": "2023-08-28T15:58:43.600Z"
   },
   {
    "duration": 231,
    "start_time": "2023-08-28T15:58:43.640Z"
   },
   {
    "duration": 2,
    "start_time": "2023-08-28T15:58:43.873Z"
   },
   {
    "duration": 231,
    "start_time": "2023-08-28T15:58:43.877Z"
   },
   {
    "duration": 186,
    "start_time": "2023-08-28T15:58:44.111Z"
   },
   {
    "duration": 98,
    "start_time": "2023-08-28T15:58:44.299Z"
   },
   {
    "duration": 7,
    "start_time": "2023-08-28T15:58:44.399Z"
   },
   {
    "duration": 112,
    "start_time": "2023-08-28T15:58:44.408Z"
   },
   {
    "duration": 17,
    "start_time": "2023-08-28T15:58:44.521Z"
   },
   {
    "duration": 71,
    "start_time": "2023-08-28T15:58:44.540Z"
   },
   {
    "duration": 5,
    "start_time": "2023-08-28T15:58:44.612Z"
   },
   {
    "duration": 12,
    "start_time": "2023-08-28T15:58:44.619Z"
   },
   {
    "duration": 217,
    "start_time": "2023-08-28T15:58:44.632Z"
   },
   {
    "duration": 295,
    "start_time": "2023-08-28T15:58:44.850Z"
   },
   {
    "duration": 231,
    "start_time": "2023-08-28T15:58:45.147Z"
   },
   {
    "duration": 234,
    "start_time": "2023-08-28T15:58:45.380Z"
   },
   {
    "duration": 240,
    "start_time": "2023-08-28T15:58:45.616Z"
   },
   {
    "duration": 220,
    "start_time": "2023-08-28T15:58:45.866Z"
   },
   {
    "duration": 292,
    "start_time": "2023-08-28T15:58:46.088Z"
   },
   {
    "duration": 343,
    "start_time": "2023-08-28T15:58:46.382Z"
   },
   {
    "duration": 472,
    "start_time": "2023-08-28T15:58:46.726Z"
   },
   {
    "duration": 248,
    "start_time": "2023-08-28T15:58:47.200Z"
   },
   {
    "duration": 237,
    "start_time": "2023-08-28T15:58:47.449Z"
   },
   {
    "duration": 187,
    "start_time": "2023-08-28T15:58:47.688Z"
   },
   {
    "duration": 7,
    "start_time": "2023-08-28T15:58:47.877Z"
   },
   {
    "duration": 3083,
    "start_time": "2023-08-28T15:58:47.886Z"
   },
   {
    "duration": 19,
    "start_time": "2023-08-28T15:58:50.971Z"
   },
   {
    "duration": 27,
    "start_time": "2023-08-28T15:58:50.991Z"
   },
   {
    "duration": 165,
    "start_time": "2023-08-28T15:58:51.020Z"
   },
   {
    "duration": 38076,
    "start_time": "2023-08-28T15:58:51.187Z"
   },
   {
    "duration": 129,
    "start_time": "2023-08-28T15:59:29.266Z"
   },
   {
    "duration": 15,
    "start_time": "2023-08-28T15:59:53.050Z"
   },
   {
    "duration": 22,
    "start_time": "2023-08-28T16:00:13.130Z"
   },
   {
    "duration": 12,
    "start_time": "2023-08-28T16:00:19.088Z"
   },
   {
    "duration": 48718,
    "start_time": "2023-08-28T16:00:53.207Z"
   },
   {
    "duration": 20,
    "start_time": "2023-08-28T16:05:34.750Z"
   },
   {
    "duration": 4207,
    "start_time": "2023-08-28T16:05:47.803Z"
   },
   {
    "duration": 22,
    "start_time": "2023-08-28T16:07:31.602Z"
   },
   {
    "duration": 10,
    "start_time": "2023-08-28T16:09:43.157Z"
   },
   {
    "duration": 5,
    "start_time": "2023-08-28T16:10:55.434Z"
   },
   {
    "duration": 13,
    "start_time": "2023-08-28T16:11:36.211Z"
   },
   {
    "duration": 8643,
    "start_time": "2023-08-29T12:03:06.959Z"
   },
   {
    "duration": 3005,
    "start_time": "2023-08-29T12:03:15.605Z"
   },
   {
    "duration": 1436,
    "start_time": "2023-08-29T12:03:18.613Z"
   },
   {
    "duration": 91,
    "start_time": "2023-08-29T12:03:20.051Z"
   },
   {
    "duration": 13,
    "start_time": "2023-08-29T12:03:20.144Z"
   },
   {
    "duration": 11,
    "start_time": "2023-08-29T12:03:20.159Z"
   },
   {
    "duration": 199,
    "start_time": "2023-08-29T12:03:20.172Z"
   },
   {
    "duration": 8,
    "start_time": "2023-08-29T12:03:20.373Z"
   },
   {
    "duration": 46,
    "start_time": "2023-08-29T12:03:20.382Z"
   },
   {
    "duration": 101,
    "start_time": "2023-08-29T12:03:20.430Z"
   },
   {
    "duration": 52,
    "start_time": "2023-08-29T12:03:20.533Z"
   },
   {
    "duration": 200,
    "start_time": "2023-08-29T12:03:20.587Z"
   },
   {
    "duration": 2,
    "start_time": "2023-08-29T12:03:20.789Z"
   },
   {
    "duration": 189,
    "start_time": "2023-08-29T12:03:20.794Z"
   },
   {
    "duration": 166,
    "start_time": "2023-08-29T12:03:20.984Z"
   },
   {
    "duration": 96,
    "start_time": "2023-08-29T12:03:21.151Z"
   },
   {
    "duration": 6,
    "start_time": "2023-08-29T12:03:21.249Z"
   },
   {
    "duration": 133,
    "start_time": "2023-08-29T12:03:21.257Z"
   },
   {
    "duration": 19,
    "start_time": "2023-08-29T12:03:21.392Z"
   },
   {
    "duration": 56,
    "start_time": "2023-08-29T12:03:21.413Z"
   },
   {
    "duration": 6,
    "start_time": "2023-08-29T12:03:21.470Z"
   },
   {
    "duration": 14,
    "start_time": "2023-08-29T12:03:21.478Z"
   },
   {
    "duration": 223,
    "start_time": "2023-08-29T12:03:21.494Z"
   },
   {
    "duration": 287,
    "start_time": "2023-08-29T12:03:21.720Z"
   },
   {
    "duration": 221,
    "start_time": "2023-08-29T12:03:22.009Z"
   },
   {
    "duration": 224,
    "start_time": "2023-08-29T12:03:22.232Z"
   },
   {
    "duration": 245,
    "start_time": "2023-08-29T12:03:22.458Z"
   },
   {
    "duration": 228,
    "start_time": "2023-08-29T12:03:22.705Z"
   },
   {
    "duration": 304,
    "start_time": "2023-08-29T12:03:22.935Z"
   },
   {
    "duration": 364,
    "start_time": "2023-08-29T12:03:23.241Z"
   },
   {
    "duration": 482,
    "start_time": "2023-08-29T12:03:23.608Z"
   },
   {
    "duration": 309,
    "start_time": "2023-08-29T12:03:24.092Z"
   },
   {
    "duration": 236,
    "start_time": "2023-08-29T12:03:24.403Z"
   },
   {
    "duration": 187,
    "start_time": "2023-08-29T12:03:24.641Z"
   },
   {
    "duration": 6,
    "start_time": "2023-08-29T12:03:24.830Z"
   },
   {
    "duration": 3108,
    "start_time": "2023-08-29T12:03:24.837Z"
   },
   {
    "duration": 16,
    "start_time": "2023-08-29T12:03:27.947Z"
   },
   {
    "duration": 15,
    "start_time": "2023-08-29T12:03:27.965Z"
   },
   {
    "duration": 164,
    "start_time": "2023-08-29T12:03:27.982Z"
   },
   {
    "duration": 36925,
    "start_time": "2023-08-29T12:03:28.148Z"
   },
   {
    "duration": 48657,
    "start_time": "2023-08-29T12:04:05.077Z"
   },
   {
    "duration": 21,
    "start_time": "2023-08-29T12:04:53.735Z"
   },
   {
    "duration": 20,
    "start_time": "2023-08-29T12:04:53.757Z"
   }
  ],
  "kernelspec": {
   "display_name": "Python 3 (ipykernel)",
   "language": "python",
   "name": "python3"
  },
  "language_info": {
   "codemirror_mode": {
    "name": "ipython",
    "version": 3
   },
   "file_extension": ".py",
   "mimetype": "text/x-python",
   "name": "python",
   "nbconvert_exporter": "python",
   "pygments_lexer": "ipython3",
   "version": "3.9.5"
  },
  "toc": {
   "base_numbering": 1,
   "nav_menu": {},
   "number_sections": true,
   "sideBar": true,
   "skip_h1_title": true,
   "title_cell": "Table of Contents",
   "title_sidebar": "Contents",
   "toc_cell": false,
   "toc_position": {},
   "toc_section_display": true,
   "toc_window_display": false
  }
 },
 "nbformat": 4,
 "nbformat_minor": 5
}

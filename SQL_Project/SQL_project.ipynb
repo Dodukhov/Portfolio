{
 "cells": [
  {
   "cell_type": "markdown",
   "id": "0691a836-e8ed-4e99-ae76-ebf54f728097",
   "metadata": {},
   "source": [
    "# Запросы к базе данных SQL"
   ]
  },
  {
   "cell_type": "markdown",
   "id": "bd044ada-1637-40d2-b612-f5c3882d664a",
   "metadata": {},
   "source": [
    "В данной работе предоставлена база данных, содержащая информацию о фондах и инвестициях. Задача состоит в выгрузке из БД информации, отвечающей требованиям запроса. ER-диаграмма БД выглядит следующим образом:"
   ]
  },
  {
   "cell_type": "markdown",
   "id": "968eeccb-6120-4461-b75e-86977f035613",
   "metadata": {},
   "source": [
    "![1](Structure.png)"
   ]
  },
  {
   "cell_type": "markdown",
   "id": "b6e3fb11-e822-4091-b212-30bac0878c0e",
   "metadata": {},
   "source": [
    "- `acquisition`: cодержит информацию о покупках одних компаний другими;\n",
    "- `education`:содержит информацию об уровне образования сотрудников компаний;\n",
    "- `people`: cодержит информацию о сотрудниках компаний-стартапов;\n",
    "- `company`: содержит информацию о компаниях-стартапах;\n",
    "- `investment`: содержит информацию об инвестициях венчурных фондов в компании-стартапы;\n",
    "- `funding_round`: содержит информацию о раундах инвестиций;\n",
    "- `fund`: хранит информацию о венчурных фондах.\n",
    "\n",
    "Более подробно ознакомиться со структурой БД можно по следующей ссылке: https://code.s3.yandex.net/SQL%20for%20data%20and%20analytics/ER/basic_sql_project.pdf"
   ]
  },
  {
   "cell_type": "markdown",
   "id": "65e6ea10-4c09-47c5-b858-9a544b0385ba",
   "metadata": {},
   "source": [
    "### Задача №1: "
   ]
  },
  {
   "cell_type": "markdown",
   "id": "0fcca4b0-a8a8-4fa1-b89e-da507bd4feab",
   "metadata": {},
   "source": [
    "Необходимо посчитать, сколько компаний закрылось."
   ]
  },
  {
   "cell_type": "markdown",
   "id": "3f889f58-aaa1-4d7f-aec9-80db0bec1790",
   "metadata": {},
   "source": [
    "```sql\n",
    "SELECT COUNT(*)\n",
    "FROM company\n",
    "WHERE status='closed';\n",
    "```"
   ]
  },
  {
   "cell_type": "markdown",
   "id": "8198d817-6a3e-47b2-b78d-379f2f4e2296",
   "metadata": {},
   "source": [
    "### Задача №2:"
   ]
  },
  {
   "cell_type": "markdown",
   "id": "bff57335-08ef-4f6d-8ce5-c021eb097617",
   "metadata": {},
   "source": [
    "Необходимо отобразить количество привлечённых средств для новостных компаний США. Полученный результат необходимо отсортировать по убыванию значений в поле `funding_total`."
   ]
  },
  {
   "cell_type": "markdown",
   "id": "b17039a3-2794-4d8f-919a-e285f3808477",
   "metadata": {},
   "source": [
    "```sql\n",
    "SELECT funding_total\n",
    "FROM company\n",
    "WHERE category_code='news'\n",
    "  AND country_code='USA'\n",
    "ORDER BY funding_total DESC;\n",
    "```"
   ]
  },
  {
   "cell_type": "markdown",
   "id": "91961560-285d-45bf-beb6-771c74d80057",
   "metadata": {},
   "source": [
    "### Задача №3:"
   ]
  },
  {
   "cell_type": "markdown",
   "id": "d681e81b-1673-430a-bf38-7be77518ae9d",
   "metadata": {},
   "source": [
    "Необходимо найти общую сумму сделок по покупке одних компаний другими в долларах. Из полученного результата необходимо оставить только те сделки, которые осуществлялись только за наличные с 2011 по 2013 год включительно."
   ]
  },
  {
   "cell_type": "markdown",
   "id": "ac70be04-e838-481b-996a-b032acf2fb4b",
   "metadata": {},
   "source": [
    "```sql\n",
    "SELECT SUM(price_amount)\n",
    "FROM acquisition\n",
    "WHERE term_code='cash'\n",
    "  AND acquired_at BETWEEN '2011-01-01' AND '2013-12-31';\n",
    "```"
   ]
  },
  {
   "cell_type": "markdown",
   "id": "019b4cfc-6f76-4904-a691-72b1eaabef68",
   "metadata": {},
   "source": [
    "### Задача №4:"
   ]
  },
  {
   "cell_type": "markdown",
   "id": "7fd4d9d1-95d2-47ee-8556-277bf0a7ceb6",
   "metadata": {},
   "source": [
    "Необходимо отобразить имя, фамилию и названия аккаунтов людей в твиттере, у которых названия аккаунтов начинаются на 'Silver'."
   ]
  },
  {
   "cell_type": "markdown",
   "id": "3ad8aa77-1166-454f-994c-b3708f824473",
   "metadata": {},
   "source": [
    "```sql\n",
    "SELECT first_name,\n",
    "       last_name,\n",
    "       twitter_username\n",
    "FROM people\n",
    "WHERE twitter_username LIKE 'Silver%';\n",
    "```"
   ]
  },
  {
   "cell_type": "markdown",
   "id": "37aa044d-5d29-40d5-80f5-4997e9efee9e",
   "metadata": {},
   "source": [
    "### Задача №5:"
   ]
  },
  {
   "cell_type": "markdown",
   "id": "2246eb5a-700c-489c-82dd-1a3da33287bc",
   "metadata": {},
   "source": [
    "Необходимо отобразить всю информацию о людях, у которых названия аккаунтов в твиттере содержат подстроку 'money', а фамилия начинается на 'K'."
   ]
  },
  {
   "cell_type": "markdown",
   "id": "14ef8ac8-8a34-4762-b482-e3fe4867cbb3",
   "metadata": {},
   "source": [
    "```sql\n",
    "SELECT *\n",
    "FROM people\n",
    "WHERE twitter_username LIKE '%money%'\n",
    " AND last_name LIKE 'K%';\n",
    "```"
   ]
  },
  {
   "cell_type": "markdown",
   "id": "9a57df4b-21cc-499b-b011-9958ad173b28",
   "metadata": {},
   "source": [
    "### Задача №6:"
   ]
  },
  {
   "cell_type": "markdown",
   "id": "280e538c-59c5-41aa-a98a-35bafcab12e2",
   "metadata": {},
   "source": [
    "Необходимо отобразить общую сумму привлечённых инвестиций для каждой страны, которые получили компании, зарегистрированные в этой стране. Полученные данные необходимо отсортировать по убыванию суммы."
   ]
  },
  {
   "cell_type": "markdown",
   "id": "2d7d5e1d-390a-4d0c-bb79-908e47d1bcb3",
   "metadata": {},
   "source": [
    "```sql\n",
    "SELECT country_code,\n",
    "       SUM(funding_total) AS total_sum\n",
    "FROM company\n",
    "GROUP BY country_code\n",
    "ORDER BY SUM(funding_total) DESC;\n",
    "```"
   ]
  },
  {
   "cell_type": "markdown",
   "id": "dfec90d4-4ab3-46ba-9670-820ac6bac808",
   "metadata": {},
   "source": [
    "### Задача №7:"
   ]
  },
  {
   "cell_type": "markdown",
   "id": "fb501b23-22ec-496f-919c-88c26313218b",
   "metadata": {},
   "source": [
    "Необходимо составить таблицу, в которую войдёт дата проведения раунда, а также минимальное и максимальное значения суммы инвестиций, привлечённых в эту дату. В итоговой таблице необходимо оставить только те записи, в которых минимальное значение суммы инвестиций не равно нулю и не равно максимальному значению."
   ]
  },
  {
   "cell_type": "markdown",
   "id": "4c4c421b-cf2a-4f47-b976-ff523967bb4d",
   "metadata": {},
   "source": [
    "```sql\n",
    "WITH tmp AS (\n",
    "    SELECT\n",
    "        funded_at,\n",
    "        MIN(raised_amount) AS min_amount,\n",
    "        MAX(raised_amount) AS max_amount\n",
    "    FROM\n",
    "        funding_round\n",
    "    GROUP BY\n",
    "        funded_at\n",
    ")\n",
    "SELECT *\n",
    "FROM\n",
    "    tmp\n",
    "WHERE\n",
    "    min_amount <> 0\n",
    "    AND min_amount <> max_amount;\n",
    "```"
   ]
  },
  {
   "cell_type": "markdown",
   "id": "7c7ce61d-71e5-42f7-8337-f5893a332e98",
   "metadata": {},
   "source": [
    "### Задача №8:"
   ]
  },
  {
   "cell_type": "markdown",
   "id": "8a5c815c-d2e5-4b26-8507-85b898a46680",
   "metadata": {},
   "source": [
    "Необходимо отобразить все поля таблицы `fund`, а также поле с категориями:\n",
    "- для фондов, которые инвестируют в 100 и более компаний - категория `high_activity`;\n",
    "- для фондов, которые инвестируют в 20 и более компаний до 100 - категория `middle_activity`;\n",
    "- если количество инвестируемых компаний фонда не достигает 20 - категория `low_activity`.\n"
   ]
  },
  {
   "cell_type": "markdown",
   "id": "f19c0b5b-cb9c-4e64-b632-d995679b54df",
   "metadata": {},
   "source": [
    "```sql\n",
    "SELECT *,\n",
    "       CASE\n",
    "           WHEN invested_companies >= 100 THEN 'high_activity'\n",
    "           WHEN invested_companies >= 20 THEN 'middle_activity'\n",
    "           ELSE 'low_activity'\n",
    "       END AS activity_level\n",
    "FROM fund;\n",
    "```"
   ]
  },
  {
   "cell_type": "markdown",
   "id": "b9142220-89d4-4813-81ce-3f933798f235",
   "metadata": {},
   "source": [
    "### Задача №9:"
   ]
  },
  {
   "cell_type": "markdown",
   "id": "36fffb5a-c0de-4235-8bd3-400a19264fdc",
   "metadata": {},
   "source": [
    "Для каждой из категорий `activity_level` из прошлого задания необходимо посчитать округлённое до ближайшего целого числа среднее количество инвестиционных раундов, в которых фонд принимал участие. Необходимо вывести категории и среднее число инвестиционных раундов, а также отсортировать полученную таблицу по возрастанию среднего."
   ]
  },
  {
   "cell_type": "markdown",
   "id": "209e88fc-e578-4221-b25b-0e8ab8b9092d",
   "metadata": {},
   "source": [
    "```sql\n",
    "WITH tmp AS (\n",
    "    SELECT *,\n",
    "           CASE\n",
    "               WHEN invested_companies >= 100 THEN 'high_activity'\n",
    "               WHEN invested_companies >= 20 THEN 'middle_activity'\n",
    "               ELSE 'low_activity'\n",
    "           END AS activity_level\n",
    "    FROM fund\n",
    ")\n",
    "SELECT\n",
    "    activity_level,\n",
    "    ROUND(AVG(investment_rounds)) AS avg_investment_rounds\n",
    "FROM\n",
    "    tmp\n",
    "GROUP BY\n",
    "    activity_level\n",
    "ORDER BY\n",
    "    avg_investment_rounds;\n",
    "```"
   ]
  },
  {
   "cell_type": "markdown",
   "id": "590222a9-b9e4-4d8f-9ebe-9ff385ad894a",
   "metadata": {},
   "source": [
    "### Задача №10:"
   ]
  },
  {
   "cell_type": "markdown",
   "id": "1e227471-06f4-4918-b66a-19834cc260b7",
   "metadata": {},
   "source": [
    "Необходимо проанализировать, в каких странах находятся фонды, которые чаще всего инвестируют в стартапы. \n",
    "\n",
    "Для каждой страны необходимо посчитать минимальное, максимальное и среднее число компаний, в которые инвестировали фонды этой страны, основанные с 2010 по 2012 год включительно. Также необходимо исключить страны с фондами, у которых минимальное число компаний, получивших инвестиции, равно нулю. \n",
    "\n",
    "В итоговую таблицу должны попасть десять самых активных стран-инвесторов. Таблицу необходимо отсортировать по среднему количеству компаний от большего к меньшему, а затем добавить сортировку по коду страны в лексикографическом порядке."
   ]
  },
  {
   "cell_type": "markdown",
   "id": "547deaf7-77a1-41aa-a5d7-e50c01ef6839",
   "metadata": {},
   "source": [
    "```sql\n",
    "WITH tmp AS (\n",
    "    SELECT\n",
    "        country_code,\n",
    "        MIN(invested_companies) AS min_invested_companies,\n",
    "        MAX(invested_companies) AS max_invested_companies,\n",
    "        AVG(invested_companies) AS avg_invested_companies\n",
    "    FROM\n",
    "        fund\n",
    "    WHERE\n",
    "        founded_at BETWEEN '2010-01-01' AND '2012-12-31'\n",
    "    GROUP BY\n",
    "        country_code\n",
    "    HAVING\n",
    "        MIN(invested_companies) <> 0\n",
    "    ORDER BY\n",
    "        avg_invested_companies DESC, country_code\n",
    "    LIMIT 10\n",
    ")\n",
    "SELECT *\n",
    "FROM\n",
    "    tmp;\n",
    "```"
   ]
  },
  {
   "cell_type": "markdown",
   "id": "b2ddef91-e0ae-4f46-9861-3bc37377b15f",
   "metadata": {},
   "source": [
    "### Задача №11:"
   ]
  },
  {
   "cell_type": "markdown",
   "id": "7ab5b3c9-b7fb-4ed8-b3c8-551793836a1a",
   "metadata": {},
   "source": [
    "Необходимо отобразить имя и фамилию всех сотрудников стартапов. К полученной таблице необходимо добавить поле с названием учебного заведения, которое окончил сотрудник, если эта информация известна."
   ]
  },
  {
   "cell_type": "markdown",
   "id": "0444b10f-7ba6-4be2-8b92-90eec51f8219",
   "metadata": {},
   "source": [
    "```sql\n",
    "SELECT p.first_name,\n",
    "       p.last_name,\n",
    "       e.instituition\n",
    "FROM people AS p\n",
    "LEFT JOIN education AS e ON p.id=e.person_id\n",
    "```"
   ]
  },
  {
   "cell_type": "markdown",
   "id": "f09e45d9-56ae-49a5-85f0-fa4260d4e6f6",
   "metadata": {},
   "source": [
    "### Задача №12:"
   ]
  },
  {
   "cell_type": "markdown",
   "id": "6b167c03-15aa-44b2-9c16-4d6e47cb60bd",
   "metadata": {},
   "source": [
    "Для каждой компании необходимо найти количество учебных заведений, которые окончили её сотрудники. Необходимо вывести название компании и число уникальных названий учебных заведений. Необходимо составить топ-5 компаний по количеству университетов."
   ]
  },
  {
   "cell_type": "markdown",
   "id": "1c1a9936-09db-4363-8c9c-a81d9df65fd7",
   "metadata": {},
   "source": [
    "```sql\n",
    "SELECT c.name,\n",
    "       COUNT(DISTINCT e.instituition) AS unique_inst_count\n",
    "FROM company AS c\n",
    "JOIN people AS p ON c.id=p.company_id\n",
    "JOIN education AS e ON p.id=e.person_id\n",
    "GROUP BY c.name\n",
    "ORDER BY unique_inst_count DESC\n",
    "LIMIT 5\n",
    "```"
   ]
  },
  {
   "cell_type": "markdown",
   "id": "795518e9-1f77-4863-8b52-5e78615ba6dd",
   "metadata": {},
   "source": [
    "### Задача №13:"
   ]
  },
  {
   "cell_type": "markdown",
   "id": "e48a4f5f-7483-4756-b160-56f332e2b4f5",
   "metadata": {},
   "source": [
    "Необходимо составить список с уникальными названиями закрытых компаний, для которых первый раунд финансирования оказался последним."
   ]
  },
  {
   "cell_type": "markdown",
   "id": "f1748fc8-8810-40db-95f2-34a1edc6b095",
   "metadata": {},
   "source": [
    "```sql\n",
    "WITH tmp AS (\n",
    "    SELECT company_id\n",
    "    FROM funding_round\n",
    "    WHERE is_first_round = 1 AND is_last_round = 1\n",
    ")\n",
    "SELECT DISTINCT c.name\n",
    "FROM company AS c\n",
    "JOIN tmp ON c.id = tmp.company_id\n",
    "WHERE c.status = 'closed';\n",
    "```"
   ]
  },
  {
   "cell_type": "markdown",
   "id": "7dcd4abc-b690-466c-9e29-386be4ce93aa",
   "metadata": {},
   "source": [
    "### Задача №14:"
   ]
  },
  {
   "cell_type": "markdown",
   "id": "3e243f4c-86b4-4cb2-adc2-fd0d0f2b4206",
   "metadata": {},
   "source": [
    "Необходимо составить список уникальных номеров сотрудников, которые работают в компаниях, отобранных в предыдущем задании."
   ]
  },
  {
   "cell_type": "markdown",
   "id": "95cef53c-3d21-49ce-8f16-e8ce7ffbf04e",
   "metadata": {},
   "source": [
    "```sql\n",
    "WITH tmp AS (\n",
    "    SELECT DISTINCT c.id\n",
    "    FROM company AS c\n",
    "    JOIN (\n",
    "        SELECT company_id\n",
    "        FROM funding_round\n",
    "        WHERE is_first_round = 1 AND is_last_round = 1\n",
    "    ) AS tmp_funding ON c.id = tmp_funding.company_id\n",
    "    WHERE c.status = 'closed'\n",
    ")\n",
    "SELECT DISTINCT p.id\n",
    "FROM people AS p\n",
    "JOIN tmp ON p.company_id = tmp.id;\n",
    "```"
   ]
  },
  {
   "cell_type": "markdown",
   "id": "242e72c1-661c-48ca-991f-d60ca25ff93a",
   "metadata": {},
   "source": [
    "### Задача №15:"
   ]
  },
  {
   "cell_type": "markdown",
   "id": "dde3e632-0663-4a3b-b478-53b20cbf4ec3",
   "metadata": {},
   "source": [
    "Необходимо составить таблицу, куда войдут уникальные пары с номерами сотрудников из предыдущей задачи и учебным заведением, которое окончил сотрудник."
   ]
  },
  {
   "cell_type": "markdown",
   "id": "f0bea0da-2c4a-4001-b849-518d18313d9c",
   "metadata": {},
   "source": [
    "```sql\n",
    "WITH tmp AS (\n",
    "  SELECT DISTINCT c.name,\n",
    "                  c.id\n",
    "  FROM company AS c\n",
    "  JOIN (\n",
    "    SELECT company_id\n",
    "    FROM funding_round\n",
    "    WHERE is_first_round = 1 AND is_last_round = 1\n",
    "  ) AS tmp_funding ON c.id = tmp_funding.company_id\n",
    "  WHERE c.status = 'closed'\n",
    ")\n",
    "SELECT DISTINCT p.id,\n",
    "       e.instituition\n",
    "FROM people AS p\n",
    "JOIN tmp ON tmp.id=p.company_id\n",
    "JOIN education AS e ON p.id=e.person_id\n",
    "GROUP BY p.id, e.instituition\n",
    "```"
   ]
  },
  {
   "cell_type": "markdown",
   "id": "6a02df12-1583-44b3-b9ed-949ad2b431d2",
   "metadata": {},
   "source": [
    "### Задача №16:"
   ]
  },
  {
   "cell_type": "markdown",
   "id": "a5755a0a-04f8-4d1e-b977-a030fcdfd2ad",
   "metadata": {},
   "source": [
    "Необходимо посчитать количество учебных заведений для каждого сотрудника из предыдущего задания. При подсчёте необходимо учитывать, что некоторые сотрудники могли окончить одно и то же заведение дважды."
   ]
  },
  {
   "cell_type": "markdown",
   "id": "8a66b60b-9d4e-40f4-a953-73d69d51c506",
   "metadata": {},
   "source": [
    "```sql\n",
    "WITH tmp AS (\n",
    "  SELECT DISTINCT c.name,\n",
    "                  c.id\n",
    "  FROM company AS c\n",
    "  JOIN (\n",
    "    SELECT company_id\n",
    "    FROM funding_round\n",
    "    WHERE is_first_round = 1 AND is_last_round = 1\n",
    "  ) AS tmp_funding ON c.id = tmp_funding.company_id\n",
    "  WHERE c.status = 'closed'\n",
    ")\n",
    "SELECT DISTINCT p.id,\n",
    "       COUNT(e.instituition) AS inst_count\n",
    "FROM people AS p\n",
    "JOIN tmp ON tmp.id=p.company_id\n",
    "JOIN education AS e ON p.id=e.person_id\n",
    "GROUP BY p.id \n",
    "```"
   ]
  },
  {
   "cell_type": "markdown",
   "id": "6654c827-53dc-4b7f-8b1f-378754e5615f",
   "metadata": {},
   "source": [
    "### Задача №17:"
   ]
  },
  {
   "cell_type": "markdown",
   "id": "2344a7ed-107b-408b-91c7-03c19adaa890",
   "metadata": {},
   "source": [
    "Необходимо вывести среднее число учебных заведений (всех, не только уникальных), которые окончили сотрудники Facebook."
   ]
  },
  {
   "cell_type": "markdown",
   "id": "378c91a7-e1ed-4450-8838-431ae4b2d874",
   "metadata": {},
   "source": [
    "```sql\n",
    "WITH tmp AS (\n",
    "    WITH fb AS (\n",
    "        SELECT DISTINCT c.name,\n",
    "                        c.id\n",
    "        FROM company AS c\n",
    "        WHERE c.name = 'Facebook'\n",
    "    )\n",
    "    SELECT DISTINCT p.id,\n",
    "           COUNT(e.instituition)\n",
    "    FROM people AS p\n",
    "    JOIN fb ON fb.id = p.company_id\n",
    "    JOIN education AS e ON p.id = e.person_id\n",
    "    GROUP BY p.id\n",
    ")\n",
    "SELECT AVG(count)\n",
    "FROM tmp;\n",
    "```"
   ]
  },
  {
   "cell_type": "markdown",
   "id": "d4ccdb5f-8bed-49c5-b076-76f77a29bcce",
   "metadata": {},
   "source": [
    "### Задача №18:"
   ]
  },
  {
   "cell_type": "markdown",
   "id": "a9fe1371-2af6-4ed7-9645-35f4ee36421c",
   "metadata": {},
   "source": [
    "Необходимо составить таблицу из полей:\n",
    "- `name_of_fund` — название фонда;\n",
    "- `name_of_company` — название компании;\n",
    "- `amount` — сумма инвестиций, которую привлекла компания в раунде.\n",
    "\n",
    "В таблицу должны войти данные о компаниях, в истории которых было больше шести важных этапов, а раунды финансирования проходили с 2012 по 2013 год включительно."
   ]
  },
  {
   "cell_type": "markdown",
   "id": "32870194-4fe4-44b8-a475-9e61544b9e8c",
   "metadata": {},
   "source": [
    "```sql\n",
    "SELECT f.name AS name_of_fund,\n",
    "       c.name AS name_of_company,\n",
    "       fr.raised_amount\n",
    "FROM investment AS i\n",
    "JOIN fund AS f ON f.id=i.fund_id\n",
    "JOIN funding_round AS fr ON fr.id=i.funding_round_id\n",
    "JOIN company AS c ON c.id=i.company_id\n",
    "WHERE c.milestones>6\n",
    "  AND fr.funded_at BETWEEN '2012-01-01' AND '2013-12-31'\n",
    "```"
   ]
  },
  {
   "cell_type": "markdown",
   "id": "31912032-caab-43b4-9207-3171488e34a8",
   "metadata": {},
   "source": [
    "### Задача №19:"
   ]
  },
  {
   "cell_type": "markdown",
   "id": "9f796f3f-c12c-4f4e-9af8-2fe459eb3ec9",
   "metadata": {},
   "source": [
    "Необходимо отобрать данные по месяцам с 2010 по 2013 год, когда проходили инвестиционные раунды. Данные должны быть сгруппированы по номеру месяца; в финальную таблицу должны войти следующие поля:\n",
    "- номер месяца, в котором проходили раунды;\n",
    "- количество уникальных названий фондов из США, которые инвестировали в этом месяце;\n",
    "- количество компаний, купленных за этот месяц;\n",
    "- общая сумма сделок по покупкам в этом месяце."
   ]
  },
  {
   "cell_type": "markdown",
   "id": "65e4d912-4c51-427a-90b4-cb880b3351cf",
   "metadata": {},
   "source": [
    "```sql\n",
    "WITH fd AS (\n",
    "    SELECT EXTRACT(MONTH FROM fr.funded_at) AS month,\n",
    "           COUNT(DISTINCT f.name) AS num_fund\n",
    "    FROM fund AS f\n",
    "    JOIN investment AS i ON f.id = i.fund_id\n",
    "    JOIN funding_round AS fr ON fr.id = i.funding_round_id\n",
    "    WHERE f.country_code = 'USA' AND EXTRACT(YEAR FROM fr.funded_at) BETWEEN 2010 AND 2013\n",
    "    GROUP BY month\n",
    "),\n",
    "\n",
    "ad AS (\n",
    "    SELECT EXTRACT(MONTH FROM acquired_at) AS month,\n",
    "           COUNT(acquired_company_id) AS num_acq,\n",
    "           SUM(price_amount) AS sum\n",
    "    FROM acquisition\n",
    "    WHERE EXTRACT(YEAR FROM acquired_at) BETWEEN 2010 AND 2013\n",
    "    GROUP BY month\n",
    ")\n",
    "\n",
    "SELECT fd.month,\n",
    "       fd.num_fund,\n",
    "       ad.num_acq,\n",
    "       ad.sum\n",
    "FROM fd\n",
    "JOIN ad ON fd.month = ad.month;\n",
    "```"
   ]
  },
  {
   "cell_type": "markdown",
   "id": "ab49964b-4898-4815-af35-006c4f5229ce",
   "metadata": {},
   "source": [
    "### Задание №20:"
   ]
  },
  {
   "cell_type": "markdown",
   "id": "22500cfe-dfed-4694-9456-98404df5e326",
   "metadata": {},
   "source": [
    "Необходимо составить сводную таблицу и вывести среднюю сумму инвестиций для стран, в которых есть стартапы, зарегистрированные в 2011, 2012 и 2013 годах. Данные за каждый год должны быть в отдельном поле. Необходимо отсортировать таблицу по среднему значению инвестиций за 2011 год от большего к меньшему."
   ]
  },
  {
   "cell_type": "markdown",
   "id": "0d412da7-459b-4eef-9ad1-9f2894eac678",
   "metadata": {},
   "source": [
    "```sql\n",
    "WITH a_2011 AS (\n",
    "    SELECT country_code,\n",
    "           AVG(funding_total) AS avg\n",
    "    FROM company\n",
    "    WHERE EXTRACT(YEAR FROM founded_at) = 2011\n",
    "    GROUP BY country_code\n",
    "),\n",
    "\n",
    "a_2012 AS (\n",
    "    SELECT country_code,\n",
    "           AVG(funding_total) AS avg\n",
    "    FROM company\n",
    "    WHERE EXTRACT(YEAR FROM founded_at) = 2012\n",
    "    GROUP BY country_code\n",
    "),\n",
    "\n",
    "a_2013 AS (\n",
    "    SELECT country_code,\n",
    "           AVG(funding_total) AS avg\n",
    "    FROM company\n",
    "    WHERE EXTRACT(YEAR FROM founded_at) = 2013\n",
    "    GROUP BY country_code\n",
    ")\n",
    "\n",
    "SELECT a_2011.country_code, a_2011.avg AS avg_2011, a_2012.avg AS avg_2012, a_2013.avg AS avg_2013\n",
    "FROM a_2011\n",
    "JOIN a_2012 ON a_2011.country_code = a_2012.country_code\n",
    "JOIN a_2013 ON a_2011.country_code = a_2013.country_code\n",
    "ORDER BY avg_2011 DESC;\n",
    "```"
   ]
  }
 ],
 "metadata": {
  "kernelspec": {
   "display_name": "Python 3 (ipykernel)",
   "language": "python",
   "name": "python3"
  },
  "language_info": {
   "codemirror_mode": {
    "name": "ipython",
    "version": 3
   },
   "file_extension": ".py",
   "mimetype": "text/x-python",
   "name": "python",
   "nbconvert_exporter": "python",
   "pygments_lexer": "ipython3",
   "version": "3.9.5"
  }
 },
 "nbformat": 4,
 "nbformat_minor": 5
}
